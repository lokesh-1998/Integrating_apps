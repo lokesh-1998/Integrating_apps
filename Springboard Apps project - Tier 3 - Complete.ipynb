{
 "cells": [
  {
   "cell_type": "markdown",
   "metadata": {
    "colab_type": "text",
    "id": "i2RUFW7TFcuh"
   },
   "source": [
    "# Springboard Apps project - Tier 3 - Complete\n",
    "\n",
    "Welcome to the Apps project! To give you a taste of your future career, we're going to walk through exactly the kind of notebook that you'd write as a data scientist. In the process, we'll be sure to signpost the general framework for our investigation - the Data Science Pipeline - as well as give reasons for why we're doing what we're doing. We're also going to apply some of the skills and knowledge you've built up in the previous unit when reading Professor Spiegelhalter's *The Art of Statistics* (hereinafter *AoS*). \n",
    "\n",
    "So let's get cracking!\n",
    "\n",
    "**Brief**\n",
    "\n",
    "Did Apple Store apps receive better reviews than Google Play apps?\n",
    "\n",
    "## Stages of the project\n",
    "\n",
    "1. Sourcing and loading \n",
    "    * Load the two datasets\n",
    "    * Pick the columns that we are going to work with \n",
    "    * Subsetting the data on this basis \n",
    " \n",
    " \n",
    "2. Cleaning, transforming and visualizing\n",
    "    * Check the data types and fix them\n",
    "    * Add a `platform` column to both the `Apple` and the `Google` dataframes\n",
    "    * Changing the column names to prepare for a join \n",
    "    * Join the two data sets\n",
    "    * Eliminate the `NaN` values\n",
    "    * Filter only those apps that have been reviewed at least once\n",
    "    * Summarize the data visually and analytically (by the column `platform`)  \n",
    "  \n",
    "  \n",
    "3. Modelling \n",
    "    * Hypothesis formulation\n",
    "    * Getting the distribution of the data\n",
    "    * Permutation test \n",
    "\n",
    "\n",
    "4. Evaluating and concluding \n",
    "    * What is our conclusion?\n",
    "    * What is our decision?\n",
    "    * Other models we could have used. \n",
    "    "
   ]
  },
  {
   "cell_type": "markdown",
   "metadata": {
    "colab_type": "text",
    "id": "QLUAXtl1Fcuk"
   },
   "source": [
    "## Importing the libraries\n",
    "\n",
    "In this case we are going to import pandas, numpy, scipy, random and matplotlib.pyplot"
   ]
  },
  {
   "cell_type": "code",
   "execution_count": 90,
   "metadata": {
    "colab": {},
    "colab_type": "code",
    "id": "XeXJOlGiFcum"
   },
   "outputs": [],
   "source": [
    "import pandas as pd\n",
    "import numpy  as np\n",
    "import matplotlib.pyplot as plt\n",
    "# scipi is a library for statistical tests and visualizations \n",
    "from scipy import stats\n",
    "# random enables us to generate random numbers\n",
    "import random\n",
    "from itertools import permutations"
   ]
  },
  {
   "cell_type": "markdown",
   "metadata": {
    "colab_type": "text",
    "id": "zVD7NlPAFcup"
   },
   "source": [
    "## Stage 1 -  Sourcing and loading data"
   ]
  },
  {
   "cell_type": "markdown",
   "metadata": {
    "colab_type": "text",
    "id": "KU8bdbImFcuq"
   },
   "source": [
    "### 1a. Source and load the data\n",
    "Let's download the data from Kaggle. Kaggle is a fantastic resource: a kind of social medium for data scientists, it boasts projects, datasets and news on the freshest libraries and technologies all in one place. The data from the Apple Store can be found [here](https://www.kaggle.com/ramamet4/app-store-apple-data-set-10k-apps) and the data from Google Store can be found [here](https://www.kaggle.com/lava18/google-play-store-apps).\n",
    "Download the datasets and save them in your working directory."
   ]
  },
  {
   "cell_type": "code",
   "execution_count": 32,
   "metadata": {
    "colab": {},
    "colab_type": "code",
    "id": "laM1PB76Fcur"
   },
   "outputs": [
    {
     "data": {
      "text/html": [
       "<div>\n",
       "<style scoped>\n",
       "    .dataframe tbody tr th:only-of-type {\n",
       "        vertical-align: middle;\n",
       "    }\n",
       "\n",
       "    .dataframe tbody tr th {\n",
       "        vertical-align: top;\n",
       "    }\n",
       "\n",
       "    .dataframe thead th {\n",
       "        text-align: right;\n",
       "    }\n",
       "</style>\n",
       "<table border=\"1\" class=\"dataframe\">\n",
       "  <thead>\n",
       "    <tr style=\"text-align: right;\">\n",
       "      <th></th>\n",
       "      <th>App</th>\n",
       "      <th>Category</th>\n",
       "      <th>Rating</th>\n",
       "      <th>Reviews</th>\n",
       "      <th>Size</th>\n",
       "      <th>Installs</th>\n",
       "      <th>Type</th>\n",
       "      <th>Price</th>\n",
       "      <th>Content Rating</th>\n",
       "      <th>Genres</th>\n",
       "      <th>Last Updated</th>\n",
       "      <th>Current Ver</th>\n",
       "      <th>Android Ver</th>\n",
       "    </tr>\n",
       "  </thead>\n",
       "  <tbody>\n",
       "    <tr>\n",
       "      <th>0</th>\n",
       "      <td>Photo Editor &amp; Candy Camera &amp; Grid &amp; ScrapBook</td>\n",
       "      <td>ART_AND_DESIGN</td>\n",
       "      <td>4.1</td>\n",
       "      <td>159</td>\n",
       "      <td>19M</td>\n",
       "      <td>10,000+</td>\n",
       "      <td>Free</td>\n",
       "      <td>0</td>\n",
       "      <td>Everyone</td>\n",
       "      <td>Art &amp; Design</td>\n",
       "      <td>January 7, 2018</td>\n",
       "      <td>1.0.0</td>\n",
       "      <td>4.0.3 and up</td>\n",
       "    </tr>\n",
       "    <tr>\n",
       "      <th>1</th>\n",
       "      <td>Coloring book moana</td>\n",
       "      <td>ART_AND_DESIGN</td>\n",
       "      <td>3.9</td>\n",
       "      <td>967</td>\n",
       "      <td>14M</td>\n",
       "      <td>500,000+</td>\n",
       "      <td>Free</td>\n",
       "      <td>0</td>\n",
       "      <td>Everyone</td>\n",
       "      <td>Art &amp; Design;Pretend Play</td>\n",
       "      <td>January 15, 2018</td>\n",
       "      <td>2.0.0</td>\n",
       "      <td>4.0.3 and up</td>\n",
       "    </tr>\n",
       "    <tr>\n",
       "      <th>2</th>\n",
       "      <td>U Launcher Lite – FREE Live Cool Themes, Hide ...</td>\n",
       "      <td>ART_AND_DESIGN</td>\n",
       "      <td>4.7</td>\n",
       "      <td>87510</td>\n",
       "      <td>8.7M</td>\n",
       "      <td>5,000,000+</td>\n",
       "      <td>Free</td>\n",
       "      <td>0</td>\n",
       "      <td>Everyone</td>\n",
       "      <td>Art &amp; Design</td>\n",
       "      <td>August 1, 2018</td>\n",
       "      <td>1.2.4</td>\n",
       "      <td>4.0.3 and up</td>\n",
       "    </tr>\n",
       "    <tr>\n",
       "      <th>3</th>\n",
       "      <td>Sketch - Draw &amp; Paint</td>\n",
       "      <td>ART_AND_DESIGN</td>\n",
       "      <td>4.5</td>\n",
       "      <td>215644</td>\n",
       "      <td>25M</td>\n",
       "      <td>50,000,000+</td>\n",
       "      <td>Free</td>\n",
       "      <td>0</td>\n",
       "      <td>Teen</td>\n",
       "      <td>Art &amp; Design</td>\n",
       "      <td>June 8, 2018</td>\n",
       "      <td>Varies with device</td>\n",
       "      <td>4.2 and up</td>\n",
       "    </tr>\n",
       "    <tr>\n",
       "      <th>4</th>\n",
       "      <td>Pixel Draw - Number Art Coloring Book</td>\n",
       "      <td>ART_AND_DESIGN</td>\n",
       "      <td>4.3</td>\n",
       "      <td>967</td>\n",
       "      <td>2.8M</td>\n",
       "      <td>100,000+</td>\n",
       "      <td>Free</td>\n",
       "      <td>0</td>\n",
       "      <td>Everyone</td>\n",
       "      <td>Art &amp; Design;Creativity</td>\n",
       "      <td>June 20, 2018</td>\n",
       "      <td>1.1</td>\n",
       "      <td>4.4 and up</td>\n",
       "    </tr>\n",
       "  </tbody>\n",
       "</table>\n",
       "</div>"
      ],
      "text/plain": [
       "                                                 App        Category  Rating  \\\n",
       "0     Photo Editor & Candy Camera & Grid & ScrapBook  ART_AND_DESIGN     4.1   \n",
       "1                                Coloring book moana  ART_AND_DESIGN     3.9   \n",
       "2  U Launcher Lite – FREE Live Cool Themes, Hide ...  ART_AND_DESIGN     4.7   \n",
       "3                              Sketch - Draw & Paint  ART_AND_DESIGN     4.5   \n",
       "4              Pixel Draw - Number Art Coloring Book  ART_AND_DESIGN     4.3   \n",
       "\n",
       "  Reviews  Size     Installs  Type Price Content Rating  \\\n",
       "0     159   19M      10,000+  Free     0       Everyone   \n",
       "1     967   14M     500,000+  Free     0       Everyone   \n",
       "2   87510  8.7M   5,000,000+  Free     0       Everyone   \n",
       "3  215644   25M  50,000,000+  Free     0           Teen   \n",
       "4     967  2.8M     100,000+  Free     0       Everyone   \n",
       "\n",
       "                      Genres      Last Updated         Current Ver  \\\n",
       "0               Art & Design   January 7, 2018               1.0.0   \n",
       "1  Art & Design;Pretend Play  January 15, 2018               2.0.0   \n",
       "2               Art & Design    August 1, 2018               1.2.4   \n",
       "3               Art & Design      June 8, 2018  Varies with device   \n",
       "4    Art & Design;Creativity     June 20, 2018                 1.1   \n",
       "\n",
       "    Android Ver  \n",
       "0  4.0.3 and up  \n",
       "1  4.0.3 and up  \n",
       "2  4.0.3 and up  \n",
       "3    4.2 and up  \n",
       "4    4.4 and up  "
      ]
     },
     "execution_count": 32,
     "metadata": {},
     "output_type": "execute_result"
    }
   ],
   "source": [
    "# Now that the files are saved, we want to load them into Python using read_csv and pandas.\n",
    "\n",
    "# Create a variable called google, and store in it the path of the csv file that contains your google dataset. \n",
    "# If your dataset is in the same folder as this notebook, the path will simply be the name of the file. \n",
    "google=r'C:\\Users\\Loki\\Downloads\\1585016537_Apps_Case_Study\\Project Files\\googleplaystore.csv'\n",
    "# Read the csv file into a data frame called Google using the read_csv() pandas method.\n",
    "\n",
    "Google=pd.read_csv(google)\n",
    "# Using the head() pandas method, observe the first three entries.\n",
    "Google.head()"
   ]
  },
  {
   "cell_type": "code",
   "execution_count": 33,
   "metadata": {
    "colab": {},
    "colab_type": "code",
    "id": "3AW8EA1wFcuu"
   },
   "outputs": [
    {
     "data": {
      "text/html": [
       "<div>\n",
       "<style scoped>\n",
       "    .dataframe tbody tr th:only-of-type {\n",
       "        vertical-align: middle;\n",
       "    }\n",
       "\n",
       "    .dataframe tbody tr th {\n",
       "        vertical-align: top;\n",
       "    }\n",
       "\n",
       "    .dataframe thead th {\n",
       "        text-align: right;\n",
       "    }\n",
       "</style>\n",
       "<table border=\"1\" class=\"dataframe\">\n",
       "  <thead>\n",
       "    <tr style=\"text-align: right;\">\n",
       "      <th></th>\n",
       "      <th>Unnamed: 0</th>\n",
       "      <th>id</th>\n",
       "      <th>track_name</th>\n",
       "      <th>size_bytes</th>\n",
       "      <th>currency</th>\n",
       "      <th>price</th>\n",
       "      <th>rating_count_tot</th>\n",
       "      <th>rating_count_ver</th>\n",
       "      <th>user_rating</th>\n",
       "      <th>user_rating_ver</th>\n",
       "      <th>ver</th>\n",
       "      <th>cont_rating</th>\n",
       "      <th>prime_genre</th>\n",
       "      <th>sup_devices.num</th>\n",
       "      <th>ipadSc_urls.num</th>\n",
       "      <th>lang.num</th>\n",
       "      <th>vpp_lic</th>\n",
       "    </tr>\n",
       "  </thead>\n",
       "  <tbody>\n",
       "    <tr>\n",
       "      <th>0</th>\n",
       "      <td>1</td>\n",
       "      <td>281656475</td>\n",
       "      <td>PAC-MAN Premium</td>\n",
       "      <td>100788224</td>\n",
       "      <td>USD</td>\n",
       "      <td>3.99</td>\n",
       "      <td>21292</td>\n",
       "      <td>26</td>\n",
       "      <td>4.0</td>\n",
       "      <td>4.5</td>\n",
       "      <td>6.3.5</td>\n",
       "      <td>4+</td>\n",
       "      <td>Games</td>\n",
       "      <td>38</td>\n",
       "      <td>5</td>\n",
       "      <td>10</td>\n",
       "      <td>1</td>\n",
       "    </tr>\n",
       "    <tr>\n",
       "      <th>1</th>\n",
       "      <td>2</td>\n",
       "      <td>281796108</td>\n",
       "      <td>Evernote - stay organized</td>\n",
       "      <td>158578688</td>\n",
       "      <td>USD</td>\n",
       "      <td>0.00</td>\n",
       "      <td>161065</td>\n",
       "      <td>26</td>\n",
       "      <td>4.0</td>\n",
       "      <td>3.5</td>\n",
       "      <td>8.2.2</td>\n",
       "      <td>4+</td>\n",
       "      <td>Productivity</td>\n",
       "      <td>37</td>\n",
       "      <td>5</td>\n",
       "      <td>23</td>\n",
       "      <td>1</td>\n",
       "    </tr>\n",
       "    <tr>\n",
       "      <th>2</th>\n",
       "      <td>3</td>\n",
       "      <td>281940292</td>\n",
       "      <td>WeatherBug - Local Weather, Radar, Maps, Alerts</td>\n",
       "      <td>100524032</td>\n",
       "      <td>USD</td>\n",
       "      <td>0.00</td>\n",
       "      <td>188583</td>\n",
       "      <td>2822</td>\n",
       "      <td>3.5</td>\n",
       "      <td>4.5</td>\n",
       "      <td>5.0.0</td>\n",
       "      <td>4+</td>\n",
       "      <td>Weather</td>\n",
       "      <td>37</td>\n",
       "      <td>5</td>\n",
       "      <td>3</td>\n",
       "      <td>1</td>\n",
       "    </tr>\n",
       "    <tr>\n",
       "      <th>3</th>\n",
       "      <td>4</td>\n",
       "      <td>282614216</td>\n",
       "      <td>eBay: Best App to Buy, Sell, Save! Online Shop...</td>\n",
       "      <td>128512000</td>\n",
       "      <td>USD</td>\n",
       "      <td>0.00</td>\n",
       "      <td>262241</td>\n",
       "      <td>649</td>\n",
       "      <td>4.0</td>\n",
       "      <td>4.5</td>\n",
       "      <td>5.10.0</td>\n",
       "      <td>12+</td>\n",
       "      <td>Shopping</td>\n",
       "      <td>37</td>\n",
       "      <td>5</td>\n",
       "      <td>9</td>\n",
       "      <td>1</td>\n",
       "    </tr>\n",
       "    <tr>\n",
       "      <th>4</th>\n",
       "      <td>5</td>\n",
       "      <td>282935706</td>\n",
       "      <td>Bible</td>\n",
       "      <td>92774400</td>\n",
       "      <td>USD</td>\n",
       "      <td>0.00</td>\n",
       "      <td>985920</td>\n",
       "      <td>5320</td>\n",
       "      <td>4.5</td>\n",
       "      <td>5.0</td>\n",
       "      <td>7.5.1</td>\n",
       "      <td>4+</td>\n",
       "      <td>Reference</td>\n",
       "      <td>37</td>\n",
       "      <td>5</td>\n",
       "      <td>45</td>\n",
       "      <td>1</td>\n",
       "    </tr>\n",
       "  </tbody>\n",
       "</table>\n",
       "</div>"
      ],
      "text/plain": [
       "   Unnamed: 0         id                                         track_name  \\\n",
       "0           1  281656475                                    PAC-MAN Premium   \n",
       "1           2  281796108                          Evernote - stay organized   \n",
       "2           3  281940292    WeatherBug - Local Weather, Radar, Maps, Alerts   \n",
       "3           4  282614216  eBay: Best App to Buy, Sell, Save! Online Shop...   \n",
       "4           5  282935706                                              Bible   \n",
       "\n",
       "   size_bytes currency  price  rating_count_tot  rating_count_ver  \\\n",
       "0   100788224      USD   3.99             21292                26   \n",
       "1   158578688      USD   0.00            161065                26   \n",
       "2   100524032      USD   0.00            188583              2822   \n",
       "3   128512000      USD   0.00            262241               649   \n",
       "4    92774400      USD   0.00            985920              5320   \n",
       "\n",
       "   user_rating  user_rating_ver     ver cont_rating   prime_genre  \\\n",
       "0          4.0              4.5   6.3.5          4+         Games   \n",
       "1          4.0              3.5   8.2.2          4+  Productivity   \n",
       "2          3.5              4.5   5.0.0          4+       Weather   \n",
       "3          4.0              4.5  5.10.0         12+      Shopping   \n",
       "4          4.5              5.0   7.5.1          4+     Reference   \n",
       "\n",
       "   sup_devices.num  ipadSc_urls.num  lang.num  vpp_lic  \n",
       "0               38                5        10        1  \n",
       "1               37                5        23        1  \n",
       "2               37                5         3        1  \n",
       "3               37                5         9        1  \n",
       "4               37                5        45        1  "
      ]
     },
     "execution_count": 33,
     "metadata": {},
     "output_type": "execute_result"
    }
   ],
   "source": [
    "# Create a variable called apple, and store in it the path of the csv file that contains your apple dataset. \n",
    "\n",
    "apple=r'C:\\Users\\Loki\\Downloads\\1585016537_Apps_Case_Study\\Project Files\\AppleStore.csv'\n",
    "# Read the csv file into a pandas DataFrame object called Apple.\n",
    "Apple=pd.read_csv(apple)\n",
    "\n",
    "# Observe the first three entries like you did with your other data. \n",
    "Apple.head()"
   ]
  },
  {
   "cell_type": "markdown",
   "metadata": {
    "colab_type": "text",
    "id": "vljOHKNTFcuw"
   },
   "source": [
    "### 1b. Pick the columns we'll work with\n",
    "\n",
    "From the documentation of these datasets, we can infer that the most appropriate columns to answer the brief are:\n",
    "\n",
    "1. Google:\n",
    "    * `Category` # Do we need this?\n",
    "    * `Rating`\n",
    "    * `Reviews`\n",
    "    * `Price` (maybe)\n",
    "2. Apple:    \n",
    "    * `prime_genre` # Do we need this?\n",
    "    * `user_rating` \n",
    "    * `rating_count_tot`\n",
    "    * `price` (maybe)"
   ]
  },
  {
   "cell_type": "markdown",
   "metadata": {
    "colab_type": "text",
    "id": "uf69AeTvFcux"
   },
   "source": [
    "### 1c. Subsetting accordingly\n",
    "\n",
    "Let's select only those columns that we want to work with from both datasets. We'll overwrite the subsets in the original variables."
   ]
  },
  {
   "cell_type": "code",
   "execution_count": 34,
   "metadata": {
    "colab": {},
    "colab_type": "code",
    "id": "LNSDXyjdFcuy"
   },
   "outputs": [
    {
     "data": {
      "text/html": [
       "<div>\n",
       "<style scoped>\n",
       "    .dataframe tbody tr th:only-of-type {\n",
       "        vertical-align: middle;\n",
       "    }\n",
       "\n",
       "    .dataframe tbody tr th {\n",
       "        vertical-align: top;\n",
       "    }\n",
       "\n",
       "    .dataframe thead th {\n",
       "        text-align: right;\n",
       "    }\n",
       "</style>\n",
       "<table border=\"1\" class=\"dataframe\">\n",
       "  <thead>\n",
       "    <tr style=\"text-align: right;\">\n",
       "      <th></th>\n",
       "      <th>Category</th>\n",
       "      <th>Rating</th>\n",
       "      <th>Reviews</th>\n",
       "      <th>Price</th>\n",
       "    </tr>\n",
       "  </thead>\n",
       "  <tbody>\n",
       "    <tr>\n",
       "      <th>0</th>\n",
       "      <td>ART_AND_DESIGN</td>\n",
       "      <td>4.1</td>\n",
       "      <td>159</td>\n",
       "      <td>0</td>\n",
       "    </tr>\n",
       "    <tr>\n",
       "      <th>1</th>\n",
       "      <td>ART_AND_DESIGN</td>\n",
       "      <td>3.9</td>\n",
       "      <td>967</td>\n",
       "      <td>0</td>\n",
       "    </tr>\n",
       "    <tr>\n",
       "      <th>2</th>\n",
       "      <td>ART_AND_DESIGN</td>\n",
       "      <td>4.7</td>\n",
       "      <td>87510</td>\n",
       "      <td>0</td>\n",
       "    </tr>\n",
       "  </tbody>\n",
       "</table>\n",
       "</div>"
      ],
      "text/plain": [
       "         Category  Rating Reviews Price\n",
       "0  ART_AND_DESIGN     4.1     159     0\n",
       "1  ART_AND_DESIGN     3.9     967     0\n",
       "2  ART_AND_DESIGN     4.7   87510     0"
      ]
     },
     "execution_count": 34,
     "metadata": {},
     "output_type": "execute_result"
    }
   ],
   "source": [
    "# Subset our DataFrame object Google by selecting just the variables ['Category', 'Rating', 'Reviews', 'Price']\n",
    "\n",
    "Google=Google[['Category','Rating','Reviews','Price']]\n",
    "# Check the first three entries\n",
    "Google.head(3)"
   ]
  },
  {
   "cell_type": "code",
   "execution_count": 37,
   "metadata": {
    "colab": {},
    "colab_type": "code",
    "id": "AVCtENPtFcu0"
   },
   "outputs": [
    {
     "data": {
      "text/html": [
       "<div>\n",
       "<style scoped>\n",
       "    .dataframe tbody tr th:only-of-type {\n",
       "        vertical-align: middle;\n",
       "    }\n",
       "\n",
       "    .dataframe tbody tr th {\n",
       "        vertical-align: top;\n",
       "    }\n",
       "\n",
       "    .dataframe thead th {\n",
       "        text-align: right;\n",
       "    }\n",
       "</style>\n",
       "<table border=\"1\" class=\"dataframe\">\n",
       "  <thead>\n",
       "    <tr style=\"text-align: right;\">\n",
       "      <th></th>\n",
       "      <th>prime_genre</th>\n",
       "      <th>user_rating</th>\n",
       "      <th>rating_count_tot</th>\n",
       "      <th>price</th>\n",
       "    </tr>\n",
       "  </thead>\n",
       "  <tbody>\n",
       "    <tr>\n",
       "      <th>0</th>\n",
       "      <td>Games</td>\n",
       "      <td>4.0</td>\n",
       "      <td>21292</td>\n",
       "      <td>3.99</td>\n",
       "    </tr>\n",
       "    <tr>\n",
       "      <th>1</th>\n",
       "      <td>Productivity</td>\n",
       "      <td>4.0</td>\n",
       "      <td>161065</td>\n",
       "      <td>0.00</td>\n",
       "    </tr>\n",
       "    <tr>\n",
       "      <th>2</th>\n",
       "      <td>Weather</td>\n",
       "      <td>3.5</td>\n",
       "      <td>188583</td>\n",
       "      <td>0.00</td>\n",
       "    </tr>\n",
       "  </tbody>\n",
       "</table>\n",
       "</div>"
      ],
      "text/plain": [
       "    prime_genre  user_rating  rating_count_tot  price\n",
       "0         Games          4.0             21292   3.99\n",
       "1  Productivity          4.0            161065   0.00\n",
       "2       Weather          3.5            188583   0.00"
      ]
     },
     "execution_count": 37,
     "metadata": {},
     "output_type": "execute_result"
    }
   ],
   "source": [
    "# Do the same with our Apple object, selecting just the variables ['prime_genre', 'user_rating', 'rating_count_tot', 'price']\n",
    "Apple=Apple[['prime_genre','user_rating','rating_count_tot','price']]\n",
    "\n",
    "# Let's check the first three entries\n",
    "Apple.head(3)"
   ]
  },
  {
   "cell_type": "markdown",
   "metadata": {
    "colab_type": "text",
    "id": "wwK2wH-rFcu2"
   },
   "source": [
    "## Stage 2 -  Cleaning, transforming and visualizing"
   ]
  },
  {
   "cell_type": "markdown",
   "metadata": {
    "colab_type": "text",
    "id": "NsoE5x0JFcu3"
   },
   "source": [
    "### 2a. Check the data types for both Apple and Google, and fix them\n",
    "\n",
    "Types are crucial for data science in Python. Let's determine whether the variables we selected in the previous section belong to the types they should do, or whether there are any errors here. "
   ]
  },
  {
   "cell_type": "code",
   "execution_count": 36,
   "metadata": {
    "colab": {},
    "colab_type": "code",
    "id": "ymw10SaWFcu4"
   },
   "outputs": [
    {
     "name": "stdout",
     "output_type": "stream",
     "text": [
      "<class 'pandas.core.frame.DataFrame'>\n",
      "RangeIndex: 7197 entries, 0 to 7196\n",
      "Data columns (total 4 columns):\n",
      " #   Column            Non-Null Count  Dtype  \n",
      "---  ------            --------------  -----  \n",
      " 0   prime_genre       7197 non-null   object \n",
      " 1   user_rating       7197 non-null   float64\n",
      " 2   rating_count_tot  7197 non-null   int64  \n",
      " 3   price             7197 non-null   float64\n",
      "dtypes: float64(2), int64(1), object(1)\n",
      "memory usage: 225.0+ KB\n"
     ]
    }
   ],
   "source": [
    "# Using the dtypes feature of pandas DataFrame objects, check out the data types within our Apple dataframe.\n",
    "# Are they what you expect?\n",
    "Apple.info()"
   ]
  },
  {
   "cell_type": "markdown",
   "metadata": {
    "colab_type": "text",
    "id": "VAiM6jIxFcu6"
   },
   "source": [
    "This is looking healthy. But what about our Google data frame?"
   ]
  },
  {
   "cell_type": "code",
   "execution_count": 38,
   "metadata": {
    "colab": {},
    "colab_type": "code",
    "id": "kmP8MhqyFcu7"
   },
   "outputs": [
    {
     "name": "stdout",
     "output_type": "stream",
     "text": [
      "<class 'pandas.core.frame.DataFrame'>\n",
      "RangeIndex: 10841 entries, 0 to 10840\n",
      "Data columns (total 4 columns):\n",
      " #   Column    Non-Null Count  Dtype  \n",
      "---  ------    --------------  -----  \n",
      " 0   Category  10841 non-null  object \n",
      " 1   Rating    9367 non-null   float64\n",
      " 2   Reviews   10841 non-null  object \n",
      " 3   Price     10841 non-null  object \n",
      "dtypes: float64(1), object(3)\n",
      "memory usage: 338.9+ KB\n"
     ]
    }
   ],
   "source": [
    "# Using the same dtypes feature, check out the data types of our Google dataframe. \n",
    "Google.info()"
   ]
  },
  {
   "cell_type": "code",
   "execution_count": 39,
   "metadata": {},
   "outputs": [
    {
     "data": {
      "text/html": [
       "<div>\n",
       "<style scoped>\n",
       "    .dataframe tbody tr th:only-of-type {\n",
       "        vertical-align: middle;\n",
       "    }\n",
       "\n",
       "    .dataframe tbody tr th {\n",
       "        vertical-align: top;\n",
       "    }\n",
       "\n",
       "    .dataframe thead th {\n",
       "        text-align: right;\n",
       "    }\n",
       "</style>\n",
       "<table border=\"1\" class=\"dataframe\">\n",
       "  <thead>\n",
       "    <tr style=\"text-align: right;\">\n",
       "      <th></th>\n",
       "      <th>Category</th>\n",
       "      <th>Rating</th>\n",
       "      <th>Reviews</th>\n",
       "      <th>Price</th>\n",
       "    </tr>\n",
       "  </thead>\n",
       "  <tbody>\n",
       "    <tr>\n",
       "      <th>0</th>\n",
       "      <td>ART_AND_DESIGN</td>\n",
       "      <td>4.1</td>\n",
       "      <td>159</td>\n",
       "      <td>0</td>\n",
       "    </tr>\n",
       "    <tr>\n",
       "      <th>1</th>\n",
       "      <td>ART_AND_DESIGN</td>\n",
       "      <td>3.9</td>\n",
       "      <td>967</td>\n",
       "      <td>0</td>\n",
       "    </tr>\n",
       "    <tr>\n",
       "      <th>2</th>\n",
       "      <td>ART_AND_DESIGN</td>\n",
       "      <td>4.7</td>\n",
       "      <td>87510</td>\n",
       "      <td>0</td>\n",
       "    </tr>\n",
       "    <tr>\n",
       "      <th>3</th>\n",
       "      <td>ART_AND_DESIGN</td>\n",
       "      <td>4.5</td>\n",
       "      <td>215644</td>\n",
       "      <td>0</td>\n",
       "    </tr>\n",
       "    <tr>\n",
       "      <th>4</th>\n",
       "      <td>ART_AND_DESIGN</td>\n",
       "      <td>4.3</td>\n",
       "      <td>967</td>\n",
       "      <td>0</td>\n",
       "    </tr>\n",
       "  </tbody>\n",
       "</table>\n",
       "</div>"
      ],
      "text/plain": [
       "         Category  Rating Reviews Price\n",
       "0  ART_AND_DESIGN     4.1     159     0\n",
       "1  ART_AND_DESIGN     3.9     967     0\n",
       "2  ART_AND_DESIGN     4.7   87510     0\n",
       "3  ART_AND_DESIGN     4.5  215644     0\n",
       "4  ART_AND_DESIGN     4.3     967     0"
      ]
     },
     "execution_count": 39,
     "metadata": {},
     "output_type": "execute_result"
    }
   ],
   "source": [
    "Google.head()"
   ]
  },
  {
   "cell_type": "markdown",
   "metadata": {
    "colab_type": "text",
    "id": "O-dxAy0WFcu9"
   },
   "source": [
    "Weird. The data type for the column 'Price' is 'object', not a numeric data type like a float or an integer. Let's investigate the unique values of this column. "
   ]
  },
  {
   "cell_type": "code",
   "execution_count": 40,
   "metadata": {
    "colab": {},
    "colab_type": "code",
    "id": "Hu08K9y7Fcu9"
   },
   "outputs": [
    {
     "data": {
      "text/plain": [
       "array([  3.99,   0.  ,   0.99,   9.99,   4.99,   7.99,   2.99,   1.99,\n",
       "         5.99,  12.99,  21.99, 249.99,   6.99,  74.99,  19.99,   8.99,\n",
       "        24.99,  13.99,  14.99,  16.99,  47.99,  11.99,  59.99,  15.99,\n",
       "        27.99,  17.99, 299.99,  49.99,  23.99,  20.99,  39.99,  99.99,\n",
       "        29.99,  34.99,  18.99,  22.99])"
      ]
     },
     "execution_count": 40,
     "metadata": {},
     "output_type": "execute_result"
    }
   ],
   "source": [
    "# Use the unique() pandas method on the Price column to check its unique values. \n",
    "Apple.price.unique()"
   ]
  },
  {
   "cell_type": "code",
   "execution_count": 41,
   "metadata": {},
   "outputs": [
    {
     "data": {
      "text/plain": [
       "array(['0', '$4.99', '$3.99', '$6.99', '$1.49', '$2.99', '$7.99', '$5.99',\n",
       "       '$3.49', '$1.99', '$9.99', '$7.49', '$0.99', '$9.00', '$5.49',\n",
       "       '$10.00', '$24.99', '$11.99', '$79.99', '$16.99', '$14.99',\n",
       "       '$1.00', '$29.99', '$12.99', '$2.49', '$10.99', '$1.50', '$19.99',\n",
       "       '$15.99', '$33.99', '$74.99', '$39.99', '$3.95', '$4.49', '$1.70',\n",
       "       '$8.99', '$2.00', '$3.88', '$25.99', '$399.99', '$17.99',\n",
       "       '$400.00', '$3.02', '$1.76', '$4.84', '$4.77', '$1.61', '$2.50',\n",
       "       '$1.59', '$6.49', '$1.29', '$5.00', '$13.99', '$299.99', '$379.99',\n",
       "       '$37.99', '$18.99', '$389.99', '$19.90', '$8.49', '$1.75',\n",
       "       '$14.00', '$4.85', '$46.99', '$109.99', '$154.99', '$3.08',\n",
       "       '$2.59', '$4.80', '$1.96', '$19.40', '$3.90', '$4.59', '$15.46',\n",
       "       '$3.04', '$4.29', '$2.60', '$3.28', '$4.60', '$28.99', '$2.95',\n",
       "       '$2.90', '$1.97', '$200.00', '$89.99', '$2.56', '$30.99', '$3.61',\n",
       "       '$394.99', '$1.26', 'Everyone', '$1.20', '$1.04'], dtype=object)"
      ]
     },
     "execution_count": 41,
     "metadata": {},
     "output_type": "execute_result"
    }
   ],
   "source": [
    "Google.Price.unique()"
   ]
  },
  {
   "cell_type": "markdown",
   "metadata": {
    "colab_type": "text",
    "id": "w_7nkogFFcu_"
   },
   "source": [
    "Aha! Fascinating. There are actually two issues here. \n",
    "\n",
    "- Firstly, there's a price called `Everyone`. That is a massive mistake! \n",
    "- Secondly, there are dollar symbols everywhere! \n",
    "\n",
    "\n",
    "Let's address the first issue first. Let's check the datapoints that have the price value `Everyone`"
   ]
  },
  {
   "cell_type": "code",
   "execution_count": 42,
   "metadata": {
    "colab": {},
    "colab_type": "code",
    "id": "E75WWmhdFcvA"
   },
   "outputs": [
    {
     "data": {
      "text/html": [
       "<div>\n",
       "<style scoped>\n",
       "    .dataframe tbody tr th:only-of-type {\n",
       "        vertical-align: middle;\n",
       "    }\n",
       "\n",
       "    .dataframe tbody tr th {\n",
       "        vertical-align: top;\n",
       "    }\n",
       "\n",
       "    .dataframe thead th {\n",
       "        text-align: right;\n",
       "    }\n",
       "</style>\n",
       "<table border=\"1\" class=\"dataframe\">\n",
       "  <thead>\n",
       "    <tr style=\"text-align: right;\">\n",
       "      <th></th>\n",
       "      <th>Category</th>\n",
       "      <th>Rating</th>\n",
       "      <th>Reviews</th>\n",
       "      <th>Price</th>\n",
       "    </tr>\n",
       "  </thead>\n",
       "  <tbody>\n",
       "    <tr>\n",
       "      <th>10472</th>\n",
       "      <td>1.9</td>\n",
       "      <td>19.0</td>\n",
       "      <td>3.0M</td>\n",
       "      <td>Everyone</td>\n",
       "    </tr>\n",
       "  </tbody>\n",
       "</table>\n",
       "</div>"
      ],
      "text/plain": [
       "      Category  Rating Reviews     Price\n",
       "10472      1.9    19.0    3.0M  Everyone"
      ]
     },
     "execution_count": 42,
     "metadata": {},
     "output_type": "execute_result"
    }
   ],
   "source": [
    "# Let's check which data points have the value 'Everyone' for the 'Price' column by subsetting our Google dataframe.\n",
    "\n",
    "# Subset the Google dataframe on the price column. \n",
    "# To be sure: you want to pick out just those rows whose value for the 'Price' column is just 'Everyone'. \n",
    "Google[Google.Price=='Everyone']"
   ]
  },
  {
   "cell_type": "markdown",
   "metadata": {
    "colab_type": "text",
    "id": "ezfLshdRFcvC"
   },
   "source": [
    "Thankfully, it's just one row. We've gotta get rid of it. "
   ]
  },
  {
   "cell_type": "code",
   "execution_count": 43,
   "metadata": {
    "colab": {},
    "colab_type": "code",
    "id": "DBmjUQUkFcvD"
   },
   "outputs": [
    {
     "data": {
      "text/plain": [
       "array(['0', '$4.99', '$3.99', '$6.99', '$1.49', '$2.99', '$7.99', '$5.99',\n",
       "       '$3.49', '$1.99', '$9.99', '$7.49', '$0.99', '$9.00', '$5.49',\n",
       "       '$10.00', '$24.99', '$11.99', '$79.99', '$16.99', '$14.99',\n",
       "       '$1.00', '$29.99', '$12.99', '$2.49', '$10.99', '$1.50', '$19.99',\n",
       "       '$15.99', '$33.99', '$74.99', '$39.99', '$3.95', '$4.49', '$1.70',\n",
       "       '$8.99', '$2.00', '$3.88', '$25.99', '$399.99', '$17.99',\n",
       "       '$400.00', '$3.02', '$1.76', '$4.84', '$4.77', '$1.61', '$2.50',\n",
       "       '$1.59', '$6.49', '$1.29', '$5.00', '$13.99', '$299.99', '$379.99',\n",
       "       '$37.99', '$18.99', '$389.99', '$19.90', '$8.49', '$1.75',\n",
       "       '$14.00', '$4.85', '$46.99', '$109.99', '$154.99', '$3.08',\n",
       "       '$2.59', '$4.80', '$1.96', '$19.40', '$3.90', '$4.59', '$15.46',\n",
       "       '$3.04', '$4.29', '$2.60', '$3.28', '$4.60', '$28.99', '$2.95',\n",
       "       '$2.90', '$1.97', '$200.00', '$89.99', '$2.56', '$30.99', '$3.61',\n",
       "       '$394.99', '$1.26', '$1.20', '$1.04'], dtype=object)"
      ]
     },
     "execution_count": 43,
     "metadata": {},
     "output_type": "execute_result"
    }
   ],
   "source": [
    "# Let's eliminate that row. \n",
    "\n",
    "# Subset our Google dataframe to pick out just those rows whose value for the 'Price' column is NOT 'Everyone'. \n",
    "# Reassign that subset to the Google variable. \n",
    "# You can do this in two lines or one. Your choice! \n",
    "Google=Google[Google.Price!='Everyone']\n",
    "# Check again the unique values of Google\n",
    "Google.Price.unique()"
   ]
  },
  {
   "cell_type": "markdown",
   "metadata": {
    "colab_type": "text",
    "id": "T43TB4qFFcvF"
   },
   "source": [
    "Our second problem remains: I'm seeing dollar symbols when I close my eyes! (And not in a good way). \n",
    "\n",
    "This is a problem because Python actually considers these values strings. So we can't do mathematical and statistical operations on them until we've made them into numbers. "
   ]
  },
  {
   "cell_type": "code",
   "execution_count": 44,
   "metadata": {
    "colab": {},
    "colab_type": "code",
    "id": "W87gVS9BFcvG"
   },
   "outputs": [],
   "source": [
    "# Let's create a variable called nosymb.\n",
    "# This variable will take the Price column of Google and apply the str.replace() method.\n",
    "nosymb=Google.Price.str.replace('$',' ')\n",
    "# Now we need to do two things:\n",
    "# i. Make the values in the nosymb variable numeric using the to_numeric() pandas method.\n",
    "# ii. Assign this new set of numeric, dollar-sign-less values to Google['Price']. \n",
    "# You can do this in one line if you wish.\n",
    "Google['Price']=nosymb"
   ]
  },
  {
   "cell_type": "code",
   "execution_count": 45,
   "metadata": {},
   "outputs": [],
   "source": [
    "Google['Price']=Google['Price'].str.strip()"
   ]
  },
  {
   "cell_type": "code",
   "execution_count": 46,
   "metadata": {},
   "outputs": [
    {
     "data": {
      "text/plain": [
       "array(['0', '4.99', '3.99', '6.99', '1.49', '2.99', '7.99', '5.99',\n",
       "       '3.49', '1.99', '9.99', '7.49', '0.99', '9.00', '5.49', '10.00',\n",
       "       '24.99', '11.99', '79.99', '16.99', '14.99', '1.00', '29.99',\n",
       "       '12.99', '2.49', '10.99', '1.50', '19.99', '15.99', '33.99',\n",
       "       '74.99', '39.99', '3.95', '4.49', '1.70', '8.99', '2.00', '3.88',\n",
       "       '25.99', '399.99', '17.99', '400.00', '3.02', '1.76', '4.84',\n",
       "       '4.77', '1.61', '2.50', '1.59', '6.49', '1.29', '5.00', '13.99',\n",
       "       '299.99', '379.99', '37.99', '18.99', '389.99', '19.90', '8.49',\n",
       "       '1.75', '14.00', '4.85', '46.99', '109.99', '154.99', '3.08',\n",
       "       '2.59', '4.80', '1.96', '19.40', '3.90', '4.59', '15.46', '3.04',\n",
       "       '4.29', '2.60', '3.28', '4.60', '28.99', '2.95', '2.90', '1.97',\n",
       "       '200.00', '89.99', '2.56', '30.99', '3.61', '394.99', '1.26',\n",
       "       '1.20', '1.04'], dtype=object)"
      ]
     },
     "execution_count": 46,
     "metadata": {},
     "output_type": "execute_result"
    }
   ],
   "source": [
    "Google.Price.unique()"
   ]
  },
  {
   "cell_type": "code",
   "execution_count": 47,
   "metadata": {},
   "outputs": [],
   "source": [
    "Google['Price']=pd.to_numeric(Google['Price'])"
   ]
  },
  {
   "cell_type": "markdown",
   "metadata": {
    "colab_type": "text",
    "id": "LxpJQ9yyFcvI"
   },
   "source": [
    "Now let's check the data types for our Google dataframe again, to verify that the 'Price' column really is numeric now."
   ]
  },
  {
   "cell_type": "code",
   "execution_count": 48,
   "metadata": {
    "colab": {},
    "colab_type": "code",
    "id": "Fn5Gt-QbFcvI"
   },
   "outputs": [
    {
     "data": {
      "text/plain": [
       "dtype('float64')"
      ]
     },
     "execution_count": 48,
     "metadata": {},
     "output_type": "execute_result"
    }
   ],
   "source": [
    "# Use the function dtypes. \n",
    "Google['Price'].dtypes"
   ]
  },
  {
   "cell_type": "markdown",
   "metadata": {
    "colab_type": "text",
    "id": "FgfuiVo0FcvK"
   },
   "source": [
    "Notice that the column `Reviews` is still an object column. We actually need this column to be a numeric column, too. "
   ]
  },
  {
   "cell_type": "code",
   "execution_count": 49,
   "metadata": {
    "colab": {},
    "colab_type": "code",
    "id": "MiVEWsWBFcvL"
   },
   "outputs": [],
   "source": [
    "# Convert the 'Reviews' column to a numeric data type. \n",
    "Google['Reviews']=pd.to_numeric(Google['Reviews'])"
   ]
  },
  {
   "cell_type": "code",
   "execution_count": 50,
   "metadata": {
    "colab": {},
    "colab_type": "code",
    "id": "wWJdXXTTFcvN"
   },
   "outputs": [
    {
     "data": {
      "text/plain": [
       "dtype('int64')"
      ]
     },
     "execution_count": 50,
     "metadata": {},
     "output_type": "execute_result"
    }
   ],
   "source": [
    "# Let's check the data types of Google again\n",
    "Google['Reviews'].dtypes"
   ]
  },
  {
   "cell_type": "markdown",
   "metadata": {
    "colab_type": "text",
    "id": "OiLm2GEKFcvP"
   },
   "source": [
    "### 2b. Add a `platform` column to both the `Apple` and the `Google` dataframes\n",
    "Let's add a new column to both dataframe objects called `platform`: all of its values in the Google dataframe will be just 'google', and all of its values for the Apple dataframe will be just 'apple'. \n",
    "\n",
    "The reason we're making this column is so that we can ultimately join our Apple and Google data together, and actually test out some hypotheses to solve the problem in our brief. "
   ]
  },
  {
   "cell_type": "code",
   "execution_count": 51,
   "metadata": {
    "colab": {},
    "colab_type": "code",
    "id": "mF-sOcx2FcvQ"
   },
   "outputs": [],
   "source": [
    "# Create a column called 'platform' in both the Apple and Google dataframes. \n",
    "# Add the value 'apple' and the value 'google' as appropriate. \n",
    "Google['platform']='google'\n",
    "\n",
    "Apple['platform']='apple'"
   ]
  },
  {
   "cell_type": "markdown",
   "metadata": {
    "colab_type": "text",
    "id": "EJcry17IFcvS"
   },
   "source": [
    "### 2c. Changing the column names to prepare for our join of the two datasets \n",
    "Since the easiest way to join two datasets is if they have both:\n",
    "- the same number of columns\n",
    "- the same column names\n",
    "we need to rename the columns of `Apple` so that they're the same as the ones of `Google`, or vice versa.\n",
    "\n",
    "In this case, we're going to change the `Apple` columns names to the names of the `Google` columns. \n",
    "\n",
    "This is an important step to unify the two datasets!"
   ]
  },
  {
   "cell_type": "code",
   "execution_count": 52,
   "metadata": {},
   "outputs": [
    {
     "data": {
      "text/plain": [
       "Index(['Category', 'Rating', 'Reviews', 'Price', 'platform'], dtype='object')"
      ]
     },
     "execution_count": 52,
     "metadata": {},
     "output_type": "execute_result"
    }
   ],
   "source": [
    "Google.columns"
   ]
  },
  {
   "cell_type": "code",
   "execution_count": 53,
   "metadata": {
    "colab": {},
    "colab_type": "code",
    "id": "bdt9XH2KFcvT"
   },
   "outputs": [],
   "source": [
    "# Create a variable called old_names where you'll store the column names of the Apple dataframe. \n",
    "# Use the feature .columns.\n",
    "old_names=Apple.columns\n",
    "\n",
    "# Create a variable called new_names where you'll store the column names of the Google dataframe. \n",
    "new_names=Google.columns\n",
    "# Use the rename() DataFrame method to change the columns names. \n",
    "\n",
    "Apple=Apple.rename(columns=dict(zip(old_names,new_names)))"
   ]
  },
  {
   "cell_type": "markdown",
   "metadata": {
    "colab_type": "text",
    "id": "qewPiLrRFcvX"
   },
   "source": [
    "### 2d. Join the two datasets \n",
    "Let's combine the two datasets into a single data frame called `df`."
   ]
  },
  {
   "cell_type": "code",
   "execution_count": 54,
   "metadata": {},
   "outputs": [],
   "source": [
    "df=pd.DataFrame(Apple)"
   ]
  },
  {
   "cell_type": "code",
   "execution_count": 55,
   "metadata": {},
   "outputs": [
    {
     "data": {
      "text/html": [
       "<div>\n",
       "<style scoped>\n",
       "    .dataframe tbody tr th:only-of-type {\n",
       "        vertical-align: middle;\n",
       "    }\n",
       "\n",
       "    .dataframe tbody tr th {\n",
       "        vertical-align: top;\n",
       "    }\n",
       "\n",
       "    .dataframe thead th {\n",
       "        text-align: right;\n",
       "    }\n",
       "</style>\n",
       "<table border=\"1\" class=\"dataframe\">\n",
       "  <thead>\n",
       "    <tr style=\"text-align: right;\">\n",
       "      <th></th>\n",
       "      <th>Category</th>\n",
       "      <th>Rating</th>\n",
       "      <th>Reviews</th>\n",
       "      <th>Price</th>\n",
       "      <th>platform</th>\n",
       "    </tr>\n",
       "  </thead>\n",
       "  <tbody>\n",
       "    <tr>\n",
       "      <th>0</th>\n",
       "      <td>Games</td>\n",
       "      <td>4.0</td>\n",
       "      <td>21292</td>\n",
       "      <td>3.99</td>\n",
       "      <td>apple</td>\n",
       "    </tr>\n",
       "    <tr>\n",
       "      <th>1</th>\n",
       "      <td>Productivity</td>\n",
       "      <td>4.0</td>\n",
       "      <td>161065</td>\n",
       "      <td>0.00</td>\n",
       "      <td>apple</td>\n",
       "    </tr>\n",
       "    <tr>\n",
       "      <th>2</th>\n",
       "      <td>Weather</td>\n",
       "      <td>3.5</td>\n",
       "      <td>188583</td>\n",
       "      <td>0.00</td>\n",
       "      <td>apple</td>\n",
       "    </tr>\n",
       "    <tr>\n",
       "      <th>3</th>\n",
       "      <td>Shopping</td>\n",
       "      <td>4.0</td>\n",
       "      <td>262241</td>\n",
       "      <td>0.00</td>\n",
       "      <td>apple</td>\n",
       "    </tr>\n",
       "    <tr>\n",
       "      <th>4</th>\n",
       "      <td>Reference</td>\n",
       "      <td>4.5</td>\n",
       "      <td>985920</td>\n",
       "      <td>0.00</td>\n",
       "      <td>apple</td>\n",
       "    </tr>\n",
       "    <tr>\n",
       "      <th>...</th>\n",
       "      <td>...</td>\n",
       "      <td>...</td>\n",
       "      <td>...</td>\n",
       "      <td>...</td>\n",
       "      <td>...</td>\n",
       "    </tr>\n",
       "    <tr>\n",
       "      <th>7192</th>\n",
       "      <td>Games</td>\n",
       "      <td>4.5</td>\n",
       "      <td>142</td>\n",
       "      <td>0.00</td>\n",
       "      <td>apple</td>\n",
       "    </tr>\n",
       "    <tr>\n",
       "      <th>7193</th>\n",
       "      <td>Games</td>\n",
       "      <td>4.5</td>\n",
       "      <td>30</td>\n",
       "      <td>0.00</td>\n",
       "      <td>apple</td>\n",
       "    </tr>\n",
       "    <tr>\n",
       "      <th>7194</th>\n",
       "      <td>Utilities</td>\n",
       "      <td>4.5</td>\n",
       "      <td>15</td>\n",
       "      <td>1.99</td>\n",
       "      <td>apple</td>\n",
       "    </tr>\n",
       "    <tr>\n",
       "      <th>7195</th>\n",
       "      <td>Games</td>\n",
       "      <td>4.5</td>\n",
       "      <td>85</td>\n",
       "      <td>0.00</td>\n",
       "      <td>apple</td>\n",
       "    </tr>\n",
       "    <tr>\n",
       "      <th>7196</th>\n",
       "      <td>Games</td>\n",
       "      <td>5.0</td>\n",
       "      <td>3</td>\n",
       "      <td>0.00</td>\n",
       "      <td>apple</td>\n",
       "    </tr>\n",
       "  </tbody>\n",
       "</table>\n",
       "<p>7197 rows × 5 columns</p>\n",
       "</div>"
      ],
      "text/plain": [
       "          Category  Rating  Reviews  Price platform\n",
       "0            Games     4.0    21292   3.99    apple\n",
       "1     Productivity     4.0   161065   0.00    apple\n",
       "2          Weather     3.5   188583   0.00    apple\n",
       "3         Shopping     4.0   262241   0.00    apple\n",
       "4        Reference     4.5   985920   0.00    apple\n",
       "...            ...     ...      ...    ...      ...\n",
       "7192         Games     4.5      142   0.00    apple\n",
       "7193         Games     4.5       30   0.00    apple\n",
       "7194     Utilities     4.5       15   1.99    apple\n",
       "7195         Games     4.5       85   0.00    apple\n",
       "7196         Games     5.0        3   0.00    apple\n",
       "\n",
       "[7197 rows x 5 columns]"
      ]
     },
     "execution_count": 55,
     "metadata": {},
     "output_type": "execute_result"
    }
   ],
   "source": [
    "df"
   ]
  },
  {
   "cell_type": "code",
   "execution_count": 56,
   "metadata": {},
   "outputs": [
    {
     "data": {
      "text/html": [
       "<div>\n",
       "<style scoped>\n",
       "    .dataframe tbody tr th:only-of-type {\n",
       "        vertical-align: middle;\n",
       "    }\n",
       "\n",
       "    .dataframe tbody tr th {\n",
       "        vertical-align: top;\n",
       "    }\n",
       "\n",
       "    .dataframe thead th {\n",
       "        text-align: right;\n",
       "    }\n",
       "</style>\n",
       "<table border=\"1\" class=\"dataframe\">\n",
       "  <thead>\n",
       "    <tr style=\"text-align: right;\">\n",
       "      <th></th>\n",
       "      <th>Category</th>\n",
       "      <th>Rating</th>\n",
       "      <th>Reviews</th>\n",
       "      <th>Price</th>\n",
       "      <th>platform</th>\n",
       "    </tr>\n",
       "  </thead>\n",
       "  <tbody>\n",
       "    <tr>\n",
       "      <th>0</th>\n",
       "      <td>ART_AND_DESIGN</td>\n",
       "      <td>4.1</td>\n",
       "      <td>159</td>\n",
       "      <td>0.0</td>\n",
       "      <td>google</td>\n",
       "    </tr>\n",
       "    <tr>\n",
       "      <th>1</th>\n",
       "      <td>ART_AND_DESIGN</td>\n",
       "      <td>3.9</td>\n",
       "      <td>967</td>\n",
       "      <td>0.0</td>\n",
       "      <td>google</td>\n",
       "    </tr>\n",
       "    <tr>\n",
       "      <th>2</th>\n",
       "      <td>ART_AND_DESIGN</td>\n",
       "      <td>4.7</td>\n",
       "      <td>87510</td>\n",
       "      <td>0.0</td>\n",
       "      <td>google</td>\n",
       "    </tr>\n",
       "    <tr>\n",
       "      <th>3</th>\n",
       "      <td>ART_AND_DESIGN</td>\n",
       "      <td>4.5</td>\n",
       "      <td>215644</td>\n",
       "      <td>0.0</td>\n",
       "      <td>google</td>\n",
       "    </tr>\n",
       "    <tr>\n",
       "      <th>4</th>\n",
       "      <td>ART_AND_DESIGN</td>\n",
       "      <td>4.3</td>\n",
       "      <td>967</td>\n",
       "      <td>0.0</td>\n",
       "      <td>google</td>\n",
       "    </tr>\n",
       "    <tr>\n",
       "      <th>...</th>\n",
       "      <td>...</td>\n",
       "      <td>...</td>\n",
       "      <td>...</td>\n",
       "      <td>...</td>\n",
       "      <td>...</td>\n",
       "    </tr>\n",
       "    <tr>\n",
       "      <th>10836</th>\n",
       "      <td>FAMILY</td>\n",
       "      <td>4.5</td>\n",
       "      <td>38</td>\n",
       "      <td>0.0</td>\n",
       "      <td>google</td>\n",
       "    </tr>\n",
       "    <tr>\n",
       "      <th>10837</th>\n",
       "      <td>FAMILY</td>\n",
       "      <td>5.0</td>\n",
       "      <td>4</td>\n",
       "      <td>0.0</td>\n",
       "      <td>google</td>\n",
       "    </tr>\n",
       "    <tr>\n",
       "      <th>10838</th>\n",
       "      <td>MEDICAL</td>\n",
       "      <td>NaN</td>\n",
       "      <td>3</td>\n",
       "      <td>0.0</td>\n",
       "      <td>google</td>\n",
       "    </tr>\n",
       "    <tr>\n",
       "      <th>10839</th>\n",
       "      <td>BOOKS_AND_REFERENCE</td>\n",
       "      <td>4.5</td>\n",
       "      <td>114</td>\n",
       "      <td>0.0</td>\n",
       "      <td>google</td>\n",
       "    </tr>\n",
       "    <tr>\n",
       "      <th>10840</th>\n",
       "      <td>LIFESTYLE</td>\n",
       "      <td>4.5</td>\n",
       "      <td>398307</td>\n",
       "      <td>0.0</td>\n",
       "      <td>google</td>\n",
       "    </tr>\n",
       "  </tbody>\n",
       "</table>\n",
       "<p>10840 rows × 5 columns</p>\n",
       "</div>"
      ],
      "text/plain": [
       "                  Category  Rating  Reviews  Price platform\n",
       "0           ART_AND_DESIGN     4.1      159    0.0   google\n",
       "1           ART_AND_DESIGN     3.9      967    0.0   google\n",
       "2           ART_AND_DESIGN     4.7    87510    0.0   google\n",
       "3           ART_AND_DESIGN     4.5   215644    0.0   google\n",
       "4           ART_AND_DESIGN     4.3      967    0.0   google\n",
       "...                    ...     ...      ...    ...      ...\n",
       "10836               FAMILY     4.5       38    0.0   google\n",
       "10837               FAMILY     5.0        4    0.0   google\n",
       "10838              MEDICAL     NaN        3    0.0   google\n",
       "10839  BOOKS_AND_REFERENCE     4.5      114    0.0   google\n",
       "10840            LIFESTYLE     4.5   398307    0.0   google\n",
       "\n",
       "[10840 rows x 5 columns]"
      ]
     },
     "execution_count": 56,
     "metadata": {},
     "output_type": "execute_result"
    }
   ],
   "source": [
    "Google"
   ]
  },
  {
   "cell_type": "code",
   "execution_count": 58,
   "metadata": {
    "colab": {},
    "colab_type": "code",
    "id": "jq6fGfvyFcvY"
   },
   "outputs": [
    {
     "data": {
      "text/html": [
       "<div>\n",
       "<style scoped>\n",
       "    .dataframe tbody tr th:only-of-type {\n",
       "        vertical-align: middle;\n",
       "    }\n",
       "\n",
       "    .dataframe tbody tr th {\n",
       "        vertical-align: top;\n",
       "    }\n",
       "\n",
       "    .dataframe thead th {\n",
       "        text-align: right;\n",
       "    }\n",
       "</style>\n",
       "<table border=\"1\" class=\"dataframe\">\n",
       "  <thead>\n",
       "    <tr style=\"text-align: right;\">\n",
       "      <th></th>\n",
       "      <th>Category</th>\n",
       "      <th>Rating</th>\n",
       "      <th>Reviews</th>\n",
       "      <th>Price</th>\n",
       "      <th>platform</th>\n",
       "    </tr>\n",
       "  </thead>\n",
       "  <tbody>\n",
       "    <tr>\n",
       "      <th>8285</th>\n",
       "      <td>FINANCE</td>\n",
       "      <td>4.5</td>\n",
       "      <td>1336246</td>\n",
       "      <td>0.00</td>\n",
       "      <td>google</td>\n",
       "    </tr>\n",
       "    <tr>\n",
       "      <th>19262</th>\n",
       "      <td>FOOD_AND_DRINK</td>\n",
       "      <td>4.1</td>\n",
       "      <td>278</td>\n",
       "      <td>0.00</td>\n",
       "      <td>google</td>\n",
       "    </tr>\n",
       "    <tr>\n",
       "      <th>28003</th>\n",
       "      <td>LIFESTYLE</td>\n",
       "      <td>3.6</td>\n",
       "      <td>30</td>\n",
       "      <td>0.00</td>\n",
       "      <td>google</td>\n",
       "    </tr>\n",
       "    <tr>\n",
       "      <th>19576</th>\n",
       "      <td>LIBRARIES_AND_DEMO</td>\n",
       "      <td>NaN</td>\n",
       "      <td>25</td>\n",
       "      <td>0.00</td>\n",
       "      <td>google</td>\n",
       "    </tr>\n",
       "    <tr>\n",
       "      <th>9543</th>\n",
       "      <td>MEDICAL</td>\n",
       "      <td>4.5</td>\n",
       "      <td>72167</td>\n",
       "      <td>0.00</td>\n",
       "      <td>google</td>\n",
       "    </tr>\n",
       "    <tr>\n",
       "      <th>24675</th>\n",
       "      <td>SPORTS</td>\n",
       "      <td>NaN</td>\n",
       "      <td>18</td>\n",
       "      <td>0.00</td>\n",
       "      <td>google</td>\n",
       "    </tr>\n",
       "    <tr>\n",
       "      <th>12120</th>\n",
       "      <td>TOOLS</td>\n",
       "      <td>4.0</td>\n",
       "      <td>448</td>\n",
       "      <td>0.00</td>\n",
       "      <td>google</td>\n",
       "    </tr>\n",
       "    <tr>\n",
       "      <th>25752</th>\n",
       "      <td>FAMILY</td>\n",
       "      <td>4.4</td>\n",
       "      <td>475020</td>\n",
       "      <td>0.00</td>\n",
       "      <td>google</td>\n",
       "    </tr>\n",
       "    <tr>\n",
       "      <th>15515</th>\n",
       "      <td>TOOLS</td>\n",
       "      <td>NaN</td>\n",
       "      <td>4</td>\n",
       "      <td>0.00</td>\n",
       "      <td>google</td>\n",
       "    </tr>\n",
       "    <tr>\n",
       "      <th>1600</th>\n",
       "      <td>Health &amp; Fitness</td>\n",
       "      <td>5.0</td>\n",
       "      <td>3434</td>\n",
       "      <td>1.99</td>\n",
       "      <td>apple</td>\n",
       "    </tr>\n",
       "    <tr>\n",
       "      <th>4914</th>\n",
       "      <td>Games</td>\n",
       "      <td>4.0</td>\n",
       "      <td>244</td>\n",
       "      <td>9.99</td>\n",
       "      <td>apple</td>\n",
       "    </tr>\n",
       "    <tr>\n",
       "      <th>4932</th>\n",
       "      <td>Health &amp; Fitness</td>\n",
       "      <td>5.0</td>\n",
       "      <td>2491</td>\n",
       "      <td>3.99</td>\n",
       "      <td>apple</td>\n",
       "    </tr>\n",
       "  </tbody>\n",
       "</table>\n",
       "</div>"
      ],
      "text/plain": [
       "                 Category  Rating  Reviews  Price platform\n",
       "8285              FINANCE     4.5  1336246   0.00   google\n",
       "19262      FOOD_AND_DRINK     4.1      278   0.00   google\n",
       "28003           LIFESTYLE     3.6       30   0.00   google\n",
       "19576  LIBRARIES_AND_DEMO     NaN       25   0.00   google\n",
       "9543              MEDICAL     4.5    72167   0.00   google\n",
       "24675              SPORTS     NaN       18   0.00   google\n",
       "12120               TOOLS     4.0      448   0.00   google\n",
       "25752              FAMILY     4.4   475020   0.00   google\n",
       "15515               TOOLS     NaN        4   0.00   google\n",
       "1600     Health & Fitness     5.0     3434   1.99    apple\n",
       "4914                Games     4.0      244   9.99    apple\n",
       "4932     Health & Fitness     5.0     2491   3.99    apple"
      ]
     },
     "execution_count": 58,
     "metadata": {},
     "output_type": "execute_result"
    }
   ],
   "source": [
    "# Let's use the append() method to append Apple to Google. \n",
    "df=df.append(Google,ignore_index=True)\n",
    "\n",
    "# Using the sample() method with the number 12 passed to it, check 12 random points of your dataset.\n",
    "df.sample(12)"
   ]
  },
  {
   "cell_type": "code",
   "execution_count": 59,
   "metadata": {},
   "outputs": [
    {
     "data": {
      "text/html": [
       "<div>\n",
       "<style scoped>\n",
       "    .dataframe tbody tr th:only-of-type {\n",
       "        vertical-align: middle;\n",
       "    }\n",
       "\n",
       "    .dataframe tbody tr th {\n",
       "        vertical-align: top;\n",
       "    }\n",
       "\n",
       "    .dataframe thead th {\n",
       "        text-align: right;\n",
       "    }\n",
       "</style>\n",
       "<table border=\"1\" class=\"dataframe\">\n",
       "  <thead>\n",
       "    <tr style=\"text-align: right;\">\n",
       "      <th></th>\n",
       "      <th>Category</th>\n",
       "      <th>Rating</th>\n",
       "      <th>Reviews</th>\n",
       "      <th>Price</th>\n",
       "      <th>platform</th>\n",
       "    </tr>\n",
       "  </thead>\n",
       "  <tbody>\n",
       "    <tr>\n",
       "      <th>7197</th>\n",
       "      <td>ART_AND_DESIGN</td>\n",
       "      <td>4.1</td>\n",
       "      <td>159</td>\n",
       "      <td>0.0</td>\n",
       "      <td>google</td>\n",
       "    </tr>\n",
       "    <tr>\n",
       "      <th>7198</th>\n",
       "      <td>ART_AND_DESIGN</td>\n",
       "      <td>3.9</td>\n",
       "      <td>967</td>\n",
       "      <td>0.0</td>\n",
       "      <td>google</td>\n",
       "    </tr>\n",
       "    <tr>\n",
       "      <th>7199</th>\n",
       "      <td>ART_AND_DESIGN</td>\n",
       "      <td>4.7</td>\n",
       "      <td>87510</td>\n",
       "      <td>0.0</td>\n",
       "      <td>google</td>\n",
       "    </tr>\n",
       "    <tr>\n",
       "      <th>7200</th>\n",
       "      <td>ART_AND_DESIGN</td>\n",
       "      <td>4.5</td>\n",
       "      <td>215644</td>\n",
       "      <td>0.0</td>\n",
       "      <td>google</td>\n",
       "    </tr>\n",
       "    <tr>\n",
       "      <th>7201</th>\n",
       "      <td>ART_AND_DESIGN</td>\n",
       "      <td>4.3</td>\n",
       "      <td>967</td>\n",
       "      <td>0.0</td>\n",
       "      <td>google</td>\n",
       "    </tr>\n",
       "    <tr>\n",
       "      <th>...</th>\n",
       "      <td>...</td>\n",
       "      <td>...</td>\n",
       "      <td>...</td>\n",
       "      <td>...</td>\n",
       "      <td>...</td>\n",
       "    </tr>\n",
       "    <tr>\n",
       "      <th>28872</th>\n",
       "      <td>FAMILY</td>\n",
       "      <td>4.5</td>\n",
       "      <td>38</td>\n",
       "      <td>0.0</td>\n",
       "      <td>google</td>\n",
       "    </tr>\n",
       "    <tr>\n",
       "      <th>28873</th>\n",
       "      <td>FAMILY</td>\n",
       "      <td>5.0</td>\n",
       "      <td>4</td>\n",
       "      <td>0.0</td>\n",
       "      <td>google</td>\n",
       "    </tr>\n",
       "    <tr>\n",
       "      <th>28874</th>\n",
       "      <td>MEDICAL</td>\n",
       "      <td>NaN</td>\n",
       "      <td>3</td>\n",
       "      <td>0.0</td>\n",
       "      <td>google</td>\n",
       "    </tr>\n",
       "    <tr>\n",
       "      <th>28875</th>\n",
       "      <td>BOOKS_AND_REFERENCE</td>\n",
       "      <td>4.5</td>\n",
       "      <td>114</td>\n",
       "      <td>0.0</td>\n",
       "      <td>google</td>\n",
       "    </tr>\n",
       "    <tr>\n",
       "      <th>28876</th>\n",
       "      <td>LIFESTYLE</td>\n",
       "      <td>4.5</td>\n",
       "      <td>398307</td>\n",
       "      <td>0.0</td>\n",
       "      <td>google</td>\n",
       "    </tr>\n",
       "  </tbody>\n",
       "</table>\n",
       "<p>21680 rows × 5 columns</p>\n",
       "</div>"
      ],
      "text/plain": [
       "                  Category  Rating  Reviews  Price platform\n",
       "7197        ART_AND_DESIGN     4.1      159    0.0   google\n",
       "7198        ART_AND_DESIGN     3.9      967    0.0   google\n",
       "7199        ART_AND_DESIGN     4.7    87510    0.0   google\n",
       "7200        ART_AND_DESIGN     4.5   215644    0.0   google\n",
       "7201        ART_AND_DESIGN     4.3      967    0.0   google\n",
       "...                    ...     ...      ...    ...      ...\n",
       "28872               FAMILY     4.5       38    0.0   google\n",
       "28873               FAMILY     5.0        4    0.0   google\n",
       "28874              MEDICAL     NaN        3    0.0   google\n",
       "28875  BOOKS_AND_REFERENCE     4.5      114    0.0   google\n",
       "28876            LIFESTYLE     4.5   398307    0.0   google\n",
       "\n",
       "[21680 rows x 5 columns]"
      ]
     },
     "execution_count": 59,
     "metadata": {},
     "output_type": "execute_result"
    }
   ],
   "source": [
    "df[df['platform']=='google']"
   ]
  },
  {
   "cell_type": "markdown",
   "metadata": {
    "colab_type": "text",
    "id": "FjqsHugWFcvb"
   },
   "source": [
    "### 2e. Eliminate the NaN values\n",
    "\n",
    "As you can see there are some `NaN` values. We want to eliminate all these `NaN` values from the table."
   ]
  },
  {
   "cell_type": "code",
   "execution_count": 60,
   "metadata": {
    "colab": {},
    "colab_type": "code",
    "id": "Gp2q6GLyFcvb"
   },
   "outputs": [
    {
     "name": "stdout",
     "output_type": "stream",
     "text": [
      "Category       0\n",
      "Rating      2948\n",
      "Reviews        0\n",
      "Price          0\n",
      "platform       0\n",
      "dtype: int64\n"
     ]
    },
    {
     "data": {
      "text/plain": [
       "(25929, 5)"
      ]
     },
     "execution_count": 60,
     "metadata": {},
     "output_type": "execute_result"
    }
   ],
   "source": [
    "# Lets check first the dimesions of df before droping `NaN` values. Use the .shape feature. \n",
    "print(df.isna().sum())\n",
    "# Use the dropna() method to eliminate all the NaN values, and overwrite the same dataframe with the result. \n",
    "\n",
    "df=df.dropna()\n",
    "# Check the new dimesions of our dataframe. \n",
    "df.shape"
   ]
  },
  {
   "cell_type": "markdown",
   "metadata": {
    "colab_type": "text",
    "id": "qtfeQKtAFcvd"
   },
   "source": [
    "### 2f. Filter the data so that we only see whose apps that have been reviewed at least once\n",
    "\n",
    "Apps that haven't been reviewed yet can't help us solve our brief. \n",
    "\n",
    "So let's check to see if any apps have no reviews at all. "
   ]
  },
  {
   "cell_type": "code",
   "execution_count": 61,
   "metadata": {
    "colab": {},
    "colab_type": "code",
    "id": "Ge9OKXLNFcvd"
   },
   "outputs": [
    {
     "data": {
      "text/plain": [
       "25000"
      ]
     },
     "execution_count": 61,
     "metadata": {},
     "output_type": "execute_result"
    }
   ],
   "source": [
    "# Subset your df to pick out just those rows whose value for 'Reviews' is equal to 0. \n",
    "# Do a count() on the result. \n",
    "np.sum(df['Reviews']>=1)"
   ]
  },
  {
   "cell_type": "markdown",
   "metadata": {
    "colab_type": "text",
    "id": "05f7H0kAFcvg"
   },
   "source": [
    "929 apps do not have reviews, we need to eliminate these points!"
   ]
  },
  {
   "cell_type": "code",
   "execution_count": 286,
   "metadata": {
    "colab": {},
    "colab_type": "code",
    "id": "pD8vmPjkFcvg"
   },
   "outputs": [],
   "source": [
    "# Eliminate the points that have 0 reviews.\n",
    "df=df[df['Reviews']>=1]"
   ]
  },
  {
   "cell_type": "code",
   "execution_count": 287,
   "metadata": {},
   "outputs": [
    {
     "data": {
      "text/plain": [
       "(25000, 5)"
      ]
     },
     "execution_count": 287,
     "metadata": {},
     "output_type": "execute_result"
    }
   ],
   "source": [
    "df.shape\n"
   ]
  },
  {
   "cell_type": "markdown",
   "metadata": {
    "colab_type": "text",
    "id": "ApnKES_bFcvi"
   },
   "source": [
    "### 2g. Summarize the data visually and analytically (by the column `platform`)"
   ]
  },
  {
   "cell_type": "markdown",
   "metadata": {
    "colab_type": "text",
    "id": "2smt9UocFcvj"
   },
   "source": [
    "What we need to solve our brief is a summary of the `Rating` column, but separated by the different platforms."
   ]
  },
  {
   "cell_type": "code",
   "execution_count": 62,
   "metadata": {
    "colab": {},
    "colab_type": "code",
    "id": "Vqckt347Fcvj"
   },
   "outputs": [
    {
     "data": {
      "text/html": [
       "<div>\n",
       "<style scoped>\n",
       "    .dataframe tbody tr th:only-of-type {\n",
       "        vertical-align: middle;\n",
       "    }\n",
       "\n",
       "    .dataframe tbody tr th {\n",
       "        vertical-align: top;\n",
       "    }\n",
       "\n",
       "    .dataframe thead th {\n",
       "        text-align: right;\n",
       "    }\n",
       "</style>\n",
       "<table border=\"1\" class=\"dataframe\">\n",
       "  <thead>\n",
       "    <tr style=\"text-align: right;\">\n",
       "      <th></th>\n",
       "      <th>count</th>\n",
       "      <th>mean</th>\n",
       "      <th>std</th>\n",
       "      <th>min</th>\n",
       "      <th>25%</th>\n",
       "      <th>50%</th>\n",
       "      <th>75%</th>\n",
       "      <th>max</th>\n",
       "    </tr>\n",
       "    <tr>\n",
       "      <th>platform</th>\n",
       "      <th></th>\n",
       "      <th></th>\n",
       "      <th></th>\n",
       "      <th></th>\n",
       "      <th></th>\n",
       "      <th></th>\n",
       "      <th></th>\n",
       "      <th></th>\n",
       "    </tr>\n",
       "  </thead>\n",
       "  <tbody>\n",
       "    <tr>\n",
       "      <th>apple</th>\n",
       "      <td>7197.0</td>\n",
       "      <td>3.526956</td>\n",
       "      <td>1.517948</td>\n",
       "      <td>0.0</td>\n",
       "      <td>3.5</td>\n",
       "      <td>4.0</td>\n",
       "      <td>4.5</td>\n",
       "      <td>5.0</td>\n",
       "    </tr>\n",
       "    <tr>\n",
       "      <th>google</th>\n",
       "      <td>18732.0</td>\n",
       "      <td>4.191757</td>\n",
       "      <td>0.515205</td>\n",
       "      <td>1.0</td>\n",
       "      <td>4.0</td>\n",
       "      <td>4.3</td>\n",
       "      <td>4.5</td>\n",
       "      <td>5.0</td>\n",
       "    </tr>\n",
       "  </tbody>\n",
       "</table>\n",
       "</div>"
      ],
      "text/plain": [
       "            count      mean       std  min  25%  50%  75%  max\n",
       "platform                                                      \n",
       "apple      7197.0  3.526956  1.517948  0.0  3.5  4.0  4.5  5.0\n",
       "google    18732.0  4.191757  0.515205  1.0  4.0  4.3  4.5  5.0"
      ]
     },
     "execution_count": 62,
     "metadata": {},
     "output_type": "execute_result"
    }
   ],
   "source": [
    "# To summarize analytically, let's use the groupby() method on our df.\n",
    "df.groupby('platform')['Rating'].describe()"
   ]
  },
  {
   "cell_type": "markdown",
   "metadata": {
    "colab_type": "text",
    "id": "8f9TqMtKFcvl"
   },
   "source": [
    "Interesting! Our means of 4.049697 and 4.191757 don't **seem** all that different! Perhaps we've solved our brief already: there's no significant difference between Google Play app reviews and Apple Store app reviews. We have an ***observed difference*** here: which is simply (4.191757 - 4.049697) = 0.14206. This is just the actual difference that we observed between the mean rating for apps from Google Play, and the mean rating for apps from the Apple Store. Let's look at how we're going to use this observed difference to solve our problem using a statistical test. \n",
    "\n",
    "**Outline of our method:**\n",
    "1. We'll assume that platform (i.e, whether the app was Google or Apple) really doesn’t impact on ratings. \n",
    "\n",
    "\n",
    "2. Given this assumption, we should actually be able to get a difference in mean rating for Apple apps and mean rating for Google apps that's pretty similar to the one we actually got (0.14206) just by: \n",
    "a. shuffling the ratings column, \n",
    "b. keeping the platform column the same,\n",
    "c. calculating the difference between the mean rating for Apple and the mean rating for Google. \n",
    "\n",
    "\n",
    "3. We can make the shuffle more useful by doing it many times, each time calculating the mean rating for Apple apps and the mean rating for Google apps, and the difference between these means. \n",
    "\n",
    "\n",
    "4. We can then take the mean of all these differences, and this will be called our permutation difference. This permutation difference will be great indicator of what the difference would be if our initial assumption were true and platform really doesn’t impact on ratings. \n",
    "\n",
    "\n",
    "5. Now we do a comparison. If the observed difference looks just like the permutation difference, then we stick with the claim that actually, platform doesn’t impact on ratings. If instead, however, the permutation difference differs significantly from the observed difference, we'll conclude: something's going on; the platform does in fact impact on ratings. \n",
    "\n",
    "\n",
    "6. As for what the definition of *significantly* is, we'll get to that. But there’s a brief summary of what we're going to do. Exciting!\n",
    "\n",
    "If you want to look more deeply at the statistics behind this project, check out [this resource](https://www.springboard.com/archeio/download/4ea4d453b0b84014bcef287c50f47f00/)."
   ]
  },
  {
   "cell_type": "markdown",
   "metadata": {
    "colab_type": "text",
    "id": "d6EhTxArFcvm"
   },
   "source": [
    "Let's also get a **visual summary** of the `Rating` column, separated by the different platforms. \n",
    "\n",
    "A good tool to use here is the boxplot!"
   ]
  },
  {
   "cell_type": "code",
   "execution_count": 63,
   "metadata": {
    "colab": {},
    "colab_type": "code",
    "id": "hFKjrlWgFcvm"
   },
   "outputs": [
    {
     "data": {
      "text/plain": [
       "{'whiskers': [<matplotlib.lines.Line2D at 0x1be430eda08>,\n",
       "  <matplotlib.lines.Line2D at 0x1be42ccb688>],\n",
       " 'caps': [<matplotlib.lines.Line2D at 0x1be42cc4c08>,\n",
       "  <matplotlib.lines.Line2D at 0x1be42cc6d88>],\n",
       " 'boxes': [<matplotlib.lines.Line2D at 0x1be42ccbc88>],\n",
       " 'medians': [<matplotlib.lines.Line2D at 0x1be42cbf648>],\n",
       " 'fliers': [<matplotlib.lines.Line2D at 0x1be42cbfe08>],\n",
       " 'means': []}"
      ]
     },
     "execution_count": 63,
     "metadata": {},
     "output_type": "execute_result"
    },
    {
     "data": {
      "image/png": "[encoded data removed]",
      "text/plain": [
       "<Figure size 432x288 with 1 Axes>"
      ]
     },
     "metadata": {
      "needs_background": "light"
     },
     "output_type": "display_data"
    }
   ],
   "source": [
    "# Call the boxplot() method on our df.\n",
    "plt.boxplot(x='Rating',data=df)"
   ]
  },
  {
   "cell_type": "markdown",
   "metadata": {
    "colab_type": "text",
    "id": "FqTlAjnmFcvo"
   },
   "source": [
    "Here we see the same information as in the analytical summary, but with a boxplot. Can you see how the boxplot is working here? If you need to revise your boxplots, check out this this [link](https://www.kaggle.com/ramamet4/app-store-apple-data-set-10k-apps). "
   ]
  },
  {
   "cell_type": "markdown",
   "metadata": {
    "colab_type": "text",
    "id": "O8L-s1fgFcvp"
   },
   "source": [
    "## Stage 3 - Modelling"
   ]
  },
  {
   "cell_type": "markdown",
   "metadata": {
    "colab_type": "text",
    "id": "5fbRq2MZFcvq"
   },
   "source": [
    "### 3a. Hypothesis formulation\n",
    "\n",
    "Our **Null hypothesis** is just:\n",
    "\n",
    "**H<sub>null</sub>**: the observed difference in the mean rating of Apple Store and Google Play apps is due to chance (and thus not due to the platform).\n",
    "\n",
    "The more interesting hypothesis is called the **Alternate hypothesis**:\n",
    "\n",
    "**H<sub>alternative</sub>**: the observed difference in the average ratings of apple and google users is not due to chance (and is actually due to platform)\n",
    "\n",
    "We're also going to pick a **significance level** of 0.05. "
   ]
  },
  {
   "cell_type": "markdown",
   "metadata": {
    "colab_type": "text",
    "id": "TjBqkabaFcvq"
   },
   "source": [
    "### 3b. Getting the distribution of the data\n",
    "Now that the hypotheses and significance level are defined, we can select a statistical test to determine which hypothesis to accept. \n",
    "\n",
    "There are many different statistical tests, all with different assumptions. You'll generate an excellent judgement about when to use which statistical tests over the Data Science Career Track course. But in general, one of the most important things to determine is the **distribution of the data**.   "
   ]
  },
  {
   "cell_type": "code",
   "execution_count": 66,
   "metadata": {
    "colab": {},
    "colab_type": "code",
    "id": "bFwVhkeWFcvr"
   },
   "outputs": [],
   "source": [
    "# Create a subset of the column 'Rating' by the different platforms.\n",
    "# Call the subsets 'apple' and 'google' \n",
    "\n",
    "_apple_=df[df['platform']=='apple']['Rating']\n",
    "_google_=df[df['platform']=='google']['Rating']"
   ]
  },
  {
   "cell_type": "code",
   "execution_count": 67,
   "metadata": {},
   "outputs": [
    {
     "data": {
      "text/plain": [
       "0       4.0\n",
       "1       4.0\n",
       "2       3.5\n",
       "3       4.0\n",
       "4       4.5\n",
       "       ... \n",
       "7192    4.5\n",
       "7193    4.5\n",
       "7194    4.5\n",
       "7195    4.5\n",
       "7196    5.0\n",
       "Name: Rating, Length: 7197, dtype: float64"
      ]
     },
     "execution_count": 67,
     "metadata": {},
     "output_type": "execute_result"
    }
   ],
   "source": [
    "_apple_"
   ]
  },
  {
   "cell_type": "code",
   "execution_count": 68,
   "metadata": {},
   "outputs": [
    {
     "data": {
      "text/plain": [
       "7197     4.1\n",
       "7198     3.9\n",
       "7199     4.7\n",
       "7200     4.5\n",
       "7201     4.3\n",
       "        ... \n",
       "28870    4.0\n",
       "28872    4.5\n",
       "28873    5.0\n",
       "28875    4.5\n",
       "28876    4.5\n",
       "Name: Rating, Length: 18732, dtype: float64"
      ]
     },
     "execution_count": 68,
     "metadata": {},
     "output_type": "execute_result"
    }
   ],
   "source": [
    "_google_"
   ]
  },
  {
   "cell_type": "code",
   "execution_count": 76,
   "metadata": {
    "colab": {},
    "colab_type": "code",
    "id": "oPPFpwPvFcvu"
   },
   "outputs": [
    {
     "name": "stdout",
     "output_type": "stream",
     "text": [
      "NormaltestResult(statistic=1671.3755748541048, pvalue=0.0)\n"
     ]
    }
   ],
   "source": [
    "# Using the stats.normaltest() method, get an indication of whether the apple data are normally distributed\n",
    "# Save the result in a variable called apple_normal, and print it out\n",
    "apple__normal=stats.normaltest(_apple_)\n",
    "print(apple__normal)"
   ]
  },
  {
   "cell_type": "code",
   "execution_count": 74,
   "metadata": {
    "colab": {},
    "colab_type": "code",
    "id": "rCdh8a8KFcvw"
   },
   "outputs": [
    {
     "name": "stdout",
     "output_type": "stream",
     "text": [
      "NormaltestResult(statistic=7341.694307584002, pvalue=0.0)\n"
     ]
    }
   ],
   "source": [
    "# Do the same with the google data. \n",
    "google__normal=stats.normaltest(_google_)\n",
    "print(google__normal)"
   ]
  },
  {
   "cell_type": "markdown",
   "metadata": {
    "colab_type": "text",
    "id": "9gDqu21yFcv0"
   },
   "source": [
    "Since the null hypothesis of the normaltest() is that the data are normally distributed, the lower the p-value in the result of this test, the more likely the data are to be non-normal. \n",
    "\n",
    "Since the p-values is 0 for both tests, regardless of what we pick for the significance level, our conclusion is that the data are not normally distributed. \n",
    "\n",
    "We can actually also check out the distribution of the data visually with a histogram. A normal distribution has the following visual characteristics:\n",
    "    - symmetric\n",
    "    - unimodal (one hump)\n",
    "As well as a roughly identical mean, median and mode. "
   ]
  },
  {
   "cell_type": "code",
   "execution_count": 77,
   "metadata": {
    "colab": {},
    "colab_type": "code",
    "id": "P9tT9RjNFcv1"
   },
   "outputs": [
    {
     "data": {
      "text/plain": [
       "(array([ 929.,    0.,   44.,   56.,  106.,  196.,  383.,  702., 1626.,\n",
       "        3155.]),\n",
       " array([0. , 0.5, 1. , 1.5, 2. , 2.5, 3. , 3.5, 4. , 4.5, 5. ]),\n",
       " <a list of 10 Patch objects>)"
      ]
     },
     "execution_count": 77,
     "metadata": {},
     "output_type": "execute_result"
    },
    {
     "data": {
      "image/png": "[encoded data removed]",
      "text/plain": [
       "<Figure size 432x288 with 1 Axes>"
      ]
     },
     "metadata": {
      "needs_background": "light"
     },
     "output_type": "display_data"
    }
   ],
   "source": [
    "# Create a histogram of the apple reviews distribution\n",
    "plt.hist(_apple_)"
   ]
  },
  {
   "cell_type": "code",
   "execution_count": 78,
   "metadata": {
    "colab": {},
    "colab_type": "code",
    "id": "8dE1uC5iFcv2"
   },
   "outputs": [
    {
     "data": {
      "text/plain": [
       "(array([  34.,   36.,   82.,  148.,  274.,  892., 1758., 3324., 8350.,\n",
       "        3834.]),\n",
       " array([1. , 1.4, 1.8, 2.2, 2.6, 3. , 3.4, 3.8, 4.2, 4.6, 5. ]),\n",
       " <a list of 10 Patch objects>)"
      ]
     },
     "execution_count": 78,
     "metadata": {},
     "output_type": "execute_result"
    },
    {
     "data": {
      "image/png": "[encoded data removed]",
      "text/plain": [
       "<Figure size 432x288 with 1 Axes>"
      ]
     },
     "metadata": {
      "needs_background": "light"
     },
     "output_type": "display_data"
    }
   ],
   "source": [
    "# Create a histogram of the google data\n",
    "plt.hist(_google_)"
   ]
  },
  {
   "cell_type": "markdown",
   "metadata": {
    "colab_type": "text",
    "id": "QhZV89FzFcv5"
   },
   "source": [
    "### 3c. Permutation test\n",
    "Since the data aren't normally distributed, we're using a *non-parametric* test here. This is simply a label for statistical tests used when the data aren't normally distributed. These tests are extraordinarily powerful due to how few assumptions we need to make.  \n",
    "\n",
    "Check out more about permutations [here.](http://rasbt.github.io/mlxtend/user_guide/evaluate/permutation_test/)"
   ]
  },
  {
   "cell_type": "code",
   "execution_count": 84,
   "metadata": {
    "colab": {},
    "colab_type": "code",
    "id": "bxNhQgpqFcv6"
   },
   "outputs": [
    {
     "data": {
      "text/html": [
       "<div>\n",
       "<style scoped>\n",
       "    .dataframe tbody tr th:only-of-type {\n",
       "        vertical-align: middle;\n",
       "    }\n",
       "\n",
       "    .dataframe tbody tr th {\n",
       "        vertical-align: top;\n",
       "    }\n",
       "\n",
       "    .dataframe thead th {\n",
       "        text-align: right;\n",
       "    }\n",
       "</style>\n",
       "<table border=\"1\" class=\"dataframe\">\n",
       "  <thead>\n",
       "    <tr style=\"text-align: right;\">\n",
       "      <th></th>\n",
       "      <th>count</th>\n",
       "      <th>mean</th>\n",
       "      <th>std</th>\n",
       "      <th>min</th>\n",
       "      <th>25%</th>\n",
       "      <th>50%</th>\n",
       "      <th>75%</th>\n",
       "      <th>max</th>\n",
       "    </tr>\n",
       "    <tr>\n",
       "      <th>platform</th>\n",
       "      <th></th>\n",
       "      <th></th>\n",
       "      <th></th>\n",
       "      <th></th>\n",
       "      <th></th>\n",
       "      <th></th>\n",
       "      <th></th>\n",
       "      <th></th>\n",
       "    </tr>\n",
       "  </thead>\n",
       "  <tbody>\n",
       "    <tr>\n",
       "      <th>apple</th>\n",
       "      <td>7197.0</td>\n",
       "      <td>4.006141</td>\n",
       "      <td>0.954151</td>\n",
       "      <td>0.0</td>\n",
       "      <td>3.9</td>\n",
       "      <td>4.3</td>\n",
       "      <td>4.5</td>\n",
       "      <td>5.0</td>\n",
       "    </tr>\n",
       "    <tr>\n",
       "      <th>google</th>\n",
       "      <td>18732.0</td>\n",
       "      <td>4.007650</td>\n",
       "      <td>0.961023</td>\n",
       "      <td>0.0</td>\n",
       "      <td>4.0</td>\n",
       "      <td>4.3</td>\n",
       "      <td>4.5</td>\n",
       "      <td>5.0</td>\n",
       "    </tr>\n",
       "  </tbody>\n",
       "</table>\n",
       "</div>"
      ],
      "text/plain": [
       "            count      mean       std  min  25%  50%  75%  max\n",
       "platform                                                      \n",
       "apple      7197.0  4.006141  0.954151  0.0  3.9  4.3  4.5  5.0\n",
       "google    18732.0  4.007650  0.961023  0.0  4.0  4.3  4.5  5.0"
      ]
     },
     "execution_count": 84,
     "metadata": {},
     "output_type": "execute_result"
    }
   ],
   "source": [
    "# Create a column called `Permutation1`, and assign to it the result of permuting (shuffling) the Rating column\n",
    "# This assignment will use our numpy object's random.permutation() method\n",
    "\n",
    "df['Permutation']=np.random.permutation(df['Rating'])\n",
    "\n",
    "\n",
    "# Call the describe() method on our permutation grouped by 'platform'. \n",
    "df.groupby('platform')['Permutation'].describe()"
   ]
  },
  {
   "cell_type": "code",
   "execution_count": 85,
   "metadata": {
    "colab": {},
    "colab_type": "code",
    "id": "AaGNfPGTFcv7"
   },
   "outputs": [
    {
     "data": {
      "text/html": [
       "<div>\n",
       "<style scoped>\n",
       "    .dataframe tbody tr th:only-of-type {\n",
       "        vertical-align: middle;\n",
       "    }\n",
       "\n",
       "    .dataframe tbody tr th {\n",
       "        vertical-align: top;\n",
       "    }\n",
       "\n",
       "    .dataframe thead th {\n",
       "        text-align: right;\n",
       "    }\n",
       "</style>\n",
       "<table border=\"1\" class=\"dataframe\">\n",
       "  <thead>\n",
       "    <tr style=\"text-align: right;\">\n",
       "      <th></th>\n",
       "      <th>count</th>\n",
       "      <th>mean</th>\n",
       "      <th>std</th>\n",
       "      <th>min</th>\n",
       "      <th>25%</th>\n",
       "      <th>50%</th>\n",
       "      <th>75%</th>\n",
       "      <th>max</th>\n",
       "    </tr>\n",
       "    <tr>\n",
       "      <th>platform</th>\n",
       "      <th></th>\n",
       "      <th></th>\n",
       "      <th></th>\n",
       "      <th></th>\n",
       "      <th></th>\n",
       "      <th></th>\n",
       "      <th></th>\n",
       "      <th></th>\n",
       "    </tr>\n",
       "  </thead>\n",
       "  <tbody>\n",
       "    <tr>\n",
       "      <th>apple</th>\n",
       "      <td>7197.0</td>\n",
       "      <td>3.526956</td>\n",
       "      <td>1.517948</td>\n",
       "      <td>0.0</td>\n",
       "      <td>3.5</td>\n",
       "      <td>4.0</td>\n",
       "      <td>4.5</td>\n",
       "      <td>5.0</td>\n",
       "    </tr>\n",
       "    <tr>\n",
       "      <th>google</th>\n",
       "      <td>18732.0</td>\n",
       "      <td>4.191757</td>\n",
       "      <td>0.515205</td>\n",
       "      <td>1.0</td>\n",
       "      <td>4.0</td>\n",
       "      <td>4.3</td>\n",
       "      <td>4.5</td>\n",
       "      <td>5.0</td>\n",
       "    </tr>\n",
       "  </tbody>\n",
       "</table>\n",
       "</div>"
      ],
      "text/plain": [
       "            count      mean       std  min  25%  50%  75%  max\n",
       "platform                                                      \n",
       "apple      7197.0  3.526956  1.517948  0.0  3.5  4.0  4.5  5.0\n",
       "google    18732.0  4.191757  0.515205  1.0  4.0  4.3  4.5  5.0"
      ]
     },
     "execution_count": 85,
     "metadata": {},
     "output_type": "execute_result"
    }
   ],
   "source": [
    "# Lets compare with the previous analytical summary:\n",
    "df.groupby('platform')['Rating'].describe()"
   ]
  },
  {
   "cell_type": "code",
   "execution_count": 95,
   "metadata": {
    "colab": {},
    "colab_type": "code",
    "id": "aJPNpX0JFcv-"
   },
   "outputs": [],
   "source": [
    "# The difference in the means for Permutation1 (0.001103) now looks hugely different to our observed difference of 0.14206. \n",
    "# It's sure starting to look like our observed difference is significant, and that the Null is false; platform does impact on ratings\n",
    "# But to be sure, let's create 10,000 permutations, calculate the mean ratings for Google and Apple apps and the difference between these for each one, and then take the average of all of these differences.\n",
    "# Let's create a vector with the differences - that will be the distibution of the Null.\n",
    "\n",
    "# First, make a list called difference.\n",
    "difference=list()\n",
    "\n",
    "# Now make a for loop that does the following 10,000 times:\n",
    "# 1. makes a permutation of the 'Rating' as you did above\n",
    "# 2. calculates the difference in the mean rating for apple and the mean rating for google. \n",
    "\n",
    "for i in range(10000):\n",
    "    permutation = np.random.permutation(df['Rating'])\n",
    "    difference.append(np.mean(permutation[df['platform']=='apple']) - np.mean(permutation[df['platform']=='google']))"
   ]
  },
  {
   "cell_type": "code",
   "execution_count": 99,
   "metadata": {},
   "outputs": [
    {
     "name": "stdout",
     "output_type": "stream",
     "text": [
      "[-0.017529765632113836, -0.019722343203539605, 0.007646410166098683, 0.009069662273865298, 0.0054730657312642705, -0.015375654333871225, 0.007454078800183339, 0.0012417756811435865, 0.008915797181134444, -0.01418319986520089, 0.006973250385396312, -0.03006977068974015, -0.004682030389024483, -0.019664643793765535, -0.013510040084499408, 0.013147087231252463, 0.0200517832675855, -0.0072592706922778305, 0.006030826692415836, 0.026494884025721976, 0.01199309903576573, -0.01327924244540224, -0.0032203120080733783, -0.002835649276243579, -0.004335833930377397, 0.008184937990658447, -0.034204895056903606, 0.003145856203697228, 0.024417705273845236, -0.0530726020531187, 0.0012417756811435865, -0.012336818752422207, 0.001145609998187247, 0.00029935198816222197, -0.00800936301934474, -0.003970404335140287, 0.021532734785126628, -0.011086664873977359, 0.01199309903576573, 0.023975343132240923, -0.005432122716090504, 0.009146594820231613, 0.0019149354618450687, -0.0006430717048182544, 0.009377392459327893, 0.007377146253817912, -0.02316507465340978, 0.01564739498814216, 0.011896933352808503, 0.0019341685984368695, -0.00560522094541227, -0.012702248347659317, -0.00248945281759827, -0.008278626931624622, -0.010355805683501806, 0.011896933352809391, 0.0007801804029483606, -0.009413381990520442, -0.01406780104565275, -0.005047459984261593, -0.041186523639600736, -0.014837126509311016, -0.007259270692278719, -0.022030319594514403, 0.006203924921739379, 0.009762055191156804, -0.010971266054428774, 0.014839603251300737, 0.00887733090795173, 0.0069732503853972005, -0.002835649276243579, 0.0020880336911686115, 0.005761562780136842, 0.0022803650570821787, 0.005723096506951464, -0.026934769425335237, -0.0038550055155903706, -0.016645041348908318, -0.001431630305067877, -0.021472558633361505, 0.020840341867834233, 0.006261624331513005, 0.008281103673616563, -0.010067308634631011, -0.008855621029368876, 0.0013764076372844158, -0.026492407283732256, -0.014317831821340832, -0.006066816223607496, 0.0035882183453006533, -0.020260871028101146, -0.001816293036897676, 0.0016456715495651864, 0.0027419603352774047, 0.004992237316477244, 0.019109359574603246, -0.007163105009320603, -0.000508439748677425, 0.011166074162333395, -0.01674120703186377, 0.010242883605942943, 0.009108128547048011, 0.0047806728139709875, -0.011663658971720281, 0.007184814887902569, -0.012375285025604477, -0.0052974907599496746, -0.008913320439142502, -0.0031049131885243497, -0.033070139998007786, 0.0031458562036981164, -0.01172135838149524, -0.000816169934140909, 0.03155319894927411, -0.0013546977587015618, -0.0012392989391543097, -0.005412889579498703, 0.014262609153558259, -0.007855497926612998, -0.005932184267467555, 0.018436199793902652, 0.004953771043293642, -0.00023917583639843087, 0.01360868250944769, -0.014606328870212959, -0.004028103744913913, 0.004742206540788274, 0.014454940519471826, -0.010201940590770953, 0.000837879812723763, 0.00974282205456678, 0.01991715131144467, -0.018299091095771214, -0.009624946493026698, 0.025110098191136743, 0.00014548689543136817, 0.012146964128497473, -0.010625069595782577, 0.013493283689899549, -0.0035665084667177993, -0.0026625510469200364, 0.0035689852087097407, 0.015839726354057504, -0.015221789241138595, -0.017183569173467195, 0.010589080064590917, 0.01474343756834351, -0.005451355852682305, 0.007934907214969478, 0.01901319389164602, 0.02310985198562676, -0.003681907286267716, 0.013801013875363033, 0.0011840762713699604, 0.001357174500692615, 0.008069539171109419, -0.0032203120080733783, -0.014894825919084642, 0.011589203167346795, 0.020224881496907265, -0.010663535868966179, -0.004835895481755337, -0.03064676478748396, 0.023129085122216786, 0.001818769778887841, -0.006682276594535352, 0.02789890299689768, 0.017897671969342888, -0.021799521955416346, -0.0062014481797474375, 0.0071271154781289425, 0.0016841378227470116, -0.006663043457943552, -0.014183199865201779, 0.01689754886658701, -0.0027394835932872397, 0.013089387821479725, 0.0026650277889110896, 0.015589695578368534, -0.009105651805056958, 0.005684630233769639, 0.0033958869793879742, 0.01237776176759553, -0.007066939326364263, 0.017109113369093265, 0.0035112857989361146, -0.006990006779998836, -0.012394518162196722, -0.00029687524617205696, -0.016375777436626215, -0.004335833930377397, 0.003242021886655344, -0.004278134520602883, -0.012933045986758263, 0.008415735629755616, -0.0017201273539386719, -0.012356051889014008, -0.004682030389023595, 0.006761685882890944, -0.02853111976242495, 0.0035112857989361146, -0.0021240232223602717, -0.004566631569474566, 0.01237776176759553, -0.007009239916588861, -0.0056052209454131585, -0.007951663609570225, -0.009701879039393013, 0.015839726354057504, -0.012182953659690021, 0.0004339839443030513, -0.00677844227749258, 0.018878561935506077, -0.016414243709809817, 0.009800521464340406, 0.00022241944179679507, 0.010800644567095397, 0.006492421970611062, 0.00018395316861408162, 0.0035305189355279154, -0.012875346576982416, -0.0022201889053183876, 0.01576279380769119, -0.002989514368975321, 0.008454201902939218, 0.017513009237513977, -0.009201817488014186, -0.001489329714841503, 0.010800644567096285, -0.018183692276223518, -0.0024509865444146683, -0.009624946493026698, -0.011798290927860222, -0.010201940590770953, 0.00016472003202405716, 3.0088075882339638e-05, -0.011278996239891814, 0.002472696422996634, 0.022071262609689057, -0.011932922884002384, 0.0029919911109663744, -0.011952156020592408, 0.004203678716228509, -0.022299583506795173, 0.0249754662349968, 0.00897349659090807, -0.014760193962944701, 0.008858097771358153, 0.01916705898437865, 0.014531873065838141, 0.0143972411096982, -0.012952279123347843, -0.0016816610807559584, -0.016029580977980462, -0.002354820861458329, -0.0026048516371464103, -0.006509178365210921, 0.003607451481891566, -0.008778688483002561, 0.01662828495430624, 0.00572309650695324, -0.0012969983489279358, 0.008300336810206588, -0.007740099107063969, 0.007165581751311656, -0.010317339410318649, 0.00960819009842595, 0.0022995981936748677, -0.006720742867717178, -0.004855128618346249, -0.008932553575735191, 0.016359021042026356, -0.022088019004288917, -0.027704094888991726, 0.005492298867855183, -0.030473666558161305, -0.007913197336386624, -0.0012585320757443341, 0.0077425758490559105, 0.009261993639779753, 0.0012033094079617612, 0.009819754600932207, -0.014587095733622046, 0.024686969186126007, -0.022184184687244812, -0.012163720523097332, 0.03188016227132895, 0.020955740687383262, 0.013089387821479725, -0.009932676678490182, 0.016628284954307126, 0.018397733520720827, -0.01249068384515395, -0.021530258043136463, -0.009432615127112243, -0.010259640000545467, 0.009031196000682584, -0.020318570437875216, 0.0038959485307650255, 0.02216742829264362, 0.008261870537023874, -0.011471327605806714, -0.019376146744894296, 0.02912982373875117, -0.0030664469153425244, -0.004393533340151912, 0.010646779474363655, 0.0010109780420473058, -0.009471081400294956, 0.012358528631004617, 0.010089018513212977, 0.02843743082145833, -0.010375038820092275, 0.01124300670869971, -0.009548013946660383, -0.002200955768726587, -0.006162981906564724, -0.009932676678489294, -0.004412766476742824, 0.003261255023247145, 0.02739884144551974, -0.0035088090569450614, -0.0018547593100795012, 0.005069169862844447, 0.013570216236264976, -0.0032972445544396933, -0.03712833181880448, -8.531074366580071e-05, 0.026475650889130176, -0.012432984435377659, 0.008665766405444586, 0.0076656433026904836, 0.0009148123590883017, 0.0052999675019398396, -0.011452094469214913, 0.03443816943799227, -0.0029702812323835204, 0.014493406792656316, 0.01212773099190656, 0.004280611262593048, -0.009894210405307469, -0.00037380779253748386, 0.029014424919201698, 0.012377761767596418, -0.020760932579479086, -0.02449216107821961, -0.004585864706065479, 0.018340034110945425, 0.009396625595920582, 0.014012578377868401, 0.015531996168593132, 0.01820540215480637, -0.008278626931624622, 0.0019918680082113838, -0.005759086038144012, 0.009127361683639812, 0.0012994750909181008, -0.013183076762445456, -0.01824139168599892, -0.004797429208571735, -0.004220435110829257, 0.008781165224993615, 0.009088895410457098, 0.03049537643674416, -0.021376392950405165, -0.012394518162195833, 0.022282827112193537, 0.005492298867855183, 0.022455925341516192, -0.0015470291246160173, 0.008665766405444586, 0.0009532786322727915, 0.008646533268853673, 0.012089264718723847, -0.013913935952920564, -0.00460509784265728, -0.028300322123326893, 0.006165458648556665, 0.00845420190293833, -0.021607190589501446, 0.004588341448056532, -0.00233558772486564, -0.005566754672229557, 0.02599482247434448, 0.022359759658559852, 0.01807077019866643, 0.009781288327749493, 0.017224512188642294, 0.011935399625992105, -0.03747452827745157, 0.009185061093414326, -0.00012377701684940234, 0.018013070788891028, 0.016224389085885527, -0.021030196491759412, 0.003261255023247145, 0.009819754600931319, -0.0033741771008051202, 0.01160843630393682, 0.002799659745052807, 0.012550859996917296, -0.0016431948075741332, -0.008086295565711055, 0.000972511768862816, -0.015529519426602967, 0.014378007973107287, -0.008759455346411649, -0.011317462513074972, -0.01810675972985809, 0.01035828242549286, -0.02120329472108118, -0.004739729798798109, -0.0180682934566736, -0.008451725160949053, -0.010163474317586907, -0.008163228112076482, -0.013702371450414752, -0.021934153911557175, 0.005684630233770527, -0.002874115549427181, 0.0068193852926654586, -0.0008354030707344862, -0.0006046054316355409, -0.010567370186008063, -0.020318570437874328, -0.02601157886894434, -0.005585987808821358, 0.007011716658580802, 0.007165581751310768, -0.0035665084667186875, 0.003992114213722253, -0.020780165716068666, 0.014416474246289113, 0.010512147518223713, 0.018109236471848256, -0.006047583087016584, -0.010952032917837862, -0.005220558213584248, -0.03397409741780599, -0.0067976754140826046, -0.03568584657444429, 0.0052422680921662135, -0.01939537988148521, 0.04003501218610506, 0.010685245747547256, 0.02216742829264451, 0.0014918064568334444, 0.01024288360594472, -0.007297736965460544, -0.00977881158575844, -0.0032203120080742664, 0.004799905950562788, 0.007665643302689595, 0.008588833859078271, 0.009685122644792266, 0.004973004179886331, -0.017606698178480595, -0.020972497081983565, -0.0047781960719808225, -0.009894210405307469, -0.017645164451661977, 0.028764394143513172, -0.0010469675732380779, -0.004278134520603771, -0.007836264790022085, 0.0019918680082104956, -0.0012200658025616207, 0.014474173656063627, -0.0004122740657210855, -0.01110589801056916, 0.024744668595899633, -0.002162489495542097, -0.012548383254926687, -0.016010347841389105, 0.01705141395931875, 0.009396625595919694, 0.010723712020730858, 0.004665273994422847, -0.005624454082004959, -0.012452217571969904, -0.009721112175983926, -0.005682153491779474, -0.015279488650913553, 0.0012802419543280763, -0.021568724316318733, -0.0047012635256145074, 0.013704848192405805, -0.022434215462933338, -0.0009892681634644518, -0.02008777279877716, 0.025533227196149255, 0.025110098191136743, -0.008413258887764563, 0.006569354516977377, -0.004162735701053855, -0.004431999613334625, 0.009550490688653213, 0.002414997013223008, 0.01830156783776271, -0.00033534151935654677, 0.004126746169862194, -0.005893717994284842, -0.0008738693439163114, -0.008567123980496305, -0.02166488999927596, -0.030242868919063692, -0.00010454388025760153, -0.008624823390271708, -0.0278771931183166, -0.0009315687536899375, -0.022184184687245256, -0.010663535868964846, -0.01656810880254156, -0.0029510480957926077, -0.007528534604557713, -0.010336572546910894, 0.01980175249189653, 0.010396748698675573, -0.011375161922848598, 0.006030826692415836, 0.021975096926730053, 0.004703740267605561, -0.014452463777480329, 0.0006455484468093076, 0.0025496289693629492, 0.007377146253817912, 0.01524349911972056, 0.028187400045769806, -0.00952878081006947, -0.028742684264930762, -0.0068169085506752936, 0.005646163960586925, 0.012300829221229215, 0.01401257837786929, -0.006278380726114641, 0.0017610703691133267, -0.03735912945790121, 0.030110713704913916, 0.010089018513212977, 0.003395886979387086, -0.015414120607054382, -0.02905041445039469, -0.013490806947908052, -0.004085803154688428, 0.017032180822726062, -0.003835772378999458, -0.009182584351423273, -0.008067062429118366, -0.005989883677242069, 0.0006455484468093076, 0.00010702062224865472, 0.0039536479405386515, 0.005896194736275895, 0.0021649662375340384, -0.00916335121483236, 0.014647271885386282, -0.001585495397799619, -0.0006238385682264536, 0.029014424919201698, 0.015531996168594908, -0.013029211669714602, 0.0157243275345067, -0.004701263525615396, 0.02180199869740651, 0.023609913537003813, -0.0047204966622071964, 0.007973373488153968, -0.008163228112076482, -0.007490068331376776, 0.031072370534487526, 0.00039551767112033787, -0.003547275330127775, -0.0018162930368967878, -0.005624454082003183, -0.022780411921580423, 0.0035305189355270272, 0.009050429137273497, 0.015935892037013843, -0.004739729798798109, -0.004278134520603771, 0.020359513453048983, 0.004472942628507504, 0.010069785376622065, -0.022607313692257325, 0.0002416525783877077, -0.0027971830030608658, -0.007470835194783199, -0.02189568763837446, 0.006684753336525517, 0.0007609472663574479, 0.00935815932273698, 0.023129085122217674, 0.0001647200320222808, -0.009201817488014186, -0.02001084025241129, 0.0045498751748729305, 0.004145979306452219, -0.00010454388025760153, -0.005816785447919415, 0.025533227196149255, 0.002414997013223008, 0.019647887399164787, -0.024222897165939283, 0.015435830485636792, -0.009201817488015074, 0.005876961599684094, -0.0011046669830134803, -0.020991730218574922, 0.01762840805706123, -0.0003353415193547704, -0.002854882412836268, -0.01518332296795677, -0.012817647167207902, -0.004374300203560111, -0.0009123356170972485, -0.002181722632133898, -0.01008654177122148, -0.017933661500534548, 0.014012578377868401, -0.018049060320083576, 0.018186169018212794, 0.005261501228758014, 0.011973865899174818, -0.005585987808822246, 0.005549998277628809, -0.013721604587006109, -0.029300445226082328, -0.028319555259919138, 0.007146348614719855, 0.007607943892915081, 0.008415735629757393, 0.013954878968094775, -0.006393779545662781, 0.003088156793923602, -0.005778319174736701, -0.003835772379000346, 0.008415735629756504, -0.010240406863952778, 0.008992729727498983, -0.004028103744913913, 0.0009532786322727915, -0.006720742867717178, 0.005876961599684094, 0.0037228503014405945, -0.018914551466698182, 0.0027611934718692055, -0.004682030389024483, -0.012817647167207902, 0.0161282234029283, 0.0018380029154778654, 0.0011263768615954461, -0.006990006779998836, 0.01074294515732177, -0.006682276594535352, 0.003915181667355938, 0.012070031582132046, 0.012704725089649926, 0.015243499119721449, 0.003684384028258769, -0.001508562851434192, 0.010685245747547256, 0.003626684618485143, 0.02753347340165968, 0.02091727441419966, 0.0022611319204921543, 0.009319693049555156, 0.003338187569612572, -0.00285488241283538, -0.036493638311285714, -0.008586357117088994, -0.011317462513074972, 0.009473558142285121, 0.0027419603352774047, -0.002008624402811243, 0.003049690520741777, -0.022453448599524695, -0.004085803154688428, 0.001357174500692615, 0.0143780079731064, -0.001277765212336135, 0.006684753336523741, -0.01416396672860909, 0.006107759238782151, -0.004489699023108251, 0.004011347350313166, -0.022857344467947183, -0.010201940590770953, 0.01151227062098048, -0.0003161083827638578, 0.0017610703691133267, -0.007605467150924028, -0.020626300623337368, -0.004585864706065479, -0.016952771534370914, -0.011548260152170808, -0.003431876510577858, -0.011086664873977359, 0.010031319103438463, 0.0037420834380323953, 0.021340403419212173, -0.024492161078219166, 0.004819139087154589, -0.001508562851434192, -0.03108912692908783, -0.0056052209454131585, 0.01853236547685988, 0.0068193852926654586, -0.00014301015344031498, -0.008663289663454421, -0.006913074233631633, 0.005665397097179614, 0.012973989001929809, -0.016875838988004155, 0.029668351563311823, 0.030476143300152803, 0.01926322466733499, -0.015144856694774056, 0.0008571129493155638, -0.007720865970472168, -0.006336080135888267, 0.004665273994422847, 0.017474542964331263, -0.0018932255832631029, -0.027800260571949842, 0.008569600722487358, -0.0033357108276215186, -0.011009732327611932, 0.011704601986894936, 0.012897056455564382, 0.008819631498177216, -0.008547890843905392, 0.0005878490370347933, -0.004047336881505714, -0.010702002142148004, -0.012048321703550524, -0.027684861752401257, -0.00714387187272969, 0.005857728463092293, 0.008838864634768129, -0.00435506706696831, -0.004605097842658168, 0.004396010082142077, 0.014474173656063627, 0.004992237316477244, 0.004396010082142077, -0.01593341529502279, 0.010646779474364543, 0.015589695578367646, 0.023013686302668646, -0.02189568763837313, -0.003662674149675915, 0.019763286218712928, 0.013089387821478837, -0.005470588989273217, 0.006550121380384688, -0.004278134520603771, 0.010742945157322659, -0.014837126509311016, 0.006107759238783039, -0.015029457875225471, -0.011452094469214025, 0.005800029053317779, -0.0331470725443741, 0.01876316311595705, 0.00820417112724936, 0.03582295527257662, -0.020568601213563298, 0.0035305189355279154, 0.00658858765356829, -0.018837618920331867, -0.016548875665950202, -0.011221296830117744, -0.01351004008450074, -0.0023163545882756154, 0.00406904676008768, -0.023203540926592936, 0.00256886210595475, 0.011569970030753218, -0.0019124587198540155, 0.007761808985645935, -0.018702986964191926, 0.01449340679265454, -0.016318078026853478, 0.017859205696159286, -0.03164688789024117, -0.006413012682254582, 0.007415612527000626, 0.009569723825244125, 0.013416351143534122, 0.007896440941787652, 0.0059154278728668075, -0.007163105009320603, 0.015955125173604756, -0.013586972630866168, 0.01864776429640891, -0.0050666931208516175, 0.02241745906833348, -0.026223143371450597, -0.012086787976732793, 0.008358036219981102, 0.0005109164906684782, 0.026821847347776817, -0.0013931640318851635, -0.002931814959200807, 0.016724450637263466, 0.013589449372856777, 0.00318432247688083, 0.007280980570859796, 0.007607943892914193, -0.023299706609550164, 0.0034151201159779987, 0.0341496723891197, -0.01549105315341981, 0.009088895410457098, -0.014202433001791803, -0.0015662622612087063, -0.0010662007098307669, -0.0036434410130850026, -0.0047012635256145074, 0.020590311092144375, 0.01237776176759553, -0.005528288399045955, -0.0069707736434070355, 0.019243991530744076, 0.008761932088402702, -0.0168758389880046, 0.003318954433020771, -0.0010085013000553644, -0.004662797252431794, 0.0020495674179841217, 0.02686031362095953, -0.011952156020592408, 0.008819631498177216, -0.013721604587006553, 0.005107636136026272, 0.00808877230770122, 0.0031073899305145147, 0.017205279052050493, -0.011490560742396738, -0.007874731063204798, 0.011204540435516996, -0.008182461248668282, 0.0011840762713699604, 0.01670521750067344, 0.002722727198685604, -0.00991344354189927, -0.001066200709831655, 0.0008955792224973891, 0.013685615055814004, 0.011050675342785254, 0.01551276303200222, -0.017298967993016667, 0.007915674078377677, 0.009781288327749493, 0.019686353672346613, -0.0030664469153425244, -0.009836510995532954, 0.008877330907950842, 0.01424337601696557, -0.0026048516371464103, 0.00983898773752312, 0.005434599458081557, 0.015974358310196557, -0.025703848683481745, -0.0021240232223602717, 0.008511901312713732, -0.00952878081006947, -0.01047120450305039, -0.010394271956684964, -0.014779427099536946, 0.010223650469352918, -0.01745283308574841, 0.008896564044542643, 0.024263840181113494, -0.022376516053159712, -0.006720742867718066, -0.011625192698538012, 0.0023765307400394065, 0.021648133604675657, -0.008586357117088994, -0.0217995219554159, -0.005874484857693929, 0.0018380029154787536, -0.015971881568206392, 0.004222911852819422, -0.012279119342647693, 0.0006070821736265941, 0.007742575849055022, 0.006319323741287519, -0.01174059151808704, 0.006396256287653834, -0.023299706609549276, 0.01735914414478046, 0.008146471717476622, 0.01653211927134901, -0.018972250876472696, 0.002857359154826433, -0.0047012635256145074, 0.007223281161087058, 0.007531011346548766, 0.004088279896679481, 0.020013316994402786, 0.00391518166735505, -0.017260501719833066, 0.024898533688631375, -0.0034318765105796345, -0.013606205767457968, 0.009319693049555156, -0.002777949866469953, -0.012471450708561704, 0.014608805612203568, 0.021148072053297717, -0.0015470291246169054, 0.02055184481896344, 0.009550490688651436, 0.0007609472663583361, 0.009992852830254861, 0.02093650755079146, -0.02035703671105793, 0.0012802419543263, -0.02689630315215119, 0.01680138318362978, -0.018125992866449003, -0.0222034178238375, -0.004797429208571735, 0.0031266230671072037, 0.0020111011448022964, -0.014548629460438445, -0.013702371450414752, 0.013089387821479725, -0.005701386628370386, 0.007223281161085282, 0.016666751227488064, 0.010146717922986603, 0.019205525257560474, 0.0031266230671072037, 0.007415612527000626, -0.008220927521850108, 0.023821478039510957, -0.008932553575734303, 0.0009340454956801025, -0.019895441432862704, -0.0022009557687256986, 0.015512763032003107, 0.005665397097178726, -0.003970404335140287, -0.005008993711077991, 0.0055307651410370084, -0.025992345732353872, -0.02183798822859906, -0.015087157284999098, 0.03343804633523639, -0.018164459139631273, -0.0007584705243681711, 0.00010702062224865472, 0.005299967501940728, -0.024338295985488756, -0.03545504893534712, -0.0019124587198549037, -0.025838480639623462, 0.004434476355325678, -0.015221789241138595, -0.016548875665950202, -0.0131638436258541, 0.009550490688652324, -0.026280842781225555, 0.004511408901691105, -0.0017008942173486474, -0.0001430101534394268, 0.011031442206194342, 0.01301245527511341, 0.02193663065354734, 0.006050059829006749, 0.013320185460576006, 0.007646410166098683, -0.009471081400295844, -6.607760707488808e-05, -0.010125008044405082, -0.004662797252431794, 0.01024288360594472, -0.024088265209799342, -0.004547398432883654, 0.013224019777620555, 0.02895672550942674, -0.00248945281759827, 0.030187646251281564, -0.004720496662206308, -0.03493575424737916, -0.004316600793785597, -0.015106390421591787, 0.015089634026990595, -0.006663043457942663, -0.03187768552933745, -0.0027010173201045262, 0.0019918680082104956, 0.0017610703691142149, 0.00797337348815308, -0.009836510995532954, -0.017491299358931567, -0.006682276594535352, -0.0033549439642124312, -0.0009892681634635636, 0.0038959485307641373, 0.0235522141272293, -0.00512439253062702, -0.029473543455405427, -0.0131638436258541, -0.01599111470479686, -0.010663535868964846, -0.01312537735267183, 0.0091081285470489, -0.01291381285016513, 0.0004532170808957403, -0.0035088090569450614, 0.005203801818982612, -0.0028741155494262927, 0.01693601513977061, 0.014070277787642027, 0.005011470453068156, -0.007778565380247571, -0.006836141687265318, 0.0087042326786273, 0.022225127702419023, 0.014320308563331885, 0.014858836387893426, 0.02016718208713364, -0.017779796407802806, 0.0070501829317626274, -0.014875592782494174, -0.0032203120080733783, 0.024109975088381752, 0.002953524837784549, 0.017936138242524713, 0.0010302111786382184, -0.018991484013064497, -0.004278134520602883, -0.00950954767347767, -0.0037203735594504295, -0.007817031653430284, -0.004893594891528963, 0.02280212180016239, 1.0854939291427002e-05, -0.002624084773738211, -0.008490191434130878, -0.0088748541659589, 0.02057107795555435, -0.003604974739902289, 0.021475035375352114, 0.013262486050801492, 0.011858467079626678, -0.02033780357446524, -0.01743359994915572, 0.0013187082275107898, 0.013339418597167807, -0.010836634098288833, -0.0037396066960431185, 0.0069155509756235745, 0.019974850721219184, 0.010415981835267374, -0.006451478955437295, 0.0069540172488045116, -0.0354358157987571, -0.006528411501802722, -0.007932430472978425, 0.0034920526623443138, -0.0062976138627064415, 0.007857974668603163, -0.0015854953977987307, 0.02382147803951007, 0.0010686774518209319, 0.0008571129493155638, 0.016339787905434555, -0.013548506357682566, 0.006088526102189462, -0.002393287134640154, -0.007278503828871408, -0.0012969983489270476, 0.0013187082275107898, 0.021917397516956427, 0.020494145409187148, -0.0015662622612087063, -0.008855621029368876, -0.0062206813163401264, 0.016839849456813383, -0.017356667402790737, -0.02678090433260305, -0.005701386628370386, 0.006550121380384688, -0.02129946040403885, -0.005874484857693929, -0.0010277344366471652, 0.013281719187393293, 0.020340280316457182, 0.01020441733276023, 0.0018380029154778654, 0.006992483521988113, -0.007759332243656658, -0.012606082664702534, -0.02303044269727028, 0.03626531741418004, -0.007355436375236835, 0.0071848148879016804, 0.0364576487800945, 0.0069540172488045116, 0.011646902577120422, 0.010127484786394803, 0.0049537710432954185, -0.0032010788714806893, -0.019703110066947804, -0.007490068331375888, -0.0029125818226098943, -0.002181722632133898, -0.019760809476722763, 0.0020688005545759225, -0.003547275330127775, 0.013704848192404917, 0.013820247011953946, -0.014548629460438445, 0.010108251649803002, -0.0037973061058158564, 0.0016841378227470116, -0.0047012635256145074, -0.0112405299667091, -0.017606698178479707, 0.01626285535906913, -0.021991853321330357, 0.0071271154781289425, -0.004489699023109139, 0.017205279052050493, -0.001508562851434192, -0.01016347431758824, 0.004761439677380075, -0.008740222209820736, -0.009990376088264696, 0.011473804347797767, -0.013183076762445456, 0.008377269356572903, -0.021857221365191304, -0.0017008942173477593, -0.00677844227749258, -0.01356773949427481, 0.019455556033249444, 0.0179169051059338, 0.0020880336911686115, 0.009800521464340406, -0.008182461248668282, 0.026841080484367286, -0.008817154756185275, -0.0015277959880259928, -0.006143748769973811, 0.030091480568324336, 0.005646163960586037, 0.011896933352809391, 0.010589080064590917, 0.011012209069602541, 0.0087042326786273, 0.0069732503853972005, 0.011185307298926972, -0.003989637471730312, 0.006877084702440861, 0.006896317839031774, 0.016089757129745585, 0.004049813623495879, 0.0011263768615954461, -0.009721112175983926, -0.008220927521850996, -0.003797306105814968, 0.012897056455564382, 0.011339172391656938, 0.004992237316477244, 0.0008571129493155638, 0.01149303748438868, -0.026530873556914525, -0.028569586035607664, -0.015971881568206392, -0.012740714620842475, -0.010240406863953666, 0.026475650889130176, -0.011278996239892258, 0.0040305804869040784, 0.011050675342785254, 0.012320062357820127, -0.0030472137787507236, -0.00012377701684851417, -0.00460509784265728, -0.004835895481754449, 0.011762301396667674, -0.0024509865444146683, 0.012339295494411928, 0.0009340454956801025, 0.01728221159841592, -0.0074131357850095725, -0.007220804419095117, -0.022607313692257325, 0.01187770021621759, 0.010262116742534744, -0.003162612598297976, 0.026879546757550443, -0.00891332043914339, -0.01677967330504826, -0.018010594046900863, -0.010375038820093163, 0.012012332172357532, -0.007720865970472168, -0.006451478955437295, -0.0032587782812552035, 0.004280611262593048, -0.005028226847668904, -0.00802859615593654, 0.006473188834019261, 0.0034728195257516248, 0.01112760788915157, 0.03193786168110346, 0.008261870537024762, -0.01272148148425023, -0.01983774202308819, 0.038573293805154396, 0.007396379390408825, 0.021109605780114116, -0.019703110066948692, -0.007663166560698542, 0.048324494057021994, 0.0004916833540766774, -0.007951663609571114, -0.010336572546910006, -0.0007584705243672829, 0.0008571129493146756, -0.004682030389023595, 6.855434906505309e-05, -0.0096634127662103, -0.0009892681634644518, 0.005261501228758014, -0.0072592706922778305, 0.009877454010706721, 0.008242637400432962, 0.00783874153201225, 0.018686230569590734, -0.0057783191747375895, 0.029322155104665626, -0.011413628196030867, 0.015281965392904162, -0.002181722632134786, -0.012029088566957835, -0.013683138313822951, -0.004951294301303477, -0.008105528702301967, -0.014817893372718771, 0.019205525257561362, 0.024494637820210663, 0.03211095991042612, 0.003761316574624196, -0.0018739924466721902, -0.004316600793785597, -0.005951417404059356, -0.012163720523099553, 0.002626561515727488, 0.009550490688653213, -0.022530381145891898, -0.001585495397799619, 0.009454325005694209, -0.0027394835932872397, 0.002645794652320177, 0.01653211927134901, -0.004278134520603771, -0.011028965464202845, 0.00039551767112033787, -0.004297367657193796, -0.023126608380225733, -0.002200955768726587, -0.008336326341399136, 0.0015687390031988713, 0.01805153706207374, 0.012300829221229215, 0.007396379390407937, -0.008336326341400024, -0.009855744132124755, -0.033262471363923574, 0.0213981028289858, -0.004393533340151912, 0.005626930823994236, -0.0256846155468895, -0.012106021113324594, 0.01401257837786929, -0.000835403070733598, -0.019145349105795795, 0.02332141648813213, 0.019205525257560474, 0.016705217500672553, -6.60776070739999e-05, -0.017106636627101768, 0.014281842290149172, 0.005165335545800787, -0.019376146744894296, -0.018029827183490887, -0.03183921925615474, 0.0017033709593388124, -0.025646149273707675, 0.023398349034497556, -0.013837003406555137, 0.02045567913600621, -0.01604881411457315, 0.008838864634768129, -0.005720619764961299, -0.0037973061058176327, -0.013106144216080029, 0.013185553504436953, -0.0033741771008051202, -0.008605590253679907, -0.022607313692257325, 0.01639748731520907, 0.001587972139790672, 0.02686031362095953, -0.0029510480957926077, -0.011682892108311638, 0.005915427872867696, -0.0038934717887748604, -0.0035857416033104883, -0.019010717149654965, -0.0012585320757443341, -0.008278626931624622, 0.008915797181133556, -0.004797429208571735, -0.02214571841406121, -0.0041050362912802285, -0.021568724316318733, -0.012452217571970792, 0.0054538325946715815, 0.00318432247688083, 0.0018380029154787536, -0.007951663609570225, 0.006607820790159202, -0.014875592782492841, 0.0025496289693638374, 0.0091081285470489, -0.021184061584490266, 0.00960819009842595, 0.004453709491917479, 0.018147702745031857, 0.007877207805195852, 0.001357174500692615, 0.004338310672367562, -0.003162612598297976, 0.006973250385398089, 0.010089018513212977, 0.018224635291397284, 0.00795414035156039, 0.019974850721219184, -0.013529273221090765, 0.007396379390408825, -0.0019124587198549037, 0.021840464970590112, 0.0014725733202416436, 0.00808877230770122, 0.0003570513979376244, 0.008088772307700332, 0.009242760503187952, -0.011278996239890926, -0.0050666931208516175, 0.004588341448056532, 0.009050429137274385, -0.0007777036609590837, -0.00864405652686262, -0.015875715885249164, -0.01174059151808704, 0.0023188313302657804, -0.008932553575735191, -0.0075670008777413145, 0.0038959485307650255, 0.013993345241278377, 0.005223034955574413, -0.006413012682254582, -0.018683753827601457, 0.009550490688652324, -0.010144241180995106, -0.01304844480630507, 0.008415735629756504, 0.0047806728139709875, -0.008124761838893768, 0.01676291691044618, -0.005355190169724189, -0.00027764210958025615, 0.011993099035766619, 0.006050059829006749, -0.0033357108276215186, 0.0006647815834002202, 0.009800521464340406, 0.017205279052049605, 0.0034151201159779987, 0.013127854094663327, 0.0008378798127228748, -0.015471820016828453, 0.02597558933775268, 0.0029342917011927483, 0.0014533401836498427, 0.004742206540788274, 0.025033165644771316, -0.005643687218595872, 0.0025496289693638374, 0.0009725117688637042, -0.005662920355186785, 0.015839726354057504, -0.011894456610817894, 0.0196671205357557, -0.028627285445382178, -0.004816662345163536, -0.01599111470479775, 0.011396871801430564, 0.02399457626883361, 0.010569846927998228, 0.0161474565395201, -0.012663782074477048, -0.009932676678490182, -0.0041050362912802285, -0.004297367657194684, -0.02249191487270874, 0.00416521244304402, -0.011086664873976027, -0.03599357675990822, 0.00458834144805742, -0.0010085013000562526, 0.010281349879127433, -0.005316723896540587, 0.00010702062224865472, 0.02170583301445017, 0.004453709491916591, 0.003395886979387086, 0.000837879812723763, 0.004319077535775762, 0.008223404263842937, -0.00964417962961761, -0.018702986964192814, -0.01304844480630507, -0.010682769005556647, -0.024011332663433915, -0.01052890391282535, -0.010048075498038767, -0.017645164451662865, -0.01385623654314605, -0.00564368721859676, 0.0014725733202416436, 0.006434722560836548, 0.004549875174872042, -0.020107005935368516, 0.012339295494412816, -0.008317093204808224, 0.02330218335154033, 0.008050306034518506, 0.0027611934718692055, -0.015260255514322196, 0.008511901312712844, -0.0076439334241076295, 0.002780426608460118, -0.006259147589521952, 0.00985822087411492, -0.005989883677242069, 0.0362845505507714, 0.02645641775253793, -0.0010662007098307669, -0.023453571702281018, 0.012089264718723847, -0.007182338145912404, 0.011704601986894048, 0.008800398361585415, 0.00597312728264221, 0.025340895830235688, -0.0009700350268735392, 0.011300706118473336, 0.0041075130332703935, -0.018010594046900863, -0.002720250456695439, -0.009047952395283332, -0.01624114548048672, -0.002258655178500213, -0.023992099526843003, 0.020859575004426034, -0.007451602058192286, 0.021301937146030347, -0.006451478955437295, -0.0006815379780009678, -0.007720865970472168, 0.004799905950562788, 0.005646163960586037, -0.0009700350268744273, -0.02539611849801826, -0.0032972445544396933, 0.010435214971858287, -0.024415228531854627, 0.005838495326501381, -0.008355559477991825, -0.016606575075724717, -0.019068416559429036, 0.0011648431347781596, 0.03690001092169792, 0.00758871075632328, 0.0012033094079617612, -0.010702002142148892, -0.005412889579498703, 0.000549382763852968, -0.010125008044405082, 0.0005109164906684782, 0.005665397097178726, -0.022607313692257325, 0.012973989001929809, -0.01945307929125928, -0.0013546977587015618, 0.00885809777135993, -0.020107005935368516, 0.0029150585646000593, -0.005143625667218821, -0.002181722632133898, 0.005011470453068156, -0.003547275330128663, 0.01237776176759553, -0.008547890843905392, 0.003972881077129564, 0.006396256287654722, -0.0005469060218601385, 0.01162766944052862, 0.0024534632864066097, -0.005143625667219709, -0.025665382410298587, 0.021282704009438547, -0.009201817488014186, -0.004412766476742824, 0.012512393723735471, 0.0007032478565829337, -0.016587341939132916, -0.011317462513074972, -0.014952525328858268, -0.009932676678489294, 0.02057107795555435, -0.004605097842658168, -0.0016431948075741332, -0.016972004670961827, 0.005953894146049521, 0.010262116742535632, -0.006047583087016584, 0.0078002752588295365, -0.008990252985508818, 0.018128469608440057, 0.0063770231510620334, -0.0007200042511845695, 0.0022226656473085526, 0.00028011885157130934, -0.007740099107063969, 0.0161666896761119, 0.0286682284605555, 0.04103513528886005, 0.0012610088177362755, 0.0157820269442821, 0.0033574207062043726, 0.0034920526623443138, 0.0009340454956801025, -0.003931938061956686, -0.025107621449147466, 0.0035882183453006533, 0.019167058984379537, -0.010702002142148892, 0.020455679136005323, -0.0010469675732380779, 0.008011839761334905, 0.0006647815834002202, 0.00908889541045621, -0.007086172462956064, 0.019590187989390273, -0.0027010173201045262, -0.0037203735594504295, 0.018993960755055994, 0.011993099035766619, 0.006030826692415836, 0.0054538325946715815, -0.006663043457942663, 0.019397856623475818, 0.004299844399184849, 0.018820862525731563, 0.005819262189908692, -0.007778565380247571, 0.0013187082275107898, -0.015048691011816384, -0.008240160658441908, -0.0110097323276106, -0.012606082664702534, -0.008547890843905392, 0.0012610088177353873, -0.017664397588253777, -0.0147409608263529, -0.011817524064452023, -0.018953017739881783, 0.0006647815834002202, 0.0012994750909181008, -0.01647194311958433, -0.00950954767347767, 0.010242883605943831, 0.01578202694428299, 0.0022995981936748677, 0.007761808985646823, -0.006086049360200185, 0.009050429137273497, -0.004374300203560111, 0.029225989421708398, -0.014144733592017733, -0.004739729798797221, -0.012086787976732793, -0.01699123780755274, 0.00845420190293833, 0.0042806112625948245, -0.009317216307563214, 0.00593466100945772, -0.025453817907791443, -0.02860805230879171, 0.001953401735026894, 0.016859082593403407, -0.020183938481734387, 0.004030580486904967, 0.005953894146049521, -0.003085680051932549, 0.01403181151446109, -0.009740345312574838, -0.018856852056924556, -0.014817893372718771, -0.009201817488014186, -0.021107129038124395, 0.027821970450532696, 0.005665397097178726, -0.02695400256192615, -0.002566385363963697, 0.004607574584648333, -0.009990376088265585, 0.008992729727500759, -0.02426136343912244, -0.011509793878989427, -0.002566385363963697, -0.009394148853930417, 0.0069540172488054, 0.01185846707962579, 0.017089880232502352, 0.0027419603352774047, -0.014125500455426376, 0.012743191362831752, 0.01714757964227509, -0.006066816223607496, -0.02997360500678381, -0.005547521535638644, -0.005143625667217044, -0.00637454640907098, -0.0019893912662203306, 0.0005686159004429925, 0.004799905950562788, -0.010778934688513875, 0.0009917449054563932, 0.013647148782630403, 0.010704478884138169, 0.004703740267605561, -0.029627408548137613, -0.02531918595165239, -0.0002391758363975427, 0.011262239845290622, 0.013397118006942321, 0.00014548689543136817, -0.005701386628370386, -0.013260009308811327, 0.012723958226242615, 0.00039551767112033787, 0.0022995981936748677, 0.009512024415467835, 0.006800152156073658, 0.006723219609708231, 0.012570093133509097, -0.01556798569978568, 0.016743683773855267, -0.006393779545661893, 0.007511778209957853, 0.0019341685984359813, -0.005201325076992447, -0.0075862340143340035, -0.0038550055155903706, 0.01701294768613515, 0.03322648183272969, -0.02851188662583315, -0.0013931640318851635, -0.007220804419095117, 0.004453709491915703, 0.009300459912963355, 0.021090372643523203, 0.00860806699567096, -0.004816662345163536, -0.0018932255832631029, -0.006566877774986324, -0.002835649276243579, 0.005973127282641322, 0.013993345241277488, 0.0035112857989352264, -0.012432984435379435, 0.02599482247434448, 0.00833880308339019, 0.018455432930494453, -0.0019124587198549037, 0.0035882183453015415, -0.004585864706065479, 0.00808877230770122, -0.018241391685997144, 0.002549628969362061, 0.03884255771743428, -0.0010854338464216795, 0.0069540172488054, -0.01810675972985676, -0.011355928786257685, -0.0042589013840119705, -0.00512439253062702, 0.027975835543263994, 0.009050429137274385, -0.0032587782812552035, -0.0038742386521830596, -0.007740099107064857, 0.013031688411704323, 0.023917643722468185, 0.008281103673616563, 0.011300706118474224, 0.0052422680921662135, -0.007547767741149514, 0.0010686774518209319, -0.005855251721102128, -0.004451232749926426, 0.022609790434248822, 0.013724081328996718, -0.014587095733620714, -0.02651164042032228, 0.007684876439280508, -0.004585864706066367, 0.004896071633520016, 0.007415612527000626, 0.0054730657312642705, -0.008240160658441908, -0.019856975159679546, -0.01962617752058282, 0.010185184196169317, -0.006047583087016584, -0.017779796407803694, 0.002799659745051919, -0.003835772378999458, 0.019474789169842133, -0.013740837723598798, 0.013493283689899549, -0.024376762258671025, 0.016609051817715326, 0.0024726964229975223, 0.020090249540767324, 0.0008378798127228748, 0.006896317839031774, 0.009550490688652324, -0.009047952395283332, -0.021337926677222008, -0.008278626931624622, 0.011416104938023253, 0.0030689236573326895, 0.038361729302648584, -0.0034318765105787463, 0.011666135713711334, 0.02216742829264451, -0.01872222010078417, -0.015741083929108335, 0.016051290856562872, 0.010281349879127433, -0.012663782074477492, -0.0019701581296285298, 0.00028011885157130934, -0.018279857959180745, 0.006684753336524629, -0.0318969186659297, 0.00908889541045621, 0.0033574207062043726, 0.0023765307400402946, -0.0035665084667186875, 0.022725189253796962, 0.010185184196170205, -0.010836634098288389, 0.006877084702439085, -0.005855251721102128, 0.01812846960843917, 0.0017226040959306133, 0.014589572475614432, -0.008067062429118366, 0.010723712020731746, -0.0025471522273727842, -0.014837126509311016, -0.0016816610807559584, 0.010146717922987492, -0.0026048516371464103, 0.00935815932273698, -0.011682892108311638, -0.009682645902800324, 0.01162766944052862, -0.006162981906563836, 0.001587972139789784, 0.0039536479405386515, 0.0065885876535674015, 0.023975343132240923, -0.006586110911578125, 0.006107759238783039, -0.026011578868943452, 0.003626684618484255, -0.007432368921601373, -0.002316354588274727, -0.01139439505943951, 0.009396625595919694, 0.008319569946798389, -0.016875838988004155, -0.014894825919084642, -0.004374300203560111, 0.0017610703691133267, -0.01677967330504737, 0.02016718208713364, -0.016298844890261677, 0.01249316058714367, 0.005703863370361439, -0.031358390841369044, -0.03185845239274698, -0.011125131147160072, 0.004396010082142077, -0.01241375129878719, 0.003242021886655344, -0.012221419932871846, 0.011935399625991217, 0.009627423235016863, -0.022645779965440038, 0.008281103673616563, -0.011202063693526387, 0.010704478884139945, 0.01074294515732177, 0.013550983099674063, 0.009781288327750381, -0.008624823390271708, 0.0126470256798763, -0.012817647167208346, -0.005855251721102128, 0.02043644599941441, -0.003778072969225832, -0.004278134520602883, 0.026610282845270117, 0.005665397097178726, 0.02041721286282261, -0.020145472208551674, -0.004143502564462942, -0.021857221365191304, 0.002030334281393209, 0.002780426608460118, -0.019010717149656298, 0.014474173656063627, 0.0022803650570821787, 0.021898164380364626, -0.00735543637523417, 0.01451263992924634, -0.031050660655905116, -0.008124761838893768, 0.011916166489400304, -0.018664520691009212, -0.016587341939132916, 0.01210849785531476, -0.003316477691029718, 0.025898656791385477, 0.00418444557963582, -0.0002584089729893435, -0.020972497081983565, -0.01676044016845557, -0.006566877774985436, -0.013183076762444568, 0.013493283689899549, 0.011512270620979592, -0.00775933224365577, -0.0020663238125857575, -0.004124269427871141, 0.010839110840279886, -0.011394395059439955, 0.010742945157322659, -0.0022778883150920137, 0.014301075426740972, -0.030069770689740594, 0.00010702062224865472, 0.0023572976034476056, -0.014548629460438445, -0.010240406863952334, -0.007066939326363375, -0.013163843625854987, 0.014820370114708936, 0.00014548689543048, -0.0038742386521830596, 0.0011263768615954461, 0.005800029053317779, 0.0025303958327702603, 0.0047229734041973614, 0.000530149627260279, 0.02461003663975969, 0.014589572475612655, 0.0022226656473085526, 0.004376776945550276, 0.0023957638766312073, 0.01980175249189653, 0.010396748698675573, 0.012223896674863788, 0.01626285535906913, -0.013452340674726226, -0.0012392989391543097, -0.002931814959200807, 0.006261624331513893, -0.01576031706569969, 0.002472696422995746, 0.012570093133509097, 0.0104929143816328, 0.021532734785126628, -0.010451971366459478, -0.013663905177232039, 0.009800521464339518, -0.014337064957932188, -0.008836387892777076, -0.012317585615829962, 0.008973496590908958, 0.015570462441776733, 0.002318831330264892, -0.0016816610807568466, -0.002566385363963697, 0.009762055191157692, 0.0019918680082104956, 0.004203678716228509, -0.0052397913501760485, -0.0015277959880251046, -0.011028965464203289, 0.005165335545801675, -0.007009239916588861, -0.0002584089729893435, 0.0017033709593388124, -0.014856359645902373, -0.0031241463251152624, 0.01630132163225273, 0.00960819009842595, 0.0009532786322727915, 0.013185553504436953, 0.0047999059505619, 0.014724204431752597, -0.015279488650913997, -0.012644548937885247, -0.005470588989273217, 0.0020688005545768107, -0.006701509731126265, -0.003451109647170547, -0.010394271956684964, 0.02422537390793078, 0.020994206960565975, 0.01955172171620667, 0.014589572475612655, 0.017897671969342, -0.015971881568205504, -0.010836634098288389, 0.004511408901690217, -0.002258655178500213, -0.02876191740152212, 0.007338679980635199, -0.004989760574486191, 0.019378623486884905, -0.021684123135868205, -0.007220804419095117, 0.0024534632864066097, -0.006682276594533576, -0.007817031653429396, -0.010778934688514763, -0.016375777436627104, 0.02068647677510249, 0.024994699371588602, 0.0002608857149803967, -0.00497052743789439, 0.02766810535780051, -0.01739513367597345, -0.03108912692908783, 0.023552214127230187, 0.0017610703691133267, 0.009300459912962467, 0.008377269356573791, -0.002931814959201695, 0.011069908479375279, 0.00593466100945772, -0.011105898010568716, -0.014510163187257064, 0.016705217500672553, 0.012166197265089274, -0.007970896746161138, -0.006605344048168149, -0.0071054055995460885, -0.002335587724866528, -0.0031241463251161505, -0.015202556104548126, 0.0010879105884127327, -0.0019701581296285298, 0.02057107795555435, -0.001508562851434192, -0.021972620184738556, -0.009624946493026698, 0.010089018513212089, 0.011454571211205966, 0.006146225511963976, 0.02193663065354645, 0.00960819009842595, -0.016010347841387773, 0.0031458562036981164, -0.006470712092028208, 0.00256886210595475, -0.0023740539980501296, -0.014163966728609978, 0.012723958226241727, -0.012394518162195833, -0.003316477691029718, 0.010069785376621176, 0.00808877230770122, -0.010740468415330717, 0.017743806876611146, 0.0013379413641008142, 0.003838249120989623, -0.006643810321351751, 0.009435091869103296, -0.005643687218595872, 0.04313154717732903, 0.0018572360520705544, -0.007297736965460544, 0.008684999542036387, -0.020607067486745567, -0.013952402226103278, 0.0028958254280082585, -0.007028473053180662, 0.013954878968094775, 0.01782073942297746, 0.016589818681123525, -0.006893841097039832, -0.0014700965782514785, -0.006990006779997948, 0.009723588917974979, 0.013416351143533234, 0.012608559406692699, -0.009951909815081095, -0.006086049360200185, 0.022263593975601736, -0.03308937313459959, -0.007163105009320603, 0.00031858512475579914, 0.0010302111786382184, 0.013397118006942321, -0.013125377352670942, -0.016048814114572263, -0.0046243309792490805, -0.0020855569491775583, -0.02133792667722112, -0.011702125244905659, -0.006374546409069204, -0.008105528702301967, 0.005626930823995124, 0.010896810250052624, 0.006684753336523741, 0.006511655107202863, -0.0020470906759939567, 0.007531011346549654, 0.00545383259467247, 0.021494268511944803, 0.0026073283791374635, 0.012377761767594642, 0.0011648431347781596, -0.016933538397779557, -0.0033549439642133194, 0.018686230569591622, 0.0022226656473085526, -0.008317093204808224, -0.02168412313586643, 0.010396748698675573, -0.0015277959880251046, 0.007992606624743104, 0.011512270620979592, 0.013358651733759608, 0.00458834144805742, -0.015433353743645295, 0.007454078800182451, 0.005953894146049521, 0.003626684618484255, 0.023686846083371016, -0.015875715885249164, -0.007970896746161138, 0.0030496905207400005, 0.007011716658580802, 0.02405227567860635, 0.010473681245041888, -0.00043150720231199813, 0.014493406792655428, 0.028475897094641933, 0.007415612527000626, -0.022703479375214997, -0.017587465041887906, -0.004528165296291853, 0.017089880232502352, 0.004396010082142965, -0.0002776421095811443, 0.003395886979387086, -0.006124515633382899, 0.018263101564579998, 0.007819508395421337, 0.012223896674864676, 0.009127361683639812, 0.009281226776370666, 0.0004532170808957403, -0.007547767741149514, 0.006627053926751003, -0.0065668777749845475, -0.011471327605807158, 0.02210972888287177, 0.016955248276360635, -0.009105651805056958, -0.0026433179103291238, 0.013801013875363033, 0.0056076976874051, -0.009836510995532954, -0.012298352479238606, 0.01174306826007765, 0.005280734365348927, 0.005492298867855183, -0.0039511711985484865, -0.007182338145911515, -0.006528411501802722, -0.007201571282504204, -0.011990622293775122, 0.010973742796419828, 0.008319569946799277, 0.00018395316861408162, -0.0028356492762444674, -0.0002584089729893435, -0.01360620576745708, 0.03605375291167423, 0.019513255443023958, 0.016820616320220694, 0.016570585544531724, -0.01349080694790894, 0.013954878968094775, -0.016183446070712648, -0.01920304851556942, 0.012589326270101786, 0.014108744060825629, -0.0052205582135833595, 0.0016456715495651864, -0.0006430717048182544, 0.0044152432187338775, -0.015664151382742908, -0.008759455346411649, 0.009165827956822525, 0.009185061093414326, -0.012529150118336219, -0.024492161078220498, 0.004915304770111817, 0.0010109780420464176, -0.0007777036609581955, 0.0008571129493155638, 0.016320554768843643, -0.00043150720231199813, -0.006374546409070092, 0.016936015139768834, 0.003395886979386198, -0.012144487386506864, 0.0019149354618450687, -0.0009700350268735392, 0.000684014719992021, 0.013801013875362145, 0.02582172424502094, -0.022972743287495323, -0.011432861332624444, 0.001607205276382473, -0.014106267318836352, -0.014837126509310128, 0.0006647815834002202, 0.005376900048306155, 0.019090126438011445, -0.035628147164672, -0.01110589801056916, -0.004585864706065479, 0.004472942628508392, -0.002777949866469953, 0.013377884870351409, 0.001664904686156099, 0.0008378798127228748, -0.008932553575735191, -0.018318324232363015, 0.014935768934258853, -0.023472804838873262, -0.00233558772486564, -0.04282134024987405, 0.011223773572108797, 0.012339295494411928, -0.02001084025241129, 0.0028958254280091467, -0.004220435110829257, 0.003934414803947739, 0.007915674078377677, 0.013589449372856777, -0.0020470906759939567, -0.01954924497421695, -0.010067308634631011, 0.0013379413641008142, -0.009317216307564102, 0.005126869272618073, 0.012070031582132046, 0.0062808574681039175, 0.0016841378227478998, 0.00010702062224865472, 0.009915920283889434, -0.019799275749905032, -0.007528534604557713, -0.003162612598298864, 0.015493529895411307, -0.020318570437874772, -0.015837249612066895, 0.0039536479405386515, 0.018743929979367024, -0.015914182158431434, 0.015301198529496851, -0.022376516053159268, 0.006492421970611062, -0.020510901803788784, -0.010644302732373934, 0.0029150585646000593, -0.006028349950424783, 0.010012085966845774, -0.006066816223607496, 0.001145609998187247, -0.0017778267637140743, -0.0006430717048182544, 0.004203678716228509, -0.003085680051932549, -0.023126608380227065, 0.007838741532011362, -0.0037203735594513176, 0.00028011885157130934, -0.011836757201044268, 0.021628900468082968, -0.019510778701034237, -0.0243190628488974, 0.0005686159004429925, 0.0027034940620946912, -0.005509055262455931, -0.006316846999298242, -0.0012392989391534215, 0.009569723825244125, 0.009704355781383178, 0.011300706118474224, 0.011319939255066025, -0.03295474117845876, -0.002200955768726587, -0.0013162314855197366, -8.378197300373813e-06, -0.009913443541898381, 0.00018395316861408162, -0.0013931640318833871, 0.0030689236573326895, -0.013663905177232927, 0.023532980990637498, -0.010375038820093163, 0.009319693049555156, 0.010992975933009852, 0.0021457331009431257, -0.026607806103279064, 0.008031072897925817, -0.004932061164711676, -0.02083786512584318, 0.004049813623495879, -0.006624577184760838, -0.007297736965460544, 0.006819385292666347, -0.003835772379000346, 0.0006455484468101957, 0.013704848192405805, 0.022494391614698905, 0.011300706118474224, 0.010165951059578404, 0.0023957638766312073, -0.0017585936271213853, 0.01326248605080238, -0.0025663853639628087, 0.014397241109699088, 0.025283196420460285, 0.018897795072097878, 0.002511162696180236, 0.026206386976850293, 0.02093650755079146, 0.017589941783879404, -0.0007200042511827931, -0.0112212968301173, 0.0010879105884118445, -0.002643317910330012, -0.023376639155915147, -0.008797921619594362, 0.002434230149814809, 0.006050059829006749, -0.014587095733621602, -0.00699000677999706, 0.025667859152290085, 0.013493283689899549, -0.016279611753668988, -0.029742807367687085, -0.019453079291258835, 0.003165089340289917, 0.014224142880374657, -0.009240283761197787, -0.031089126929088717, -0.0009700350268735392, -0.005374423306316878, -0.004085803154688428, 0.009627423235017751, -0.012298352479239494, -0.012721481484251118, 0.005723096506952352, -0.004451232749926426, 0.016282088495659153, 0.004376776945551164, 0.016551352407939923, 0.009588956961835038, 0.004742206540788274, 0.013974112104685688, -0.010817400961696588, 0.00029935198816311015, -0.010721235278738916, -0.006682276594534464, 0.02335988276131573, -0.002297121451682038, 0.014858836387893426, -0.02316507465340978, 0.01162766944052862, 0.014320308563331885, 0.015685861261324874, 0.0021264999643504368, 0.016993714549544237, 0.017743806876611146, 0.02307138571244316, -0.017145102900285814, -0.007182338145912404, -0.0005084397486783132, -0.01351004008450074, 0.02545629464978383, 0.015108867163581507, -0.0002584089729893435, -0.00035457465594568305, -0.011932922884001496, -0.030473666558161305, -0.0256846155468895, 0.008935030317726245, 0.00781950839542045, -0.006355313272480068, 0.01701294768613515, -0.001431630305068765, 0.011820000806443076, 0.010339049288901059, -0.0047012635256145074, -0.007355436375236835, 0.0032227887500644314, 0.006165458648555777, 0.01278165763601713, 0.0012225425445526739, -0.020433969257423357, 0.004915304770111817, 0.014801136978118912, 0.0122431298114547, 0.00010702062224865472, -0.0016816610807559584, 0.008127238580883045, -0.0002391758363975427, -0.005566754672229557, 0.001453340183650731, 0.010704478884139945, 0.004915304770111817, 0.01841696665731174, -0.007855497926614774, 0.0017610703691142149, 0.013954878968094775, -0.00902871925869242, -0.01304844480630507, -0.0032587782812552035, -0.006297613862703777, 3.008807588145146e-05, 0.019013193891646907, 0.014281842290150948, 0.024379239000661634, -0.0037203735594513176, 0.009685122644791377, -0.028415720942876366, 0.031841695998146236, 0.0020688005545759225, 0.015416597349044991, 0.0007032478565829337, -0.013375408128359467, -0.01047120450305039, 0.007684876439280508, 0.0183208009743554, -0.0116251926985389, -0.0056052209454131585, -0.013875469679738295, 0.0022803650570821787, 0.003549752072118828, -0.018145226003041248, 0.02572555856206371, 0.008684999542036387, 0.007492545073366053, 0.0035112857989352264, 0.0009725117688637042, -0.014125500455427265, -0.004720496662206308, -0.00787473106320391, 0.017320677871597745, -0.010836634098288833, -0.007278503828869631, 0.0032997212964298583, 0.012300829221229215, -0.010932799781246061, -0.0010854338464207913, -0.007490068331375888, -0.014279365548158562, 0.00862730013226276, -0.0153371880606894, 0.003607451481892454, 0.00031858512475491096, -0.02043396925742247, -0.009317216307564102, 0.028264332592135233, 0.008781165224993615, -0.002316354588274727, -0.017164336036875394, -0.01789519522735139, -0.01699123780755274, -0.007682399697290343, 0.0020880336911677233, -0.0039511711985484865, 0.010704478884139057, -0.009047952395283332, 0.015782026944281213, 0.013916412694911173, -0.0021240232223602717, -0.02191492077496493, -0.010817400961697032, -0.02231881664338653, 0.0014148739104680175, 0.004357543808960251, -0.01006730863462968, -0.00285488241283538, 0.010050552240029376, 0.017570708647287603, 0.017743806876612034, -0.01772209699802918, -0.01050967077623266, 0.00949279127887781, 0.003261255023247145, -0.008547890843905392, -0.019222281652162998, -0.009451848263704044, 0.012531626860327272, -0.006970773643406147, 0.021628900468083856, -0.013644672040640682, -0.012836880303799258, 0.036457648780094054, 0.007261747434268884, 0.007531011346548766, -0.0010662007098307669, -0.006624577184760838, -0.005874484857694817, -0.008701755936636246, 0.008261870537023874, 0.0011071437250027572, 0.013550983099674063, -0.0029702812323844086, -0.011971389157184209, 0.01603205771997107, -0.0075862340143340035, 0.02341758217108847, 0.0002608857149803967, 0.0027419603352774047, 0.0011648431347781596, 0.01462803874879448, -0.0010662007098307669, 0.01487806952448345, 0.0019341685984359813, 0.012454694313960957, -0.011836757201044268, -0.01743359994915661, -0.010182707454179596, 0.015974358310196557, 0.001434107047058042, 0.00645395569742746, 0.02039797972622992, 0.007396379390408825, 0.0045691083114656195, -0.0031049131885243497, -0.007528534604557713, -0.01060583645919122, 0.00722328116108617, -0.015818016475475094, -0.006682276594534464, 0.0061269923753721756, -0.015221789241139483, 0.005742329643544153, 0.010415981835268262, 0.013608682509448577, -0.02858881917219902, -0.00423966824742017, 0.016878315729995208, 0.0023765307400394065, 0.00822340426384116, 0.0065885876535674015, 0.0012225425445517857, 0.009165827956821637, 0.006261624331513005, 0.0078002752588295365, -0.005124392530626132, -0.01745283308574841, 0.008204171127250248, -0.005451355852682305, -0.0013931640318842753, 0.011839233943034877, 0.02024411463350173, -0.0008738693439163114, -0.020934030808801296, 0.0143972411096982, -0.008163228112076482, -0.006470712092028208, -0.009259516897789588, 0.01487806952448345, -0.03218541571480138, 0.005626930823994236, 1.0854939291427002e-05, 0.025917889927978166, 0.0200517832675855, -0.01772209699802918, 0.004280611262593936, 0.03147626640290824, 0.02422537390793078, -0.026203910234858796, -0.019933907706044973, 0.01020441733276023, -0.01635654430003486, 0.020859575004426034, -0.023838234434110817, -0.025203787132103805, -0.004143502564462942, -0.02741559784012093, 0.0035882183453006533, -0.0067976754140826046, 0.00504993672625087, -0.026780904332602606, -0.004143502564462942, -0.002181722632134786, 0.005646163960586925, 0.0075887107563241685, 0.016570585544532612, 0.0022226656473085526, 0.008011839761335793, 0.006357790014471121, -0.015914182158432322, -0.008047829292527453, -0.003181845734890665, 0.005876961599684094, 0.012243129811456477, -0.006624577184760838, 0.014416474246289113, 0.014647271885386282, -0.0067399760043089785, 0.01564739498814305, 0.000991744905455505, -0.014048567909060505, 0.00960819009842595, -0.0016624279441650458, 0.02599482247434448, -0.0009700350268735392, -0.003528042193535086, -0.01610651352434589, 0.0040305804869040784, -0.012933045986757818, -0.009124884941649647, -0.0015470291246160173, -0.042321278698497, 0.021263470872846746, 0.012050798445541133, 0.009915920283889434, -0.0021432563589520726, 0.007531011346549654, -0.008201694385259195, -0.008297860068216423, -0.013702371450414752, -0.0027587167298781523, -0.020703233169702795, -0.008682522800045334, -0.0006238385682264536, -0.02487682381004852, -0.006566877774985436, 0.026841080484368174, -0.01524102237773084, 0.017570708647287603, 0.0026265615157301525, 0.006165458648556665, 0.004261378126003024, 0.013320185460576006, -0.006393779545661893, 0.010204417332761118, -0.00362420787649409, 0.03591912095553429, 0.004646040857830158, 0.04265071876254334, 0.003338187569612572, 0.001818769778887841, 0.013166320367844264, -0.01035580568350225, -0.013086911079488228, 0.004126746169862194, 0.0006263153102183949, -0.008586357117088994, 0.013320185460576894, 0.021898164380363738, -0.01893378460328954, 0.004107513033271282, 0.012166197265089274, -0.0062783807261137525, -0.011048198600793757, 0.00924276050318884, 0.02089804127760786, -0.010163474317587795, 0.013050921548296124, -0.02049166866719787, -0.016510409392767933, 0.0045691083114656195, 0.0008378798127228748, -0.009721112175983926, 0.022898287483119617, 0.010627546337772742, 0.005549998277628809, -0.020049306525593558, 0.0007609472663583361, -0.013875469679736518, 0.005376900048306155, 0.01551276303200222, 0.008434968766347417, -0.03235851394412359, -0.007913197336386624, 0.011416104938022364, -0.01785672895416912, -0.011567493288763053, 0.0062808574681039175, 0.004819139087153701, 0.014839603251300737, -0.010990499191019243, -0.020607067486746455, -0.0022201889053174995, 0.017128346505685066, 0.009915920283889434, 0.008761932088400926, -0.032223881987983205, -0.0012392989391534215, 0.029225989421708398, -0.0024317534078237557, 0.007973373488152191, 0.029841449792634034, 0.006492421970610174, 0.0012994750909181008, 0.013839480148545746, 0.028610529050780986, -0.023126608380226177, -0.003912704925364885, -0.00537442330631599, 0.014820370114710713, 0.012589326270102674, -0.0023740539980501296, 0.00597312728264221, 0.0028958254280091467, 0.0059346610094594965, 0.007781042122238624, -0.024453694805036008, -0.015491053153418921, 0.00758871075632328, -0.02620391023485924, -0.016029580977980462, -0.005528288399047732, 0.03686154464851432, 0.01576279380769119, 0.0003185851247540228, 0.009396625595919694, -0.0018162930368967878, 0.014762670704936198, 0.008569600722488246, 0.009819754600931319, -0.021049429628349436, -0.006297613862705553, 0.006184691785147578, -0.027088634518065646, -0.0033934102373951447, 0.002722727198685604, -0.007605467150924028, -0.0070477061897724624, -0.015260255514322196, 0.0006455484468110839, -0.006489945228620009, -0.015529519426603411, 0.0062231580583302915, -0.02387670070729353, 0.009319693049555156, 0.018340034110946313, -0.0019124587198549037, -0.005720619764962187, -0.0006623048414100552, -0.009951909815081095, -0.004989760574486191, -0.010990499191019243, -0.0019509249930358408, 0.001145609998187247, -0.003470342783762348, 0.04101590215226958, -0.025992345732353428, -0.005143625667217933, 0.015185799709947823, -0.002354820861458329, -0.019126115969204438, -0.009894210405308357, 0.00443447635532479, 0.0018764691886623552, 0.02193663065354645, 0.004838372223745502, 0.006396256287652946, -0.011259763103300457, 0.012935522728747095, -0.001950924993036729, 0.007511778209957853, -0.0032587782812552035, 0.01830156783776271, 0.014724204431752597, -0.012067554840140993, -0.01933768047171025, 0.009973619693663949, 0.0009340454956809907, 0.005953894146049521, -0.008028596155935652, 0.021763532424223797, 0.0020495674179841217, 0.003857482257582312, -0.009374915717337728, 0.009050429137274385, 0.007069416068354428, 0.00014548689543136817, 0.006415489424245635, 0.005800029053318667, -0.0016047285343914197, -0.004085803154688428, -0.013663905177232039, -0.014010101635879124, 0.009185061093414326, -0.0030472137787507236, -0.002335587724866528, -0.016952771534370026, -0.010375038820093163, 0.007934907214969478, -0.006355313272480068, 0.01730144473500772, 0.009127361683639812, 0.013685615055814004, 0.009550490688652324, -0.018549121871461516, 0.003780549711215997, 0.010031319103437575, 0.0028188928816428316, -0.0049320611647125645, -0.0018162930368967878, -0.003104913188525238, -0.002624084773738211, -0.018010594046899975, -0.00814399497548468, -0.014952525328858712, -0.012298352479239938, -8.531074366580071e-05, -0.029358144635857286, 0.016743683773855267, -0.007740099107063969, -0.006259147589521952, -0.001277765212336135, -0.01662580821231474, 0.01828233470117091, -0.026146210825086058, 0.004626807721240134, 0.009165827956821637, -0.007990129882752939, -0.016991237807553627, -0.010451971366459922, -0.028242622713553267, -0.013913935952920564, -0.014087034182243663, 0.008781165224994503, 0.012685491953059014, -0.002200955768726587, -0.012279119342647693, -0.020626300623338256, -0.0024317534078228675, -0.01116359742034323, 0.012089264718723847, 0.011666135713711334, 0.01893626134528059, 0.004049813623495879, -0.0071054055995460885, -0.013086911079488228, -0.01568338451933471, 0.005684630233769639, 0.042496853669810264, 0.004761439677380075, -0.015125623558182255, 0.016397487315209958, 0.019494022306433045, 0.001664904686156099, -0.0022394220419093003, -0.017664397588253333, -0.028358021533101407, -0.0114136281960322, 0.0028958254280082585, 0.01401257837786929, 0.01870546370618431, -0.009201817488015074, -0.01241375129878719, 0.004992237316477244, -0.010702002142148004, 0.005049936726252646, 0.0072617474342679955, -0.01131746251307364, -0.023011209560678036, 0.01893626134528059, 0.023129085122216786, -0.004624330979248192, 0.006877084702439973, -0.017914428363943635, -0.0112020636935255, 0.0044152432187338775, -0.006624577184760838, 0.004376776945551164, -0.0112212968301173, -0.011682892108312526, -0.01791442836394319, -0.012509916981744418, -0.0006238385682273417, -0.008143994975483793, -0.002547152227371896, 0.01299322213852161, 0.013166320367844264, -0.007490068331375888, 0.015782026944281213, -0.0204532023940156, 0.018455432930494453, 0.018590064886633506, 0.002780426608460118, -0.01235605188901312, -0.004739729798798109, -0.008220927521850996, 0.015493529895411307, 0.018436199793902652, 0.016416720451799982, -0.011490560742397182, -0.006009116813834758, -0.005047459984262481, 0.009011962864090783, 0.02103267323374869, 0.00016472003202316898, 0.021282704009438547, 0.007454078800183339, -0.004585864706067255, -0.005701386628370386, -0.013029211669714602, -0.013183076762445456, 0.00018395316861408162, -0.004816662345163536, -0.00029687524617205696, 0.002991991110965486, 0.01035828242549286, 0.053652072892853564, -0.022376516053159712, -0.0008931024805072241, 0.0033574207062043726, -0.02489605694664032, 0.015801260080873902, 0.0025880952425456627, -0.019222281652162998, -0.013452340674726226, -0.017491299358931567, -0.008971019848917017, 0.01587819262723844, -0.0025856185005546095, 0.007261747434269772, 0.0069540172488054, 0.018186169018213683, -0.008028596155935652, -0.009778811585757552, -0.016664274485497454, 0.00354975207211794, -0.011278996239890926, 0.004665273994422847, -0.016298844890260344, -0.010509670776233548, 0.010300583015717457, 0.004184445579636709, -0.01783749581757732, 0.0008186466761319622, -0.004431999613333737, -0.0033741771008051202, -0.001277765212336135, 0.024475404683618862, -0.006816908550674405, -0.0046435641158417695, 0.017993837652300115, 0.004934537906701841, 0.0016841378227470116, -0.01701047094414454, -0.0023740539980501296, 0.006165458648556665, -0.007682399697291231, 0.029802983519451764, -0.012856113440390615, -0.011567493288763053, 0.009011962864090783, 0.0002608857149803967, -0.005509055262455931, 0.004261378126003024, -0.013760070860188378, 0.008742698951810901, -0.017568231905297882, 0.004742206540789162, -0.010394271956684964, -0.0006815379780000796, -0.005701386628370386, 0.021994330063321854, -0.0092787500343805, -0.0012200658025616207, 0.02205202947309637, -0.008105528702301967, -0.011086664873976915, 0.01662828495430624, -0.01016347431758824, -0.02512685458573838, -0.005470588989273217, -0.0075670008777413145, -0.010394271956684964, -6.607760707488808e-05, -0.027492530386485914, -0.0028933486860180935, -0.008817154756186163, 0.008704232678628188, 0.0007417141297656471, -0.0012392989391534215, -0.008682522800046222, -0.01664504134890743, -0.02501145576618935, -0.002393287134640154, 0.007434845663591538, -0.01683737271482144, -0.023626669931605004, 0.0007994135395410495, 0.011281472981881535, -0.02618467709826744, 0.0017226040959306133, -0.020626300623339144, -0.008951786712325216, 0.0038767153941732246, 0.007684876439281396, 0.015955125173605644, -0.0039896374717312, -0.0052974907599496746, -0.00046997347549559976, -0.017318201129608468, -0.014817893372718771, -0.008951786712326104, 0.0018764691886623552, -0.018183692276223518, -0.003104913188525238, 0.03182246286155399, -0.008874854165960677, -0.0027971830030608658, 0.02193663065354734, 0.0034151201159779987, -0.013221543035627725, -0.0007777036609581955, -0.006393779545662781, 0.0021457331009422376, 0.019147825847786848, -0.007817031653430284, 0.0006263153102183949, 0.0005686159004429925, 0.006684753336524629, -0.0149332921922678, 0.0052422680921662135, -0.014452463777480329, -0.008297860068216423, 0.013589449372857665, -0.006047583087016584, -0.0007584705243672829, 0.0025880952425456627, 0.008588833859078271, 0.0054730657312642705, -0.003604974739901401, 0.007781042122238624, -0.007932430472978425, -0.009067185531874244, -0.002624084773738211, -0.0029125818226098943, 0.005646163960586925, -0.010201940590770953, 0.00922352736659704, 0.022994453166076845, -0.008220927521850108, 0.01903242702823782, 0.002126499964351325, 0.00581926218990958, -0.0030664469153416363, -0.007490068331376776, 0.021898164380363738, 0.030014548021957577, 0.017724573740018457, 0.005165335545799898, 0.02007101640417641, -0.008682522800046222, 0.013781780738771232, -0.023761301887744946, -0.010278873137135935, 0.017686107466835743, -0.0005469060218610267, -0.0030664469153425244, -0.004201201974236568, -0.010740468415330717, 0.0014148739104671293, 0.01085834397686991, 0.01666675122748984, -0.004874361754938938, -0.02935814463585773, 0.012647025679875412, 0.02016718208713364, -0.0049320611647125645, -0.015029457875225027, -0.006489945228619121, 0.007877207805195852, 0.011839233943034877, 0.0020111011448022964, 0.014435707382880913, -0.009374915717337728, 0.019744053082122015, 0.02420614077133898, 0.005492298867854295, -0.043879162762403556, -0.022145718414062543, -0.006547644638394523, -0.015452586880236652, 0.019955617584627383, 0.0029150585646000593, -0.01291381285016513, 0.018493899203677167, -0.009490314536887645, -0.0054513558526814165, -0.019472312427850635, 0.020109482677359125, -0.009182584351424161, -0.004720496662206308, 0.008319569946798389, 0.02739884144551974, -0.01108666487397647, -0.010952032917837862, 0.014704971295160796, -0.004258901384011082, 0.012262362948046501, -0.02278041192158131, 0.00810800544429302, -0.008355559477990937, 0.007146348614720743, 0.0020688005545759225, -0.003470342783762348, -0.022607313692257325, -0.009067185531874244, -6.607760707488808e-05, -0.020626300623338256, 0.005280734365348927, 0.00895426345431627, 0.010165951059577516, -0.016375777436626215, 0.014589572475611767, 0.018609298023226195, -0.0033741771008051202, 0.009281226776371554, -0.029319678362674573, 0.00406904676008768, 0.0025496289693629492, 0.003415120115978887, -0.007720865970472168, 0.010262116742535632, -0.0014700965782514785, 0.010781411430505372, -0.020203171618324856, -0.027742561162174884, -0.01704893721732814, 0.008704232678629076, 0.0044152432187338775, -0.006855374823858007, 0.0011456099981881351, 0.002280365057083067, -0.0008931024805072241, -0.005662920355186785, -0.022241884097018882, -0.01697200467096094, 0.014108744060827405, -0.0032587782812552035, -0.020991730218576254, -0.0003161083827629696, -0.003181845734890665, -0.020030073389002645, -0.015164089831364524, -0.020703233169703683, 0.022359759658558964, 0.006877084702440861, 0.008704232678628188, -0.012471450708562148, 0.003799782847808686, -0.014606328870212959, 0.004646040857830158, -0.0297812736408698, 0.016839849456813383, -0.0013354646221106492, 0.00935815932273698, -0.014221666138383604, 0.0064539556974283485, -0.0025086859541891826, -0.020164705345142586, -0.007163105009319715, 0.0012802419543271881, 0.007992606624743992, 0.004145979306452219, 0.003761316574624196, -0.0012969983489279358, -0.0030279806421580346, 0.0010494443152300192, 0.03391887475002209, -0.003297244554438805, 0.002184199374124951, 0.010589080064590917, -0.0031049131885243497, 0.011646902577120422, -0.013317708718585841, 0.02220589456582811, -0.013106144216080029, 0.008684999542037275, -0.007586234014333115, 0.007781042122238624, -0.00839402575117365, 0.00039551767112033787, 0.006146225511963976, -0.0005853722950437401, 0.0077425758490559105, -0.003701140422860405, -0.010009609224855609, -0.01266378207447616, 0.003934414803947739, -0.01701047094414454, 0.0018572360520705544, -0.005797552311326726, 0.010050552240030264, -0.00010454388025760153, -0.005470588989272329, -0.01745283308574841, 0.02482160114226506, -0.011125131147160072, 0.0021264999643504368, -0.00800936301934474, 0.014089510924234716, -0.008759455346411649, -0.0009508018902808502, -0.0011046669830125921, 0.019667120535756588, -0.01629884489026212, 0.012146964128497473, 0.014089510924234716, -0.010490437639642192, 0.012954755865338896, -0.007316970102052345, -0.018125992866449003, 0.008819631498176328, 0.017705340603427544, -0.014510163187257064, 0.0022803650570821787, 0.0009148123590883017, -0.023011209560677592, 0.010762178293912683, -0.0003161083827638578, 0.0006263153102183949, -0.006547644638395411, 0.001568739003197983, -0.006970773643406147, -0.004778196071981711, -0.014144733592018621, 0.00633855687787932, -0.00010454388025760153, -0.037109098682213126, 0.022013563199913655, -0.004528165296291853, 0.014974235207440678, -0.016625808212315185, -0.011394395059441287, 0.005953894146049521, -0.005682153491778585, 0.008761932088400926, 0.017089880232501464, 0.01853236547685988, 0.024763901732490545, 0.009531257552059635, 0.01691678200317792, -0.0076439334241076295, 0.005011470453068156, 0.019494022306433045, -0.0035857416033104883, 0.0063000906046966065, -0.007797798516838483, -0.0004892066120865124, -0.02353050424864689, 0.006030826692415836, 0.0038190159843987104, 0.02120577146307312, -0.006855374823858007, 0.015358897939271365, 0.006434722560836548, 0.0019918680082113838, 0.013166320367844264, -0.009721112175984814, 0.00241499701322212, -0.0006046054316346527, -0.0011623663927879946, -0.006239914452931927, -0.0038742386521830596, 0.008723465815219988, 0.022282827112193537, -0.0036434410130841144, -0.00975957844916664, -0.017241268583241265, 0.0042613781260021355, -0.016741207031864658, 0.0108775771134626, -0.001046967573238966, 0.014339541699922798, -0.008855621029368876, 0.0038959485307650255, -0.003758839832633143, 0.016685984364080753, -0.0221649515506539, 0.012973989001929809, -0.015875715885249164, -0.012817647167207014, 0.01816693588162277, -0.00864405652686262, -0.010971266054427886, 0.02632178579639799, -0.014221666138383604, -0.022626546828848237, -0.003181845734890665, 0.007184814887902569, 0.015608928714960335, -0.00687460796044892, -0.008759455346411649, 0.016474419861575385, -0.011182830556933698, -0.03366636723234251, 0.025937123064569967, -0.007278503828869631, 0.019820985628487442, -0.015510286290012498, -0.02418443089275657, -0.010336572546910894, -0.015664151382742908, 0.014839603251300737, -0.002258655178500213, -0.02256884741907461, 0.0022226656473085526, -0.009951909815080207, -0.0007200042511845695, -0.016125746660937246, -0.0007392373877763703, -0.009067185531874244, -0.0009508018902817383, -0.0006238385682255654, 0.021398102828987575, -0.014202433001793136, -0.003085680051932549, -0.006836141687266206, 0.024167674498156266, 0.013704848192405805, 0.019263224667335876, 0.009531257552060524, -0.004412766476742824, 0.0063770231510620334, 0.005992360419233123, 0.005434599458080669, 0.004722973404196473, -0.0017008942173486474, 0.016051290856562872, -0.0008161699341417972, 0.00022241944179679507, 0.004338310672368451, -0.00787473106320391, 0.004203678716227621, -0.007451602058192286, -0.0018547593100795012, -0.0035088090569450614, -0.017375900539383426, -0.005797552311328502, -0.032127716305026865, 0.0004916833540766774, -0.002412520271231955, -0.022953510150902634, -0.00916335121483236, -0.005182091940402422, -0.022184184687246145, -0.0013354646221106492, 0.006627053926751003, -0.0025279190907800952, 0.01276242449942444, -0.007220804419095117, -0.0041050362912802285, 0.02043644599941441, -0.011375161922848598, 0.0017418372325215259, -0.005201325076992447, -0.006239914452931927, 0.0035305189355279154, 0.0045691083114656195, 0.005069169862844447, -8.531074366580071e-05, 0.004530642038282018, -0.005778319174736701, 0.019378623486884905, -0.0007200042511836813, 0.0059154278728668075, 0.007473311936776028, 0.008358036219981102, -0.0011431332561961938, -0.0043935333401510235, -0.012548383254927131, -0.0114136281960322, -0.017241268583241265, 0.029322155104665626, -0.004566631569473678, -0.01693353839777867, -0.0053359570331315, -0.00637454640907098, -0.04734112734886642, 0.006742452746300032, 0.006011593555824035, -0.013029211669713714, -0.020145472208550785, 0.00731944684404251, 0.01487806952448345, 0.002722727198686492, 0.0019341685984359813, 0.011646902577120422, -0.03618590812582312, -0.016106513524346777, 0.009588956961835038, -0.026665505513054022, 0.004222911852818534, 0.004973004179886331, 0.030110713704914804, 0.024994699371588602, 0.007127115478128054, 0.0019726348716186948, 0.013012455275112522, -0.0006815379780009678, -0.015721850792516534, 0.004126746169862194, 0.021263470872846746, 0.0026650277889119778, -0.006720742867717178, -0.023838234434111705, 0.013454817416716836, 0.010281349879127433, -0.015452586880236652, -0.0020663238125866457, 0.0161666896761119, 0.0045691083114656195, -0.005470588989273217, -0.011009732327611044, 0.005780795916725978, 0.010858343976870799, -0.0006815379780009678, 0.014974235207440678, -0.0011239001196052811, -0.019876208296271347, -0.020030073389002645, 0.003395886979386198, 0.015974358310196557, -0.010201940590770953, 0.005876961599684094, 0.00256886210595475, 0.011916166489401192, 0.016839849456812495, -0.009221050624605986, -0.005162858803809733, -0.01845295618850562, -0.00447046588651645, 0.0045691083114656195, -0.007124638736137889, -0.00245098654441378, -0.024857590673457164, 0.001664904686156099, 0.004569108311466508, -0.004297367657193796, -0.0052205582135833595, -0.024242130302531528, -0.0052974907599496746, 0.018859328798915165, 0.008819631498177216, 0.0029919911109663744, -0.013952402226103278, 0.019609421125982074, -0.02366513620478683, -0.003758839832633143, 0.014839603251300737, -0.012490683845153505, -0.016952771534370026, 0.00293429170119186, 0.018436199793902652, -0.015106390421590898, 0.005780795916726866, 0.02170583301445017, -0.015279488650914885, -0.005028226847668904, -0.0014893297148423912, 0.010935276523236226, 0.011435338074613277, -0.026203910234859684, 0.01626285535906913, -0.01562568510956064, 0.014820370114709824, 0.0012225425445517857, -0.021414859223587435, 0.015608928714958559, -0.01806829345667449, 0.011069908479376167, 0.002472696422995746, 0.00935815932273698, 0.006684753336524629, -0.02747329724989589, 0.005953894146049521, -0.003143379461707063, 0.024283073317704407, 0.007454078800183339, 0.03613068545803921, -0.005585987808822246, -0.019453079291258835, 0.023802244902918268, -0.014394764367707147, -0.011009732327611044, -0.013029211669713714, 0.013454817416716836, 0.006261624331513893, 0.00935815932273698, -0.00021994269980663006, -0.011817524064452911, -0.004066570018096627, 0.023532980990638386, -0.015414120607053938, 0.018570831750042593, -0.011971389157182877, -0.020934030808801296, -0.0025471522273727842, 0.003107389930515403, -0.0004122740657201973, 0.009742822054567668, -0.0006430717048182544, -0.0028933486860180935, -0.006047583087016584, 0.012454694313961845, 0.0054730657312642705, -0.019933907706045417, 0.009800521464340406, -0.004797429208571735, -0.0013546977587015618, -0.007740099107063969, -0.006970773643406147, -0.00010454388025760153, 0.023475281580862983, -0.00020070956321394107, -0.002989514368975321, 0.014839603251300737, -0.013125377352670942, 0.0017610703691133267, 0.01841696665731174, 0.003338187569612572, -0.013106144216080917, -0.011144364283750985, -0.01322154303562817, 0.018897795072097878, 0.010165951059577516, 0.028091234362812578, -0.004797429208571735, -0.004258901384010194, -0.00939414885392953, 0.013704848192405805, -0.008470958297539077, -0.018279857959180745, 0.0017803035057042393, 0.012358528631004617, 0.001818769778887841, 0.023456048444273847, -0.01210602111332415, -0.002931814959200807, -0.023934400117068044, 0.005588464550811523, 0.0032804881598389457, -0.006009116813832982, 0.007088649204945341, 0.002261131920491266, -0.01058660332259942, -0.0151640898313663, -0.018202925412814874, -0.002258655178500213, 0.020378746589639007, -0.006239914452931927, -0.011086664873977359, -0.024511394214811855, -0.022299583506795173, 0.010165951059577516, -0.02789642625490618, -0.0010662007098307669, 0.008204171127250248, -0.004951294301303477, 0.020128715813951814, 0.019109359574605023, 0.004222911852819422, 0.0022995981936739796, 0.00028011885157130934, 0.002722727198685604, -0.020414736120832, -0.0045666315694754545, 0.0087234658152191, 0.021494268511943915, -0.010855867234879746, -0.005105159394036107, -0.0069515405068143465, 0.01324325291421058, 0.0010686774518200437, -0.0007969367975499964, -0.007490068331375888, -0.007336203238644146, 0.018974727618464193, -0.017991360910309062, 0.011204540435516996, -0.027280965883980546, 0.0075694776197314795, 0.020090249540767324, -0.009701879039393013, 0.005896194736275007, 0.025379362103417513, 0.012089264718723847, 0.004165212443044908, 0.013916412694911173, 0.02103267323374869, -0.003604974739901401, -0.0006623048414100552, -0.01029810627372818, -0.023934400117068932, -0.0025086859541891826, -0.004124269427872029, 0.006569354516977377, 0.023744545493143754, 0.011935399625992105, 0.0018572360520714426, 0.0022995981936748677, -0.01747206622234021, 0.002953524837784549, -0.02916581326994283, 0.01551276303200222, -0.01302921166971327, -0.01302921166971327, 0.005492298867854295, 0.012550859996918184, -0.015067924148408185, 0.009531257552060524, -0.015433353743645295, 0.013397118006942321, -0.01327924244540224, 0.005684630233770527, -0.006374546409070092, -0.006663043457942663, -0.0014508634416587896, -0.016702740758681056, 0.021494268511943915, 0.021090372643523203, -0.014529396323847088, 0.004280611262593936, -0.015375654333871225, 0.017955371379116514, -0.01874145323737597, -0.019549244974216062, 0.017859205696159286, -0.016375777436626215, 0.006030826692414948, -0.03422412819349496, -0.014010101635877792, -0.0017778267637131862, -0.0217802888188241, 0.005800029053318667, 0.015320431666086876, 0.013801013875363033, -0.012009855430366922, 0.004530642038282906, -0.00010454388025760153, -0.00724003755568603, 0.0004916833540775656, 0.01907089330142142, -0.020337803574465685, -0.007316970102052345, 0.0037997828478077977, -0.003951171198547598, 0.0017418372325206377, 0.019494022306433934, 0.0016841378227478998, -0.020799398852660467, -0.02299197642408668, 0.019320924077108614, 0.00031858512475491096, -0.001873992446671302, -0.018933784603289983, 0.00924276050318884, -0.01356773949427481, 0.011512270620979592, 0.012570093133509097, -0.008894087302550702, 0.02207126260968817, 0.00531920063853164, 0.0053192006385325286, -0.022107252140880274, -0.0021240232223602717, -0.012856113440390615, -0.0009508018902808502, -0.009336449444155015, 0.009742822054567668, -0.01518332296795677, 0.017224512188641405, 0.007627177029505994, -0.007297736965461432, 0.0020303342813940972, 0.011166074162332507, -0.004162735701053855, -0.023088142107043907, -0.00916335121483236, -0.005989883677242069, 0.001953401735027782, 0.026571816572087403, 0.010992975933009852, 0.0062231580583302915, -0.008047829292527453, 0.0011263768615954461, -0.01435629809452399, -0.00548982212586413, -0.001950924993036729, -0.012298352479238606, -0.0016816610807559584, -0.004528165296291853, 0.012993222138522498, 0.011666135713711334, 0.025417828376600227, 0.0020303342813940972, -0.008797921619594362, -0.0168950721245964, 0.012070031582131158, 0.012320062357820127, 0.004299844399185737, 0.009896687147297634, 0.011300706118474224, -0.022030319594514403, -0.003758839832633143, 0.029802983519451764, -0.004528165296291853, 0.010589080064590917, 0.010666012610955455, 0.0065501213803838, 0.0027034940620946912, 0.027110344396648056, 0.0038190159843995986, 0.0044921757651001926, -0.0013546977587015618, -0.006836141687266206, -0.0029510480957926077, 0.010550613791407315, 0.02418690763474718, -0.01481789337271966, -0.01783749581757732, -0.0038550055155903706, -0.0022394220419093003, -0.01789519522735139, 0.013724081328996718, -0.008605590253679019, -0.018895318330105937, -0.0013162314855188484, -0.0013931640318851635, -0.020607067486746455, -0.008778688483001673, -0.014298598684749031, -0.00039304092913017286, 0.00029935198816222197, -0.0029510480957926077, 0.020147948950542727, -0.006297613862705553, 0.023648379810186526, 0.02168659987785926, -0.0031049131885243497, 0.024379239000661634, 0.005030703589661734, 0.005819262189908692, -0.0017778267637140743, 0.004896071633520016, 0.005588464550812411, 0.021378869692395774, 0.0032804881598380575, 0.004819139087154589, -0.002470219681006469, 0.008896564044542643, 0.012012332172357532, 0.017378377281373147, -0.010567370186008063, -0.023453571702281018, -0.018683753827601457, -0.0008354030707327098, 0.019609421125982074, -0.02037626984764973, 0.013339418597167807, -0.022241884097018882, -0.04032103249298613, 0.001741837232522414, -0.005893717994284842, -0.01327924244540224, -0.0007584705243672829, 0.011646902577120422, -0.017241268583241265, 0.005857728463092293, -0.005412889579497815, 0.0042613781260021355, -0.0033357108276215186, -0.004605097842658168, -0.0011623663927879946, 0.0063577900144693444, -0.009836510995532954, -0.0015085628514333038, 0.010146717922987492, 0.0031073899305145147, 0.0062808574681039175, 0.00012625375883956735, -0.007567000877740426, -0.0043935333401510235, 0.011646902577120422, -0.011971389157184653, 0.014378007973107287, -0.0025279190907809834, 0.003799782847808686, 0.03453433512094861, 0.005953894146049521, -0.0036434410130850026, 0.010704478884139057, 0.0012225425445526739, -0.026300075917817356, -0.0276079292060345, 0.0042806112625948245, -0.013221543035628613, 0.008300336810206588, -0.011432861332623556, 0.006377023151061145, 0.01101220906960343, -0.01041350509327632, 0.0028188928816428316, 0.0029727579743745736, -0.005201325076992447, -0.016625808212315185, 0.0087042326786273, -0.013644672040640682, 0.004338310672368451, 0.0029727579743745736, -0.0014700965782514785, 0.0031266230671072037, 0.0010686774518209319, 0.01662828495430624, 0.005146102409208986, -0.0018162930368967878, -0.025588449863932272, 0.011300706118474224, -0.0014893297148423912, -0.01235605188901312, 0.021859698107181913, -0.01343310753813487, -0.018164459139631273, 0.0065885876535674015, -0.0033741771008051202, 0.01239699490418733, 0.007761808985646823, 0.025687092288880997, -0.0038550055155903706, 0.010262116742534744, -0.010971266054428774, 0.005261501228758014, -0.007220804419095117, -0.010971266054428774, 0.012608559406693587, -0.005739852901553988, 0.0035689852087097407, 0.005876961599684094, 0.005357666911715242, 0.03157243208586635, 0.0034151201159771105, -0.01291381285016513, -0.009701879039393013, 0.0056269308239960125, 0.0034920526623434256, 0.012954755865339784, -0.004643564115840881, 0.007338679980635199, 0.0017610703691133267, -0.014952525328858712, 0.006646287063341916, 0.025263963283869373, 0.03022611252446339, -0.004143502564462942, -0.03232004767094043, 0.011512270620979592, 0.025629392879106483, 0.01703218082272695, -0.010048075498038767, -0.0092787500343805, 0.010454448108450087, 0.01324325291421058, 0.02005178326758461, -0.002181722632133898, -0.037474528277451125, -0.01518332296795677, 0.013435584280125035, 0.0013187082275099016, -0.021703356272459562, -0.0018739924466721902, 0.010435214971857398, 0.0006070821736257059, 0.009627423235017751, 0.009704355781383178, -0.011567493288763497, 0.0013764076372844158, -0.012567616391519376, 0.013031688411705211, 0.0031843224768799416, 0.013512516826490462, 0.01516656657335691, -0.015933415295023234, 0.008492668176121043, -0.008586357117088994, -0.030800629880216146, 0.008511901312713732, 0.007242514297677083, -0.014798660236127414, -0.012259886206055892, -0.02995437187019334, -0.0037973061058158564, 0.01297398900192892, 0.006800152156073658, -0.0009315687536908257, -0.02918504640653552, 0.0006647815834002202, 0.01070447888413728, -0.00818246124866917, -0.018818385783741398, 0.01726297846182323, -0.01293304598675693, -0.02151102490654555, -0.003528042193536862, -0.008682522800045334, -0.000508439748677425, 0.019647887399164787, 0.0018572360520705544, 0.010185184196170205, -0.014279365548157674, 0.004126746169862194, 0.015089634026989707, -0.020395502984240643, 0.005357666911715242, -0.007182338145911515, 0.02107113950693229, -0.018664520691009212, -0.014279365548158562, 0.02091727441420055, -0.0011815995293789072, -0.014337064957933077, 0.003857482257581424, 0.027341142035746113, -0.0004507403389046871, 0.002799659745051919, 0.010262116742534744, 0.004242144989411223, -0.027665628615809013, 0.0028188928816428316, -0.012144487386505975, -0.0026625510469218128, 0.018878561935506077, -0.021087895901532594, 0.0012802419543263, 0.025283196420460285, -0.005143625667217933, 0.017474542964330375, -0.011336695649666328, 0.002626561515728376, 0.03147626640290824, 0.001587972139789784, 0.010704478884138169, 0.011223773572108797, -0.0006623048414109434, -0.004470465886518227, -0.003816539242407657, -0.005509055262455931, 0.014666505021978082, -0.009605713356434897, -0.0017778267637140743, -0.005682153491780362, 0.017955371379116514, -0.02991590559700974, 0.007261747434268884, 0.007030949795171715, -0.006047583087016584, -0.004932061164711676, -0.019433846154667478, 0.004299844399185737, 0.016685984364080753, -0.0010662007098307669, -0.01760669817847882, -0.023953633253658957, 0.0022418987838994653, -0.004989760574485302, 0.01247392745055187, 0.012858590182381668, 0.018743929979367024, -0.031416090251144, -0.01064430273237349, 0.01916705898437776, -0.03633977321855486, -0.0007200042511836813, 0.013627915646041266, -0.011048198600793757, 0.01324325291421058, 0.005800029053317779, -0.007663166560698542, -0.002008624402811243, 0.0013187082275107898, -0.0165104093927666, 0.024417705273845236, 0.0033381875696116836, 0.004876838496928215, 0.0010302111786382184, -0.012759947757434276, 0.003915181667356826, 0.00039551767112033787, 0.011262239845289734, -0.012875346576982416, -0.015721850792517866, 0.01853236547685988, 0.003588218345299765, -0.006278380726114641, -0.00423966824742017, 0.012300829221229215, -0.006239914452931039, -0.011413628196031311, -0.01170212524490477, -0.00537442330631599, -0.000816169934140909, 0.014493406792656316, 0.004184445579636709, -0.0056052209454131585, -0.0074131357850095725, 0.001876469188661467, -0.005778319174736701, 0.011723835123485848, -0.011202063693526387, 0.005723096506952352, 0.01593589203701473, -0.01756823190529655, -0.003162612598298864, -0.006816908550674405, -0.0033741771008051202, -0.011836757201044268, -0.003027980642158923, -0.00029687524617205696, -0.018337557368953927, 0.005357666911715242, 3.008807588145146e-05, -0.005278257623357874, 0.0028381260182346324, 0.017859205696159286, -0.024530627351403655, 0.019090126438012334, -0.020107005935368516, 0.0091081285470489, 0.009896687147297634, 0.024994699371588602, -0.0014123971684769643, -0.02576154809325537, 0.025610159742513794, 0.004626807721240134, 0.0045498751748729305, -0.016683507622090588, -0.007874731063204798, -0.0075093014679668, -0.004489699023108251, -0.007913197336387512, 0.0016264384129733855, 0.010069785376621176, -0.006682276594534464, 0.002203432510716752, -0.019837742023088634, -0.0025279190907809834, 0.004376776945550276, -0.008855621029368876, -0.010163474317587351, -0.00487436175493805, -0.00423966824742017, 0.0019341685984359813, 0.0034728195257516248, -0.007605467150924028, -0.016702740758680612, 0.0021457331009431257, 0.01691678200317792, -0.010644302732373934, -0.03430106073986039, -0.007163105009321491, 0.0016072052763815847, -0.0043935333401510235, -0.005682153491779474, -0.0006238385682273417, 0.018186169018212794, 0.02461003663975969, -0.017664397588253777, -0.01739513367597434, 0.0030496905207408886, -0.012182953659690021, 0.004838372223745502, -0.009913443541898381, -0.011278996239891814, -0.021126362174714863, 0.011800767669852164, -0.0074131357850095725, 0.006723219609708231, 0.00014548689543048, 0.010204417332761118, 0.022475158478107993, 0.006915550975622686, 0.011069908479377055, 0.017705340603428432, -0.002354820861458329, -0.00837479261458185, -0.01593341529502368, 0.0028573591548273214, -0.009297983170972302, -0.004816662345163536, 0.008838864634768129, -0.03526271756943444, 0.0034151201159779987, -0.015260255514322196, -0.017548998768705193, 0.009300459912962467, -0.01722203544665124, 0.008569600722488246, -0.004393533340151912, -0.02006853966218447, 0.007069416068354428, 0.0003570513979385126, 0.033264948105913295, -0.018741453237375083, 0.00468450713101376, 0.01010825164980389, 0.013050921548296124, -0.02174182254564183, -0.006336080135888267, -0.006162981906563836, 0.00722328116108617, -0.01549105315341981, 0.0072617474342679955, -0.007220804419095117, 0.01301245527511341, 0.007357913117226111, -0.01087510037147199, -0.015414120607054826, 0.0025303958327711484, 0.005934661009458608, 0.019955617584627383, -0.005836018584510327, 0.0027996597450510308, 0.0019341685984359813, 0.01828233470117091, 0.025783257971837337, -0.006162981906564724, 0.00045321708089485213, 0.015108867163581507, 0.008165704854067535, 0.01589742576383113, 0.0041075130332703935, 0.002876592291417346, -0.014337064957932188, -0.013336941855177642, -0.00245098654441378, 0.007127115478128054, 0.0035882183453024297, -0.016087280387754532, -0.022376516053159712, 0.005146102409208986, 0.015570462441776733, -0.028050291347639256, 0.0027996597450510308, -0.0147409608263529, -0.012740714620842475, 0.0033574207062043726, -0.009336449444155015, 0.013935645831502974, -0.00018147642662302843, 0.00012625375884045553, 0.029879916065818524, -0.02322277406318385, -0.01833755736895526, -0.011394395059440399, -0.004489699023109139, -0.02012623907196076, 0.0018957023252532679, -0.02006853966218447, -0.0007584705243681711, 0.014281842290148283, -0.014683261416578386, -0.009471081400294956, -0.008547890843904504, -0.00043150720231199813, 0.03901565594675782, 0.0012802419543263, 0.007896440941786764, 0.0035689852087097407, -0.007682399697290343, -0.01045197136645859, 0.01124300670869971, -0.016914305261187756, -0.016972004670961383, -0.013086911079488228, -0.003393410237396033, -0.0221649515506539, 0.003088156793922714, -0.003027980642158923, 0.0011071437250045335, 0.0007417141297656471, -0.011375161922849486, -0.0050859262574443065, 0.00024165257838681953, -0.010971266054428774, 0.03309184987658975, 0.002645794652320177, -0.020433969257422913, -0.005355190169724189, -0.006066816223607496, 0.005146102409208986, 0.0031266230671063155, 0.023148318258809475, 0.005934661009458608, 0.0063000906046966065, 0.01632055476884453, 0.009781288327750381, -0.015087157284999098, -0.03457032465214116, 0.020648010501920666, 0.0055307651410370084, 0.00037628453452764887, -0.018779919510558685, 0.0037228503014414827, 0.007204048024493481, -0.011490560742397626, 0.015435830485636792, 0.03232252441293193, 0.0007801804029492487, -0.009086418668465157, -0.006393779545661893, 0.0026073283791374635, 0.010223650469352918, -0.004893594891530739, -0.01591418215843321, 0.010550613791408203, -0.0028164161396517784, -0.01008654177122148, 0.0023765307400402946, 0.012916289592155294, -0.025838480639621242, 0.01010825164980389, -0.023184307790001135, -0.00435506706696831, -0.0038742386521821714, 0.01037751556208466, 0.007531011346547878, 0.015724327534507587, -0.0007969367975491082, -0.0020470906759939567, -0.002720250456695439, 0.008031072897927594, -0.019491545564443324, 0.02545629464978294, -0.016895072124595067, 0.014358774836516375, -0.02301120956067715, 0.007627177029505994, 0.0008571129493146756, -0.008547890843905392, -0.016818139578231417, -0.003027980642158923, -0.005259024486767849, -0.012644548937884803, -0.0025086859541891826, 0.01891702820868879, -0.017260501719833954, -0.005182091940401534, 0.003338187569612572, -0.03241621335389855, -0.0035088090569441732, 0.014435707382880913, -0.023761301887744946, 0.006780919019482745, -0.01722203544665124, 0.0009532786322727915, 0.0027034940620946912, 0.014243376016966458, 0.01010825164980389, -0.006374546409070092, -0.0003161083827638578, -0.022799645058171336, 0.021321170282620372, 0.011416104938022364, -0.009971142951672896, 0.005280734365348927, -0.010798167825105676, 0.005049936726251758, -0.024165197756165657, 0.0030496905207408886, 0.012589326270101786, 0.0017995366422960402, 0.0161474565395201, 0.0054730657312642705, -0.009144118078241448, -0.00410503629127934, -0.0026048516371464103, -0.002701017320103638, 0.010300583015718345, -0.0046243309792490805, -0.011336695649667217, -0.016279611753669876, -0.008605590253679907, -0.014952525328858712, 0.0060692929655985495, 0.024898533688631375, 0.01764764119365303, 0.010262116742534744, -0.01776056327121145, -0.010240406863953666, 0.023263717078357615, -0.008394025751174539, -0.007278503828869631, -0.0018355261734885886, 0.003819015984397822, 0.024129208224973553, 0.0029919911109663744, 0.015320431666087764, 0.020628777365328865, 0.02293675375630322, 0.002241898783898577, -0.0062206813163401264, -0.015202556104548126, -0.01745283308574841, 0.010435214971859175, -0.03368560036893342, -0.004335833930378286, 0.007511778209956965, -0.006413012682253694, -0.0061245156333820105, -0.008971019848917017, 0.004434476355325678, -0.01372160458700522, 0.022782888663572365, -0.016375777436626215, -0.033493269003019854, 0.013704848192405805, -0.028781150538113476, -0.007105405599546977, -0.002931814959200807, -0.006605344048168149, -0.024453694805036896, -0.010682769005556647, 0.011473804347796879, 0.009838987737524008, 0.02857206277759916, -0.01614497979752949, 0.007011716658580802, 0.0035882183453006533, 0.008684999542036387, -0.014452463777481661, 0.002799659745051919, 0.013474050553307748, 0.006126992375373064, -0.02803105821104701, -0.011721358381495683, 0.005780795916725978, -0.015164089831365413, 0.0022995981936748677, -0.01622191234389536, -0.01066353586896529, 0.00960819009842595, 0.019051660164828732, -0.023299706609550164, 0.003088156793922714, 0.005761562780135954, 0.0002608857149803967, 0.007357913117225223, 0.006857851565848172, -0.01714510290028537, 0.016993714549544237, -0.007701632833881256, 0.0004339839443030513, 0.009050429137275273, 0.0063577900144693444, 0.01539736421245319, 0.00418444557963582, 0.015839726354057504, -0.0068746079604480315, -0.003316477691030606, -0.020472435530605626, -0.008855621029368876, 0.024379239000661634, -0.01351004008450074, 0.004280611262593048, -0.0010085013000562526, -0.0030472137787498355, -0.0186452875544183, 0.019647887399164787, -0.004008870608323889, 0.004973004179886331, -0.02378053502433497, -0.014317831821340832, -0.011048198600793757, 0.0037997828478069096, 0.010089018513212089, -0.010567370186008507, 0.01782073942297746, 0.006569354516976489, 0.01312785409466155, 0.003703617164849682, 0.02497546623499769, -0.019145349105795795, -0.0010085013000562526, 0.005338433775124329, -0.002489452817597382, 0.01630132163225184, -0.0019893912662194424, 0.00443447635532479, 0.00037628453452853705, -0.0011431332561961938, -0.007240037555686918, -0.015606451972968838, 0.025610159742514682, 0.01097374279641894, -0.021761055682234076, 0.01955172171620667, 0.003261255023247145, -0.014106267318836352, 0.020667243638512467, 0.0010302111786382184, 0.004588341448056532, -0.013894702816330096, 0.012935522728746207, -0.011259763103300457, 0.004396010082142077, -0.003162612598297976, 0.012493160587144558, -0.00523979135017516, 0.005761562780135954, 0.008434968766348305, -0.0007777036609581955, 0.006453955697426572, 0.023417582171090245, 0.01516656657335691, -0.02116482844789891, 0.0020688005545759225, -0.018837618920331867, -0.0038934717887739723, 0.01714757964227509, -0.012336818752422207, -0.004162735701052966, 0.0023188313302657804, 0.006915550975622686, -0.006990006779998836, 0.00987745401070761, -0.02299197642408668, 0.016974481412953324, 0.011896933352808503, 0.015224265983130536, 0.0006263153102175067, -0.013317708718584953, 0.022917520619711418, 0.006415489424244747, 0.01741684355455586, -0.003681907286267716, -0.014087034182244551, 0.0017418372325215259, 0.001587972139789784, 0.0025303958327711484, 0.012800890772606266, -0.004028103744913913, 0.004646040857830158, -0.007740099107063969, -0.003143379461707063, -0.0112212968301173, 0.007550244483140567, -0.012490683845153061, 0.0015495058666079586, -0.007836264790021197, -0.002874115549427181, 0.0005878490370356815, -0.016895072124595067, 0.005992360419233123, 0.015493529895411307, 0.007511778209958742, -0.0033357108276215186, -0.006259147589521952, 0.014493406792656316, 0.001607205276382473, -0.010971266054428774, 0.010435214971859175, -0.012779180894024744, -0.013106144216080029, 0.0070501829317626274, 0.007857974668603163, -0.002104790085768471, 0.0034151201159771105, 0.00987745401070761, -0.0096634127662103, -0.010240406863952778, -0.019356913608302495, 0.003472819525752513, 0.023167551395400388, -0.003778072969225832, -0.01047120450305039, -0.008836387892777076, 0.010973742796419828, 0.0007609472663583361, 0.0059346610094594965, -0.00825939379503371, 0.008838864634768129, 0.022955986892895908, 0.009146594820230725, 0.020821108731242433, -0.010605836459190776, -0.004008870608323001, 0.007396379390408825, 0.012300829221229215, 0.01903242702823782, 0.015070400890398794, 0.006761685882890944, -0.002874115549428069, -0.020126239071960317, 0.008877330907950842, -0.0003161083827638578, -0.017491299358931567, -0.019337680471709806, -0.008240160658441908, -0.011759824654678397, 0.0032804881598380575, 0.006107759238783039, 0.0002416525783877077, -0.008278626931624622, -0.010413505093275433, -0.0007392373877754821, 0.003242021886655344, -0.011605959561947099, -0.0068938410970407205, 0.005126869272617185, -0.026973235698516618, 0.022629023570838847, -0.026453941010547766, 0.009319693049555156, -0.0017778267637140743, -0.006663043457942663, -0.002643317910330012, 0.0008571129493155638, 0.002645794652320177, -0.014952525328858268, 0.010627546337772742, 0.007146348614720743, 0.005549998277628809, 0.012435461177369156, 0.0037613165746250843, -0.002701017320103638, -0.0020470906759939567, -0.010855867234879746, -0.02689630315215208, -0.004797429208571735, 0.014974235207441566, 0.016435953588391783, -0.02539611849801826, 0.02597558933775268, -0.014490930050664375, 0.02130193714602946, -0.0006815379780009678, 0.012839357045789868, -0.02058783435015421, -0.006086049360200185, -0.000527672885270114, -0.01593341529502368, -0.003066446915340748, -0.0016816610807559584, -0.0023740539980501296, 0.00010702062224865472, -0.0016431948075741332, -0.00450893215970094, -0.027530996659669515, -0.0010085013000562526, 0.022513624751291594, -0.017202802310058996, 0.007857974668603163, 0.01897472761846508, 0.021513501648534827, 0.004011347350313166, 0.018474666067085366, -0.016760440168455126, 0.009069662273866186, 0.014051044651051114, 0.0017995366422969283, 0.022532857887883395, 0.007434845663591538, 0.001453340183650731, 0.012012332172357532, -0.017799029544394163, -0.016856605851412798, -0.022472681736117384, -0.003316477691030606, -0.0005469060218619148, 0.004453709491916591, 0.017628408057062117, -0.006836141687266206, 0.014089510924236492, -0.013433107538135314, -0.005085926257443418, -0.015221789241138595, -0.008278626931624622, 0.005415366321488868, -0.01941461301807612, -0.009471081400294956, 0.013050921548296124, -0.009605713356434897, 0.0009532786322727915, -0.009509547673478558, -0.0009700350268735392, -0.013644672040640682, 0.014685738158569883, 0.011723835123486737, 0.027975835543263994, 0.005992360419232234, 0.01426260915355737, -0.022741945648396822, -0.00016224329003300397, -0.005778319174736701, 4.932121247502863e-05, -0.01566415138274202, -0.003758839832634031, 0.009127361683639812, -0.001585495397799619, 0.01033904928890017, 0.007492545073366053, -0.0027587167298781523, 0.0029342917011927483, -0.0017201273539404482, -0.02503068890277982, 0.01510886716358062, 0.006415489424244747, -0.00018147642662302843, -0.004008870608322113, -0.013144610489262298, 0.005896194736276783, -0.0067976754140826046, 0.03314954928636471, 0.0015495058666079586, -0.0033934102373951447, 1.0854939291427002e-05, -0.013471573811317583, -0.010913566644653816, 0.008588833859078271, -0.004835895481755337, -0.024549860487994124, 0.0017610703691133267, 0.013031688411704323, 0.023667612946778327, -0.019741576340130962, -0.007297736965460544, -0.027992591937863853, -0.026992468835109307, 0.013647148782631291, -0.002258655178500213, 0.0034343532525697995, 0.006511655107201975, -0.019029950286247654, 0.026244853250032563, -0.014933292192266912, 0.020224881496909042, -0.021607190589502334, 0.005434599458081557, -0.013452340674725338, -0.024107498346390255, 0.01351251682649135, 0.0024534632864066097, 0.0026650277889119778, -0.017125869763693125, 0.0013379413641017024, -0.01751053249552248, 0.008588833859079159, -0.005278257623358762, -0.018337557368954815, 0.0011263768615954461, -0.027107867654658335, 0.00783874153201225, 0.015031934617216969, 0.016724450637263466, -0.0047781960719808225, 0.0019341685984359813, -0.015433353743646183, 0.014474173656063627, -0.011932922884001496, 0.002338064466857581, -0.008067062429118366, -0.01826062482258939, -0.011971389157184209, 0.0034343532525697995, -0.002874115549427181, -0.02479989126368265, -0.010490437639642192, -0.014260132411567206, -0.015394887470462582, -0.005162858803808845, -0.009894210405307469, -0.008086295565711055, -0.015818016475475538, 0.028725927870331347, -0.01904918342283901, -0.0018355261734885886, -0.0044127664767437125, 0.008396502493164704, 0.006146225511963976, -0.022030319594514403, 0.012512393723734583, -0.002008624402811243, -0.003758839832633143, -0.04284057338646585, -0.012279119342647249, -0.00950954767347767, -0.01626037861707763, 0.0009340454956809907, 0.010377515562085549, 0.006434722560836548, 0.0018764691886623552, -0.012644548937883915, -0.02460755989776864, -0.026415474737365496, 0.002722727198686492, 0.008069539171110307, -0.017068170353919054, 0.029764517246268163, -0.016318078026853033, 0.01776304001320206, 0.007704109575871421, -0.011317462513074972, 0.00531920063853164, 0.008992729727498094, -0.006759209140899891, 0.02703341185028174, 0.03851559439537944, 0.0038767153941723365, 0.010935276523235338, 0.01035828242549286, -0.004797429208571735, -0.003681907286267716, -0.003758839832633143, -0.004662797252431794, 0.0077233427124632215, -0.0011623663927879946, 0.012781657636016241, -0.004047336881505714, 0.011896933352808503, -0.033589434685977526, -4.6844470482199085e-05, 0.0011263768615963343, -0.010144241180994218, 0.012050798445540245, -0.02385746757070173, 0.009531257552060524, 0.007607943892915081, -0.007663166560698542, -0.01016347431758824, 0.007223281161085282, 0.002434230149814809, -0.010394271956684964, -0.012298352479239494, -0.0014893297148423912, -0.012990745396531, 0.00483837222374639, 0.029014424919201698, -0.001066200709831655, -0.00460509784265728, 0.007531011346549654, 0.007550244483141455, 0.012666258816467213, 0.01764764119365303, 0.009704355781383178, 0.007338679980635199, 0.006415489424245635, -0.0007392373877754821, 0.0022803650570821787, -0.003239545144664291, 0.01074294515732177, -0.0057590860381449005, -0.018722220100784615, -0.0009315687536899375, -0.020780165716069554, 0.0074348456635924265, -0.017010470944144984, -0.023434338565690993, 0.018128469608440057, 0.016955248276360635, 0.009954386557072148, -0.011644425835128924, -0.007605467150924028, 0.0026842609255037786, 0.0005878490370347933, -0.004162735701053855, -0.00025840897298845533, 0.008492668176121931, -0.00814399497548468, -0.01114436428375054, -0.02143409236017879, 0.016609051817715326, -0.00537442330631599, 0.003049690520741777, -0.007567000877740426, -0.0017393604905313609, 0.0005878490370347933, -0.008624823390271708, 0.023167551395400388, 0.012012332172357532, 0.003953647940537763, -0.0253191859516515, -0.02349203797546462, 0.003165089340289917, -0.010067308634631011, 0.00204956741798501, -0.013529273221091653, 0.005030703589659957, 0.010608313201180941, 0.005838495326501381, -0.002643317910330012, 0.009627423235017751, -0.012067554840140993, 0.008281103673616563, 0.00645395569742746, 0.006934784112214487, -0.00850942457072179, 0.00418444557963582, -0.018010594046899975, 0.011050675342785254, -0.01631807802685259, 0.018724696842774335, 0.0104929143816328, 0.012089264718723847, -0.0075093014679668, -0.0015277959880251046, -0.011086664873977359, -0.0034895759203532606, -0.02739636470352913, 0.0104929143816328, -0.003970404335140287, -0.00914411807824056, 0.009896687147297634, -0.005393656442906902, -0.01581801647547465, -0.006066816223607496, 0.0009148123590883017, -0.0007777036609581955, 0.01564739498814216, 0.010281349879127433, 0.008588833859079159, 0.0020111011448014082, -0.0036242078764932018, -0.012490683845153061, 0.017589941783879404, 0.015839726354056616, 0.009261993639777977, 0.007723342712462333, -0.010317339410317317, 0.00670398647311643, -0.007951663609570225, 0.02320601766858399, 0.0034920526623443138, 0.019359390350293104, -0.022972743287495323, -0.030146703236106465, 0.015185799709947823, -0.02368436934137863, 0.0002608857149803967, -0.005989883677242069, -0.010240406863952334, -0.006643810321351751, -0.003393410237396033, 0.003684384028257881, -0.006182215043156525, 0.01412797719741743, -0.003912704925365773, 0.02505239878136223, -0.020395502984240643, -0.02401133266343347, -0.00460509784265728, -0.005797552311327614, 0.016320554768842754, 0.0019341685984359813, -0.0367821353601574, -0.004355067066969198, 0.01576279380769119, -0.010644302732373934, 0.0024342301498139207, 0.004088279896679481, -0.01349080694790894, 0.0045691083114656195, -0.014452463777481217, -0.01929921419852798, -0.006239914452931039, -0.01599111470479686, -0.02758869606944403, -0.016087280387754532, -0.008567123980496305, -0.00423966824742017, 0.02216742829264362, 0.008165704854067535, -0.009971142951672896, -0.011644425835128924, 0.0029150585646000593, 0.01387794642172846, 0.004261378126003024, 0.0028188928816437198, -0.020145472208550785, -0.0042589013840119705, -0.004489699023108251, 0.00012625375883867918, -0.01568338451933471, 0.013820247011953946, -0.003239545144664291, -0.02497298949300575, 0.009108128547048011, 0.009992852830254861, 0.003684384028258769, -0.020837865125842736, -0.00902871925869242, -0.005201325076992447, -0.0016047285343905315, -0.007836264790022085, -0.0003545746559465712, -0.002393287134640154, -0.015279488650913997, -0.0010469675732380779, 0.010415981835266486, 0.008069539171110307, 0.01707064709591144, -0.011952156020592408, 0.0025880952425456627, -0.0003353415193547704, 0.005800029053317779, 0.0054730657312642705, -0.0047012635256145074, 0.0005493827638520798, 0.03505362980891835, 0.011935399625992105, 0.012396994904186442, -0.01962617752058282, -0.027723328025583083, -0.0076247002875149406, 0.021744299287631996, 0.012166197265089274, 0.027975835543263994, 0.028610529050781874, 0.0026073283791374635, -0.011432861332624444, 0.010415981835267374, -0.01758746504188835, 0.023975343132240923, -0.009182584351422385, -0.004220435110829257, 0.010031319103438463, 0.003684384028258769, -0.01739513367597434, -0.011952156020592408, 0.0001647200320222808, -0.009374915717337728, -0.009105651805057846, -0.0017778267637140743, 0.004492175765099304, -0.008720989073228047, 0.021609667331492055, 0.0029150585646000593, -0.047918121446609785, -0.004682030389022707, -0.001412397168476076, -0.0003930409291292847, -0.002200955768726587, -0.026396241600772807, -0.0017778267637140743, -0.006624577184760838, 0.006627053926751003, -0.010759701551923406, -0.004855128618345361, -0.024799891263683982, -0.0037396066960422303, -0.009663412766209412, -0.0004122740657210855, 0.004453709491915703, -0.0053359570331315, 0.010204417332761118, 0.016224389085886415, 0.016743683773855267, -0.010644302732373045, 0.0062808574681039175, -0.0004892066120865124, -0.015567985699786124, -0.002989514368975321, 0.00431907753577665, 0.006184691785147578, 0.004511408901691105, -0.0013739308952942508, 0.0013187082275107898, 0.006338556877880208, -0.009913443541898381, -0.007393902648417772, 0.001376407637285304, 0.01587819262723933, -0.014029334772469149, -0.017741330134620092, 0.018590064886633506, -0.0065861109115772365, 0.011973865899174818, -0.005451355852682305, 0.018397733520720827, 0.005223034955574413, 0.001568739003197983, -0.0036434410130850026, -0.014029334772469149, 0.003145856203697228, 0.012089264718723847, -0.03607050930627498, -0.014202433001791803, -0.0044127664767437125, -0.006316846999296466, -0.021972620184739, -0.018645287554419188, 0.008165704854067535, -0.024799891263683094, 0.023282950214949416, -0.003758839832633143, 0.018686230569591622, -0.0016239616709823324, 0.0003378182613458236, -0.0023548208614565524, -0.014779427099535614, 0.0108775771134626, 0.005011470453068156, -0.01854912187146196, -0.006913074233631633, -0.002104790085768471, 0.00758871075632328, -0.0315891884804671, 0.0004916833540766774, 0.012493160587144558, -0.02930044522608366, 0.026744914801410502, 0.00849266817612282, 0.0025880952425456627, -0.005739852901553988, 0.006761685882890944, 0.0007609472663583361, -0.020991730218576254, -0.014529396323846644, 0.03713080856079509, -0.0035088090569450614, -0.0167219738952733, 0.0038190159843987104, -0.020376269847647954, 0.011031442206194342, -0.021280227267447493, -0.004412766476742824, -0.011259763103301346, -0.009471081400294956, -0.025415351634609618, -0.010009609224855609, -0.018299091095772546, -0.027030935108291576, 0.027110344396648056, -0.0074131357850095725, -0.00012377701684940234, -0.0026048516371464103, -0.013260009308811327, -0.008278626931624622, 0.003318954433020771, 0.01210849785531476, 0.006800152156073658, -0.022549614282481478, 0.02786043672371541, -0.010605836459190776, 0.0009340454956809907, 0.005011470453068156, 0.017974604515708315, 0.015031934617216969, -0.01235605188901312, -0.016452709982992975, 0.011339172391656938, -0.00512439253062702, 0.002953524837783661, 0.011089141615967968, -0.01052890391282535, -0.012971512259940532, 0.029149056875342527, 0.007204048024494369, -0.011163597420342342, -0.020953263945392653, -0.013029211669713714, -0.015125623558182255, 0.01287782331897347, 0.027110344396648056, -0.012952279123346955, 0.02005178326758461, 0.0017995366422969283, 0.009973619693664837, -0.011259763103300457, -0.005759086038144012, -0.0007777036609581955, -0.004932061164711676, 0.017859205696159286, 0.010531380654816402, -0.00033534151935654677, -0.0036049747399031773, 0.009281226776372442, 0.003953647940537763, -0.008278626931624622, -0.0010469675732380779, 0.008204171127250248, 0.01880162938914065, -0.02843495407946728, 0.0056076976874033235, -0.0026817841835127254, -0.025665382410298587, -0.017414366812565252, -0.007528534604558601, 0.005299967501940728, 0.0012802419543271881, 0.0032035556134717424, -0.01443323064088986, -0.010278873137136824, 0.0044152432187338775, 0.010685245747548144, -0.0033549439642124312, -0.006336080135888267, -0.009490314536886757, -0.003778072969225832, 0.017359144144782235, 0.012512393723735471, -0.013779303996780623, 0.013954878968093887, 0.004876838496928215, 0.0004532170808957403, 0.016339787905435443, -0.005509055262455043, 0.018724696842774335, -0.01008654177122148, -0.0007007711145918805, -0.009240283761197787, 0.00943509186910152, 0.01210849785531476, 0.005049936726249982, -0.01935691360830205, -0.0013354646221106492, 0.020455679136005323, 0.013204786641028754, 0.00354975207211794, -0.0026817841835127254, 0.0087042326786273, -0.006855374823858007, 0.0022226656473085526, -0.008797921619594362, -0.018106759729857647, -0.011682892108313414, -0.0005853722950437401, -0.006893841097039832, 0.010108251649803002, 0.0013764076372835277, -0.01420243300179136, 0.021109605780115004, 0.019243991530743187, 0.0008571129493155638, -0.009163351214831472, 0.004761439677380075, 0.02255209102447342, 0.01855159861345168, -0.013452340674725338, 0.004934537906703618, 0.001453340183650731, -0.01401010163587868, -0.012836880303800147, -0.013798537133372868, -0.02224188409701977, -0.0037973061058167445, 0.004203678716228509, 0.0025303958327711484, -0.01854912187146107, 0.0032804881598389457, -0.010125008044405082, 0.0026842609255028904, 0.0012610088177362755, -0.005451355852682305, 0.013031688411705211, -0.034051029964171864, 0.012454694313960957, -0.015298721787505354, 0.007204048024494369, 0.00037628453452853705, -0.014798660236128303, 0.0070501829317626274, -0.0061245156333820105, -0.011644425835128924, -0.0078939641997966, -0.00487436175493805, 0.03347651260841822, -0.04099419227368628, -0.009259516897789588, 0.022013563199913655, -0.0017008942173486474, 0.01414721033400923, 0.008377269356573791, 0.008088772307700332, 0.028648995323964588, 0.022859821209937792, 0.0003185851247540228, -0.004970527437895278, 0.010589080064590028, -0.021472558633361505, 0.00860806699567096, 0.012666258816467213, 0.018955494481872392, 0.0006455484468093076, -0.0010085013000553644, 0.01751300923751309, 0.0072617474342679955, 0.025148564464320344, 0.011108374752559769, 0.004049813623494991, -0.013106144216080029, 0.024783134869083234, 0.005299967501940728, -0.0017778267637140743, -0.009259516897789588, -0.0062783807261137525, 0.003626684618484255, -0.016337311163443502, 0.007184814887903457, 0.011531503757570505, -0.008355559477990937, 0.012281596084638302, 0.00020318630520588243, -0.0019124587198549037, 0.008204171127251136, 0.006107759238782151, 0.007088649204945341, 0.0019149354618450687, 0.006934784112214487, -0.0046243309792490805, -0.0032587782812552035, 0.006627053926751003, 0.008588833859078271, -0.017125869763693125, 0.003626684618484255, -0.027396364703528686, -0.011875223474226537, -0.019568478110808307, 0.015955125173604756, 0.0033766538427952852, 0.012800890772606266, -0.0034318765105787463, 0.01301245527511341, 0.004742206540787386, -0.018395256778728886, 0.01474343756834351, 0.007088649204946229, 0.009877454010706721, 0.018013070788891028, 0.02041721286282261, -0.012817647167207014, 0.011550736894162306, 0.004973004179886331, -0.005412889579497815, 0.0016264384129733855, 0.019455556033249444, 0.01526273225631325, 0.01628208849566093, -0.015202556104548126, -0.0011431332561961938, 0.005915427872867696, -0.0005661391584528275, -0.027454064113302756, -0.01089433350806246, -0.0016431948075741332, -0.017164336036876726, -0.01064430273237349, 0.018359267247537225, 0.0023957638766312073, -0.014721727689760655, 0.00795414035156039, 0.02936062137784834, -0.0062783807261137525, 0.006877084702440861, 0.007627177029506882, -0.014163966728609978, 0.0218019986974074, 0.007396379390408825, -0.01801059404689953, 0.0060692929655985495, 0.012493160587144558, -0.013606205767457968, 0.014570339339019966, 0.01916705898437776, -0.006143748769972923, -0.023415105429098304, -0.004989760574486191, 0.008781165224993615, 0.012723958226241727, 0.006319323741286631, -0.013837003406556025, -0.014010101635879124, 0.01955172171620756, -0.0026817841835127254, 0.01803230392548283, 0.0010686774518209319, -0.018414489915320686, -0.0024317534078237557, 0.0021457331009422376, 0.005876961599684094, 0.016974481412953324, 0.00047245021748576477, 0.0035882183453015415, 0.00495377104329453, 0.01651288613475721, -0.01089433350806246, -0.007586234014333115, -0.014837126509310128, -0.010298106273727292, 0.003838249120989623, 0.008588833859079159, -0.026088511415309323, -0.006201448179748326, 0.01753224237410489, -0.003393410237396033, 0.005588464550811523, 0.019205525257560474, -0.008817154756185275, -0.004893594891528963, 0.006453955697426572, 0.0065885876535674015, 0.02241745906833348, -0.006913074233631633, -0.0009508018902817383, 0.008608066995670072, -0.006547644638393635, -0.001431630305067877, -0.01749129935893068, -0.020203171618325744, -0.01999160711581993, 0.0020303342813940972, 0.0008186466761319622, 0.009819754600932207, -0.005278257623358762, 0.019763286218712928, -0.005393656442906902, 0.00808877230770122, 0.00633855687787932, -0.02224188409701977, -0.0018162930368967878, -0.01962617752058282, -0.013663905177232039, 0.0019341685984359813, -0.03081986301680839, -0.014317831821340832, -0.0006238385682264536, -0.01554875256319388, -0.010221173727361865, -0.011529027015581672, 0.009492791278876922, -0.012048321703549192, 0.0034535863891616003, 0.009338926186146068, 0.0009340454956801025, 0.0007417141297656471, -0.0013354646221106492, -0.01660657507572383, -0.009086418668466045, -0.016587341939132916, -0.025088388312554777, 0.008011839761335793, -0.0013739308952942508, -0.023357406019324234, 0.01237776176759553, -0.0021432563589520726, -0.0008546362073236224, 0.0035882183453015415, 0.0021457331009422376, -0.012048321703549636, 0.018013070788891028, 0.029937615475591706, -0.004874361754938938, -0.013356174991768555, 0.007646410166098683, -0.006393779545662781, 0.0012994750909181008, 0.003992114213721365, -0.0034126433739869455, 0.016897548866587897, 0.014070277787642027, 0.012050798445541133, 0.002857359154826433, -0.01783749581757732, 0.022071262609686393, 0.024860067415447773, 0.01587819262723844, -0.0033934102373951447, -0.010875100371471103, 0.011454571211205966, 0.00418444557963582, -0.005912951130875754, 0.006242391194922092, 0.0014918064568334444, 0.0028573591548273214, -0.008201694385258307, -0.013452340674725338, -0.006855374823858007, -0.016164212934120847, -0.017837495817575988, -0.005028226847669792, -0.00014301015344031498, -0.021703356272459562, -0.009086418668466045, 0.0005878490370347933, -0.012490683845153061, 0.01941708976006673, 0.01743607669114766, 0.001607205276382473, -0.005701386628370386, 0.006300090604695718, 0.01135840552824785, 0.016301321632250954, 0.000530149627260279, -0.005759086038144012, -0.016798906441639172, -0.002181722632133898, 0.007838741532013138, 0.012647025679874524, 0.0024534632864057215, 0.0015495058666079586, 0.045458756704893855, 0.003934414803947739, 0.011531503757572281, -0.006566877774985436, 0.025321662693643887, -0.024376762258670137, -0.006605344048168149, -0.0036242078764932018, -0.0019701581296285298, 0.001434107047058042, 0.01035828242549286, -0.02172258940905003, 0.01414721033400923, -0.003181845734890665, -0.0007392373877754821, 0.005069169862844447, -0.0028164161396526666, 0.00039551767112033787, 0.0038959485307650255, 0.0037228503014405945, -0.019010717149656298, -0.003970404335140287, -0.005509055262456819, 0.005492298867855183, -0.011105898010568716, 0.006915550975622686, -0.004124269427872029, 0.0165321192713499, 0.021590434194901142, 0.0011071437250036453, -0.016029580977980462, 0.00947355814228601, 0.0072809805708606845, 0.0041075130332703935, -0.0037396066960431185, -0.01858758814464334, 0.024994699371588602, -0.0030279806421580346, -0.015356421197279868, -0.0077208659704730564, 0.01010825164980389, -0.0009700350268735392, -0.014048567909060505, 0.004722973404196473, 0.010608313201180941, 0.01728221159841503, -0.01443323064088986, 0.015493529895410418, -0.013971635362695523, 0.018301567837761823, 0.008031072897926705, -0.021587957452910533, 0.0009917449054563932, -0.013029211669713714, 0.01728221159841503, 0.021571201058308453, 0.00983898773752312, -0.0035665084667186875, -0.0013546977587015618, -0.013529273221091653, -0.01606804725116362, -0.007605467150924028, 0.006434722560836548, 0.007511778209957853, -0.009105651805057846, -0.0036434410130858907, -0.008682522800046222, 0.0009340454956801025, 0.01703218082272695, -0.0032010788714806893, -0.018664520691009212, 0.04482406319737686, -0.009374915717337728, 0.007511778209957853, 0.0032612550232462567, -0.005893717994284842, -0.0006430717048182544, -0.008413258887765451, 0.016339787905435443, 0.019013193891646907, -0.0008738693439163114, -0.009528780810068582, 0.018128469608440057, -0.00941338199052133, 0.0056269308239960125, -0.017472066222339766, -0.018606821281234698, -0.01629884489026079, -0.000508439748677425, 0.0007801804029492487, -0.010798167825105676, -0.004951294301304365, 0.003722850301442371, -0.0007392373877754821, 0.013300952323984205, 0.010319816152309258, -0.03247391276367351, 0.004261378126001247, -0.04147502068847286, 0.009242760503187952, 0.0046460408578319345, -0.010067308634630567, -0.024453694805036896, 0.012435461177368268, -0.013009978533122801, 0.006492421970611062, 0.020974973823975063, -0.015741083929109223, 0.00329972129642897, -0.0023740539980501296, 0.01135840552824785, -0.0013162314855197366, -0.005259024486766961, -0.011298229376482727, -0.011105898010568716, 0.008684999542035499, 0.008569600722488246, 0.01628208849566004, 0.010819877703688086, 0.008761932088401814, -0.009124884941648759, -0.0018355261734877004, 0.0072617474342679955, -0.005316723896540587, -0.015587218836377037, 0.004011347350312278, -0.019376146744894296, -0.007374669511826859, -0.010605836459190776, 0.0025496289693638374, -0.0061437487699746995, 0.000549382763852968, -0.01275994775743472, 0.0020880336911686115, 0.007261747434269772, -0.010702002142149336, 0.028706694733739102, -0.016952771534371358, 0.011223773572107909, 0.0005686159004429925, -0.016952771534370914, 0.005165335545800787, -0.014298598684749919, 0.0034535863891616003, 0.01934015721370219, 0.011185307298925196, -0.011182830556934586, 0.005953894146049521, 0.019763286218712928, -0.013356174991769443, -0.02731943215716326, 0.002107266827759524, 0.005165335545799898, 0.010223650469352918, -0.007970896746162026, -0.0035665084667186875, -0.017818262680985963, -0.007759332243656658, -0.017568231905297438, 0.0035305189355270272, 0.01680138318362978, 0.004145979306453107, -0.009451848263704044, 0.00039551767112033787, -0.01539488747046347, 0.0013764076372844158, 0.005376900048306155, -0.005836018584509439, 0.0011840762713699604, 0.0017803035057051275, -0.010663535868966179, -0.002720250456695439, 0.00204956741798501, -0.019799275749905032, 0.019955617584627383, -0.013606205767457968, 0.014858836387892538, -0.008086295565711055, 0.009588956961835038, -0.00775933224365577, -0.007086172462954288, 0.03076464034902404, 0.008261870537023874, 0.01755147551069669, 0.0009725117688637042, 0.003261255023247145, -0.005412889579498703, -0.0025086859541891826, 0.016359021042025468, 0.0019918680082113838, -0.008067062429119254, -0.00025840897298845533, -0.007643933424105853, 0.01978251935530473, -0.008124761838893768, -0.012009855430367367, 0.0039536479405386515, -0.01343310753813487, 0.008608066995670072, 0.0025880952425447745, -0.0026817841835127254, 0.005588464550812411, -0.0075093014679668, -0.006393779545661893, -0.009490314536885869, 0.006530888243792887, 0.028610529050781874, -0.016471943119583443, -0.006701509731125377, 0.007242514297677971, -0.00025840897298845533, -0.007759332243656658, 0.018609298023226195, -0.0006815379780009678, -0.0002584089729902317, -0.0022778883150920137, -0.0026817841835127254, -0.018741453237375083, -0.0016431948075741332, -0.012952279123348731, 0.008877330907950842, 0.004203678716228509, 0.024898533688631375, -0.004778196071979934, -0.012548383254927131, -0.0010085013000562526, -0.008836387892777076, 0.0029727579743745736, 0.013397118006942321, -0.01356773949427481, -0.01043273822986901, 0.007704109575872309, -0.01531795492409671, 0.003242021886654456, -0.007759332243654882, -0.018299091095772546, 0.01510886716358062, 0.03172629717859676, -0.005989883677242069, 0.028899026099654446, -0.004585864706065479, 0.0007032478565838218, 0.014858836387893426, -0.0038550055155903706, 0.0010302111786382184, -0.017202802310058996, -0.00775933224365577, -0.005066693120852506, -0.0050666931208516175, -0.0023740539980492414, 0.009338926186146068, -0.022088019004289805, -0.011605959561947099, 0.00418444557963582, -0.01951077870103335, -0.008913320439142502, -0.016279611753669876, -0.006970773643406147, -0.006259147589521952, 0.0008763460859064764, -0.0008546362073245106, 0.004588341448056532, -0.007143871872728802, -0.005682153491779474, -0.013644672040640682, 0.022378992795151653, 0.004511408901691993, 0.00354975207211794, 0.0022995981936748677, -0.005259024486766961, -0.02858881917219902, -0.0024702196810073573, 0.003780549711215997, 0.00924276050318884, 0.021532734785126628, -0.0027587167298781523, -0.0033357108276215186, 0.030976204851529854, 0.006838618429257259, 0.002857359154826433, -0.0035665084667186875, -0.018914551466697738, 0.004030580486904967, 0.007223281161085282, 0.004549875174873819, -0.01622191234389536, 0.0010879105884127327, -0.004739729798797221, -0.005816785447919415, -0.009490314536887645, -0.013529273221092541, -0.02858881917219902, -0.019183815378978952, -0.017933661500534104, -0.010105774907812837, 0.0020688005545759225, -0.020030073389002645, 0.008396502493163815, -0.004162735701052966, -0.015702617655926066, 0.0034920526623443138, 0.0179361382425256, -0.012375285025604477, 0.006665520199933717, 0.02385994431269367, 0.019609421125981186, -0.03308937313459959, 0.01916705898437776, 0.007030949795171715, -0.005412889579497815, 0.0007224809931756226, 0.012820123909199843, -0.04034026562957749, 0.0015110395934252452, 0.02118653832648043, -0.017683630724846466, 0.013397118006942321, -0.015029457875225471, -0.0009892681634644518, 0.004088279896679481, 0.008704232678628188, 0.004549875174874707, -0.036782135360158286, -0.013067677942896871, -0.020857098262435425, -0.0034895759203532606, 0.003915181667355938, 0.0024534632864057215, 0.0011840762713690722, 0.01691678200317792, -0.021703356272458674, 0.006800152156075434, 0.003626684618484255, -0.00208555694917667, -0.006797675414081716, 0.034342003755035044, -0.004008870608322113, 0.0010686774518209319, -0.00952878081006947, 0.0031843224768799416, -0.00814399497548468, 0.004453709491916591, 0.007030949795171715, 0.027014178713690384, -0.0052205582135833595, -0.005335957033132388, -0.01560645197296795, -0.009451848263704044, 0.0003378182613449354, -0.0016431948075741332, 0.01701294768613515, 0.0038767153941723365, 0.01347405055330686, 0.008127238580883933, -0.017606698178479707, 0.022667489844023336, 0.020782642458060607, -0.003547275330128663, 0.006992483521989001, 0.003376653842794397, 0.008877330907950842, -0.0013354646221115374, -0.003758839832633143, -0.0020086244028121314, -0.012413751298786746, -0.011182830556933698, 0.03639994937032087, 0.010089018513212977, 0.00422291185282031, -0.01412550045542682, 0.0030496905207408886, -0.005624454082004071, 0.026437184615947462, 0.002703494062093803, 0.032207125593383346, 0.012243129811455589, -0.0018355261734885886, -2.761133389128645e-05, 0.00431907753577665, 0.009665889508201353, -0.024780658127091737, 0.01601282458338016, 0.015147333436764221, 0.00710788234153803, -0.002104790085768471, -0.02053013494038103, 0.004222911852819422, -0.00423966824742017, -0.012259886206055892, -0.01552951942660119, 0.004665273994423735, 0.005415366321488868, -0.016548875665950202, -0.029531242865180385, -0.004739729798797221, -0.00023917583639665452, -0.006066816223607496, -0.0025471522273727842, -0.010798167825105676, 0.027629639084617352, -0.002470219681006469, -0.019010717149655854, 0.015589695578368534, -0.005182091940402422, 0.02332141648813213, -0.013663905177232039, -0.008932553575735191, -0.01568338451933471, 0.015839726354057504, -0.003393410237396921, 0.007761808985646823, 0.015051167753806993, 0.015051167753807881, 0.012608559406692699, -0.013529273221091653, 0.021744299287633773, 0.013608682509449466, 0.002203432510716752, 0.0196863536723475, 0.005665397097178726, 0.0037228503014405945, -0.011644425835128924, 0.00329972129642897, -0.027050168244882933, -0.01064430273237349, 0.0028958254280082585, -0.010067308634631011, -0.01381777026996378, 0.014070277787642027, 0.0026073283791374635, -0.01035580568350225, -0.01310614421607914, 0.02343681530768027, 0.005011470453069045, -0.0008546362073245106, 0.007261747434269772, 0.0009725117688637042, 0.01728221159841503, -0.02428059657571291, 0.0019918680082104956, -0.0017585936271213853, 0.022494391614699794, -0.014990991602042314, 0.009723588917974979, -0.007470835194784087, -0.008567123980496305, -0.004470465886515562, 0.0023765307400394065, -0.0004892066120874006, -0.0004892066120865124, -0.001200832665970708, 0.017955371379116514, 0.010531380654816402, 0.0027611934718700937, -0.00800936301934474, 0.016878315729995208, -0.022184184687246145, -0.02051090180378834, -0.009624946493026698, -0.008009363019345628, 0.014589572475611767, -0.0008931024805063359, 0.010146717922987492, -0.014933292192266912, 0.004915304770111817, -0.0010854338464216795, 0.0037997828478077977, 0.008127238580884821, -0.00033534151935654677, 1.0854939291427002e-05, 0.017378377281373147, 0.013820247011953946, -0.017914428363943635, -0.018145226003039916, -0.0033357108276206304, 0.015301198529496851, 0.006030826692416724, -0.020376269847648842, 0.006684753336524629, -0.016914305261187756, -0.0033549439642124312, -0.0010854338464225677, 0.007511778209956965, -0.006951540506815235, -0.005451355852682305, 0.011704601986894048, -0.016991237807553627, 0.005338433775124329, 0.004203678716228509, -0.010182707454179596, 0.0033381875696116836, 0.015724327534508475, -0.008451725160948165, -0.005701386628370386, -0.021549491179727376, -0.0025856185005537213, -0.0018932255832631029, 0.009512024415469611, 0.008261870537022986, 0.006684753336525517, 0.002203432510716752, -0.005316723896541475, 0.02597558933775268, -0.0029510480957926077, -0.013971635362695523, -0.014798660236127414, 0.011839233943033989, -0.0012585320757452223, -0.011644425835128924, -0.008163228112076482, 0.021878931243772826, 0.030168413114689763, 0.01537813107586139, 0.013397118006942321, 0.0020880336911677233, -0.01664504134890743, -0.0016816610807559584, -0.01191368974740925, 0.01918629212096956, 0.002780426608460118, -0.018106759729857203, -0.006816908550674405, 0.014512639929247229, -0.005143625667217933, -0.0022201889053183876, -0.015125623558182255, -0.004585864706066367, 0.0122431298114547, 0.001587972139789784, -6.607760707577626e-05, -0.003297244554437917, 0.0015110395934252452, 0.021513501648535716, 0.01830156783776271, 0.030264578797646102, 0.008569600722488246, 0.010589080064590028, -0.005047459984262481, -0.005432122716090504, 0.0010109780420464176, 0.008204171127250248, 0.0005878490370347933, 0.004607574584648333, -0.0112405299667091, 0.010396748698675573, -0.0004699734754947116, -0.007220804419095117, -0.010567370186008063, -0.014394764367707591, 0.014051044651052003, 0.004742206540787386, 0.005492298867855183, -0.009548013946660383, -0.0014893297148423912, -0.0003353415193547704, -0.008047829292527453, -0.00018147642662302843, -0.014125500455426376, 0.00758871075632328, 0.004549875174873819, 0.004472942628507504, 0.009723588917974979, 0.017320677871598633, -0.0034318765105796345, 0.01607052399315556, -0.006259147589521952, -0.01777979640780325, -0.008836387892777076, -0.010009609224855609, 0.016089757129746474, 0.01212773099190656, 0.038727158897885694, -0.0037973061058176327, 0.020455679136005323, 0.01516656657335691, 0.016455186724982696, -0.013433107538133982, -0.008182461248668282, -0.003778072969225832, 0.014454940519470938, -0.00825939379503371, 0.012531626860327272, 0.012589326270101786, -0.014279365548157674, -0.016298844890261233, -0.02374206875115359, -0.00046997347549559976, 0.0007994135395401614, 0.001222542544553562, -0.0018355261734885886, 0.006838618429257259, 0.01035828242549286, 0.015416597349044991, 0.02147503537535389, 0.0071271154781289425, 4.932121247414045e-05, 0.032784119691127156, 0.01664751809089715, 0.0017803035057051275, -0.007490068331375888, -0.014779427099536502, -0.02493452321982259, 0.002722727198685604, -0.005585987808822246, 0.00016472003202139263, 0.00029935198816311015, 0.014993468344033367, -0.01374083772359791, 0.0012225425445526739, -0.015375654333871225, -0.015818016475475094, -0.01343310753813487, 0.01589742576383113, -0.033320170773697644, 0.007454078800182451, 0.008492668176121931, 0.027206510079605284, 0.010435214971857398, 0.013185553504436953, -0.0009892681634644518, -0.01922228165216211, -0.003604974739902289, 0.007088649204946229, 0.016974481412953324, 0.0005301496272611672, 0.004722973404196473, 0.020859575004425146, 0.029514486470579637, -0.005874484857693929, -0.01702970408073501, 0.011300706118474224, 0.002126499964351325, 0.005742329643544153, 0.01212773099190656, -0.002412520271231955, 0.0010109780420464176, 0.01851313234026808, -0.006316846999297354, 0.000530149627260279, 0.0026650277889119778, -0.0029702812323844086, -0.018895318330107713, 0.010742945157322659, 0.006030826692416724, 0.00329972129642897, 0.015301198529495963, 0.018493899203677167, 0.003395886979386198, -0.007182338145912404, 0.005280734365348927, -0.026011578868944785, -0.0011046669830125921, 0.0024534632864066097, -0.000816169934140909, -0.008317093204809112, 0.004819139087154589, 0.02130193714602946, 0.0022226656473076645, 0.013570216236264088, 0.0104929143816328, -0.005278257623358762, 0.006569354516975601, 0.0049537710432954185, -0.003662674149675915, 4.932121247591681e-05, 0.015705094397916675, -0.004989760574486191, 0.010146717922987492, 0.033111083013182, 0.00256886210595475, 0.02572555856206371, -0.019703110066948692, 0.00897349659090807, 0.0017610703691142149, 0.006857851565848172, 0.0143780079731064, -0.027088634518065202, -0.016087280387754532, 0.019340157213701303, 0.017955371379116514, 0.017628408057063005, 0.016128223402929187, 0.0038767153941723365, 0.01703218082272695, 0.020763409321468806, -0.020280104164691615, -0.002854882412834492, -0.007701632833881256, -0.013586972630866168, -0.0008354030707327098, -0.01585648274865692, 0.0016264384129733855, -0.018606821281235142, 0.02928368883148247, 0.0032997212964298583, -0.029588942274955343, -0.02378053502433497, -0.0021240232223602717, 0.016762916910447956, -0.005624454082004959, -0.021107129038124395, 0.012435461177370044, 0.0015495058666079586, -0.0072785038288705195, 0.016320554768842754, 0.020397979726230808, -0.010201940590770953, 0.001568739003197983, -0.006528411501802722, -6.607760707488808e-05, -0.01858758814464423, -0.008605590253679907, 0.009762055191157692, 0.015608928714959447, -0.0025856185005546095, 0.0034920526623443138, -0.007855497926612998, 0.0024342301498139207, -0.006663043457943552, 0.025802491108430026, 0.002780426608460118, 0.008915797181133556, 0.014051044651052003, 0.0032227887500644314, 0.013839480148545746, 0.01743607669114855, -0.013625438904048437, 0.028745161006921816, 0.0002608857149803967, -0.004316600793786485, -0.014202433001792691, 0.0005878490370347933, -0.029281212089492303, 0.012281596084638302, -0.00647071209202732, 0.0034535863891616003, -0.0025279190907809834, 0.0036459177550751676, -0.01551028629001161, -0.009394148853928641, 0.010262116742535632, -0.013913935952921008, 0.017493776100921288, -0.006413012682253694, -0.016952771534370026, 0.01403181151446109, -0.006124515633382899, -0.0021240232223602717, 0.0042613781260021355, 0.02168659987785926, 0.01680138318362978, 0.010685245747546368, 0.00143410704705893, -0.023165074653409334, -0.014625562006804316, 0.017897671969342888, -0.014529396323847976, -0.005759086038144012, 0.010146717922987492, 0.003972881077129564, 0.014166443470601031, 0.008223404263842049, -0.00548982212586413, 0.004145979306453107, 0.006992483521988113, 0.015839726354057504, 0.012358528631003729, 0.014435707382880913, 0.014320308563331885, 0.01185846707962579, 0.02561015974251557, 0.001453340183650731, 0.013070154684887036, 0.03068770780265906, 0.02480236800567326, -0.017202802310058996, -0.008124761838893768, -0.013375408128359467, -0.013625438904048437, 0.013627915646041266, -0.0186452875544183, 0.02043644599941441, 0.011281472981883311, -0.016279611753669876, 0.019243991530743187, -0.0036434410130858907, 0.013647148782631291, 0.01337788487035052, -0.005874484857693929, 0.01072371202072997, 0.003972881077129564, 0.03234175754952329, 0.016359021042026356, 0.007627177029505994, -0.002701017320103638, -0.002989514368975321, -0.002624084773738211, 0.015589695578367646, -0.005643687218595872, 0.008108005444293909, 0.005742329643544153, 0.029437553924213766, 0.017032180822726062, 0.010415981835265598, -0.029685107957913015, -0.022626546828849126, -0.008951786712326104, -0.026607806103279064, 0.019205525257560474, -0.00814399497548468, 0.017128346505685066, 0.005934661009458608, -0.0008931024805063359, 0.01151227062098048, 0.0034343532525697995, 0.006550121380385576, 0.008261870537022986, 0.0032227887500644314, -0.005701386628370386, 0.00960819009842595, 0.01780150628638566, -0.011817524064452023, 0.00793490721496859, -0.014914059055676887, 0.008915797181134444, -0.0008546362073245106, -0.02224188409701977, -0.003181845734890665, -0.0007200042511845695, 0.02043644599941441, 0.0015687390031988713, -0.012740714620842919, -0.0067399760043089785, -0.01772209699802918, 0.0021072668277604123, -0.010932799781246505, -0.016856605851412798, -0.00010454388025760153, -0.017125869763693125, 0.004722973404196473, 0.0035689852087097407, 0.008204171127250248, -0.016414243709809817, -0.026319309054409157, 0.005953894146049521, 0.01730144473500772, -0.005335957033132388, 0.00043398394430216314, 0.003934414803947739, 0.009108128547048011, -0.004912828028120764, -0.0005276728852710022, 0.0007609472663583361, 0.00618469178514669, -0.005643687218595872, -0.010894333508062903, 0.007204048024494369, -0.006336080135889155, 0.027821970450532696, 0.00597312728264221, -0.01720280231005855, -0.014567862597031134, 0.0070694160683553164, -0.0064322458188454945, 0.011454571211205966, -0.013606205767457968, -0.00423966824742017, 0.00810800544429302, -0.0049320611647125645, -0.0029702812323844086, -0.016741207031864658, -0.0016624279441650458, -0.006701509731126265, -0.009067185531874244, 0.01389717955832026, -0.028684984855157136, -0.025723081820072657, -0.024703725580725866, 0.014108744060825629, 0.015858959490648417, -0.014125500455426376, 0.005107636136026272, -0.008105528702301967, -0.004181968837645655, 0.0030496905207408886, -0.009471081400295844, 0.006396256287653834, 0.0006455484468101957, 0.014031811514460202, -0.004220435110829257, -0.002797183003061754, -0.005874484857693929, 0.012935522728747983, -0.00018147642662302843, -0.005797552311327614, 0.0035882183453006533, 0.024513870956802464, 0.00010702062224865472, 0.013781780738771232, 0.006742452746300032, -0.023530504248647777, 0.024552337229985177, -0.005182091940400646, -0.004489699023108251, -0.028992715040618844, 0.019609421125982074, 0.0040305804869040784, 0.008838864634768129, 0.014704971295160796, 0.004742206540788274, -0.006932307370222546, -0.003547275330127775, 0.0044152432187338775, -0.015164089831365413, 0.004049813623495879, 0.010781411430504484, 0.008761932088401814, -0.014202433001793136, 0.002107266827759524, -0.003451109647170547, -0.005047459984260705, -0.016106513524346333, 0.017628408057062117, -0.0131638436258541, -0.014452463777481661, -0.01754899876870475, -0.0258577137762126, -0.0011239001196052811, -0.015414120607054826, -0.018856852056925444, -0.012875346576982416, 0.03607298604826514, 0.008261870537023874, -0.008240160658441908, 0.0020880336911677233, -0.013586972630866168, -0.01066353586896529, -0.005951417404059356, 0.002357297603448494, -0.002027857539403044, -0.01097126605442833, 0.007415612527000626, -0.01810675972985676, 0.0007224809931747345, 0.029937615475591706, -0.014529396323847088, -0.0027394835932863515, 0.018243868427989973, 0.016666751227490728, 0.011569970030754106, 0.0052038018189835, -0.011817524064452911, 0.025783257971838225, -0.00891332043914339, 0.016685984364079864, 0.0006840147199911328, 0.000684014719992021, -0.007990129882753827, 0.007511778209957853, 0.00568463023376875, -0.0013739308952933627, 0.008204171127251136, -0.015721850792517422, -0.010990499191019243, 0.003684384028257881, -0.006470712092028208, 0.004838372223745502, 0.009992852830254861, -0.012029088566958723, 0.005030703589661734, -0.012221419932872735, -0.023222774063183405, -0.0016816610807559584, 0.014704971295160796, -0.0008354030707327098, 0.013820247011954834, -0.008797921619594362, 0.007684876439280508, 0.020609544228737064, -0.013336941855176754, 0.0037613165746250843, 0.004453709491915703, -0.016087280387754532, 0.014858836387894314, 0.009665889508200465, -0.0012392989391534215, 0.00758871075632328, -0.015048691011816384, -0.009990376088264696, -0.002835649276243579, 0.00504993672625087, -0.018068293456675377, 0.030303045070829704, -0.03970557212205916, 0.0018764691886632434, 0.015570462441776733, -0.0017393604905304727, -0.007182338145912404, 0.01326248605080238, -0.02008777279877716, 0.002068800554577699, -0.014029334772469149, 0.0020688005545768107, -0.012759947757433832, -0.012913812850164241, 0.021071139506931402, -0.006489945228620009, -0.0075093014679668, 0.009050429137273497, 0.0009340454956809907, 0.03068770780265906, 0.021513501648536604, -0.002566385363963697, -0.013183076762445456, 0.009377392459327893, 0.009800521464340406, 0.007184814887902569, 0.0034151201159779987, -0.0006238385682273417, -0.0011431332561961938, -0.002181722632135674, 0.011550736894163194, 0.009800521464340406, 0.008531134449304645, -0.01206755484014188, 0.010319816152309258, -0.02293427701431172, 0.004165212443044908, -0.005932184267467555, 0.005049936726251758, -0.02333817288273332, 0.007646410166098683, 0.022763655526978788, 0.01287782331897347, -0.010278873137135935, -0.034512625242366646, 0.006473188834019261, -0.000835403070733598, 0.018243868427988197, -0.003431876510577858, 0.003165089340289917, 8.77874856568539e-05, 0.011339172391656938, -0.0017393604905304727, -0.009317216307564102, -0.005836018584510327, -0.040109467990479875, 0.015839726354057504, 0.0059346610094594965, 0.015224265983129648, -0.01951077870103335, 0.003242021886654456, 0.01403181151446109, 0.01276242449942444, 0.020782642458061495, -0.011259763103300457, 0.004742206540787386, 0.01776304001320117, -0.003989637471730312, 0.022302060248785338, 0.010300583015718345, -0.02354973738523869, -0.00037380779253837204, -0.024626793034359995, -0.00814399497548468, 0.006511655107201975, -0.011798290927860222, 0.007550244483139679, -0.007682399697290343, -0.001181599529378019, 0.006011593555824035, -0.007336203238644146, 0.02645641775253882, 0.005492298867854295, -0.0005469060218610267, -0.0067976754140826046, -0.02254961428248281, 0.02193663065354645, 0.01601282458337927, -0.009317216307564102, 0.009512024415468723, 0.01085834397686991, -0.007066939326362487, -0.026896303152150747, 0.00597312728264221, -0.01262531580129389, 0.012685491953059014, -0.012759947757433832, -0.012490683845153061, 0.014070277787642915, 0.0006840147199911328, 0.019397856623475818, -0.007490068331375888, 0.0032035556134717424, 0.001049444315229131, 0.005376900048306155, 0.016743683773855267, 0.00933892618614518, -0.002104790085769359, -0.011259763103300457, -0.014337064957933077, 0.02247515847810888, 0.01428184229015006, -0.0012969983489279358, 0.014474173656063627, 0.036399949370319984, 0.0018572360520705544, -0.005008993711077991, -0.003066446915340748, 0.016974481412953324, -0.007490068331376776, 0.009992852830254861, 0.008261870537022986, -0.02758869606944314, -0.012779180894024744, -0.003547275330128663, -0.008836387892777076, -0.005855251721102128, -0.008432492024356364, 0.014166443470600143, 0.013666381919222204, -0.01626037861707763, 0.01780150628638566, -0.002085556949175782, -0.011490560742397626, 0.005876961599684094, -0.024242130302531972, 0.014416474246289113, 0.0017803035057042393, -0.01033657254691045, 0.005857728463092293, -0.02356897052183049, -0.004758962935389022, 0.0019341685984359813, 0.011512270620979592, 0.024129208224973553, 0.011954632762583906, 0.0008763460859064764, 0.012858590182382557, -0.030435200284978148, 0.02366761294677744, 0.001664904686156099, 0.002511162696180236, -0.007297736965460544, -0.010894333508063347, 0.0139933452412766, 0.011839233943034877, -0.016106513524346777, -0.004066570018096627, -0.029954371870192897, -0.02278041192158131, 0.015685861261324874, -0.025703848683481745, -0.01045197136645859, 0.010608313201180941, 0.0011263768615954461, -0.02631930905440827, -0.009124884941649647, -0.008759455346411649, -0.028569586035607664, 0.0009917449054563932, -0.005778319174736701, 0.002645794652321065, -0.003681907286268604, 0.003088156793923602, -0.017991360910309062, 0.00483837222374639, -0.014106267318835464, -0.02091479767220994, -0.0017585936271213853, -0.0010854338464216795, 0.004973004179886331, -0.009798044722351129, -0.018683753827601457, -0.0035665084667177993, 0.018186169018212794, -0.014702494553170187, 0.01707064709591055, -0.003816539242407657, -0.016856605851412798, -4.684447048397544e-05, -0.01356773949427481, -0.0066053440481699255, 0.02005178326758461, 0.009185061093414326, 0.014685738158569883, 0.006415489424245635, 0.011435338074614165, -0.004258901384011082, -0.006970773643406147, 0.0018572360520705544, -0.002162489495542985, 0.012897056455564382, -0.014740960826353788, 0.00531920063853164, -0.007009239916589749, -0.012586849528110289, 0.003472819525752513, -0.002931814959200807, -0.009374915717338617, -0.010375038820093163, -0.008509424570722679, 0.029052891192384855, -0.013221543035629058, -0.019203048515570753, -0.017298967993016223, 0.004472942628508392, 0.005434599458081557, -0.0006623048414100552, -0.00033534151935654677, 0.0032035556134717424, -0.015125623558182255, 0.003992114213722253, -0.0022778883150911255, 0.0122431298114547, -0.032877808632092886, 0.003415120115978887, 0.013339418597167807, 0.005857728463092293, -0.010509670776233548, -0.007643933424106741, -0.00600911681383387, 0.01024288360594472, -0.0018932255832631029, 0.0018764691886623552, 0.0074348456635924265, 0.039073355356532335, -0.010702002142148892, 0.01414721033400923, 0.013224019777619667, 0.012320062357821016, 0.016339787905435443, -0.0223957491897524, -0.014413997504298948, -0.011932922884001496, 0.026764147938002747, 0.0012610088177353873, -0.03343556959324667, -0.005701386628370386, 0.020513378545779837, 0.003145856203697228, -0.0017585936271213853, 0.02295598689289502, -0.005547521535638644, -0.010394271956684076, -0.017529765632113836, 0.005742329643544153, 0.0056076976874033235, 0.01766687433024483, -0.008278626931623734, -0.026165443961676527, -0.006913074233632521, 0.00022241944179679507, -0.003297244554437917, -0.008663289663454421, 0.013300952323984205, 0.007184814887903457, -0.009605713356434897, 0.024744668595899633, -0.009605713356434897, -0.011932922884002384, -0.01704893721732814, -0.01920304851557031, -0.007624700287515829, -0.015279488650914441, -0.0009315687536899375, -0.02758869606944314, -0.006066816223607496, 0.012935522728747095, -0.001797059900304987, -0.014221666138383604, 0.02559092660592288, -0.00018147642662302843, 0.005511532004446984, -0.028819616811297077, 0.012454694313961845, 0.025302429557052086, -0.016798906441639172, 0.015858959490648417, -0.0035088090569441732, 0.020609544228737064, 0.027052644986873986, -0.014933292192266912, 0.00045321708089485213, 0.014339541699923686, -0.01966464379376509, 0.010319816152310146, 0.001587972139790672, -0.009932676678490182, -0.007567000877740426, 0.001587972139790672, 0.009454325005695097, -0.0015277959880259928, 0.016224389085885527, -0.003297244554437917, 0.010050552240029376, -0.016125746660938134, -0.002258655178500213, -0.007105405599546977, 0.014570339339020855, -0.02129946040403885, -0.00014301015344031498, 0.022917520619711418, -0.0331086062711905, -0.010182707454179596, -0.014240899274975849, 0.028052768089629865, 0.0052038018189835, -0.0131638436258541, 0.0017226040959306133, 0.007954140351561279, -0.003547275330127775, -0.00046997347549648794, -0.016818139578230973, 0.0010494443152300192, 0.026360252069581147, -0.014894825919084642, -0.007105405599546977, -0.003162612598298864, 0.009358159322736093, 0.010973742796419828, -0.02926197895289917, 0.00406904676008768, 0.011531503757571393, -0.0052205582135833595, 0.01274319136283264, 0.02218666142923631, 0.0016841378227478998, 0.011666135713710446, -0.0007777036609581955, 0.01587819262723933, 0.015974358310196557, 0.0004724502174848766, -0.019145349105794907, -0.022164951550654344, 0.021994330063320966, -0.017818262680985963, -0.022588080555665524, 0.0104929143816328, -0.00018147642662214025, 0.012204663538271987, 0.004088279896679481, -0.011644425835128924, -0.026453941010547766, 0.007280980570859796, -0.016875838988004155, -0.00270101732010275, -0.014740960826354232, -0.009740345312574838, -0.006951540506816123, 0.0012417756811435865, 0.01805153706207463, 0.018743929979367024, 0.0035689852087097407, 0.006703986473117318, -0.01252915011833533, -0.00802859615593654, -0.009221050624605986, -0.0025856185005546095, -0.017683630724845578, 0.0235714472638211, -0.008567123980496305, 0.005030703589659957, 0.002530395832772925, 0.008319569946798389, -0.011817524064452023, 0.012012332172357532, 0.014224142880374657, 0.00970435578138229, 0.015031934617215192, 0.008358036219981102, -0.011452094469214913, 0.0020880336911686115, 0.01389717955832026, -0.011875223474226537, -0.01585648274865692, -0.0033934102373951447, 0.010473681245041888, -0.0012200658025607325, 0.020628777365328865, -0.0020663238125857575, 0.01012748478639569, 0.013416351143533234, -0.0021432563589520726, 0.021725066151041084, -0.007759332243656658, -0.005720619764962187, 0.013974112104686576, -0.024722958717317223, 0.004626807721240134, 0.009627423235017751, -0.013817770269962448, 0.0011840762713699604, -0.004835895481755337, 0.003915181667355938, -0.0033549439642124312, -0.009105651805057846, 0.02393687685905821, 0.030283811934238347, -0.020183938481735275, 0.010146717922987492, 0.01801307078889014, 0.010435214971858287, -0.024030565800025716, -0.019106882832613525, 0.002780426608460118, -0.004278134520602883, -0.01599111470479775, 0.014493406792656316, -0.00487436175493805, 0.000991744905455505, -0.019741576340130962, 0.02055184481896344, -0.018414489915320242, -0.015067924148408185, 0.013839480148545746, 0.016878315729995208, 0.003972881077129564, 0.01085834397686991, -0.0011431332561961938, 0.0048576053603364144, -0.0005469060218610267, -0.013356174991768555, 0.019590187989390273, 0.006761685882890056, -0.0007200042511836813, 0.003934414803947739, -0.008990252985509706, -0.013029211669713714, 0.008127238580883045, -0.011932922884002384, 0.02384071117610098, 0.021128838916705917, -0.007393902648417772, 0.005338433775124329, -0.006932307370224322, -0.02368436934137863, 0.01035828242549286, -0.005278257623358762, -0.042782873976692226, -0.007567000877740426, -0.020587834350154655, 0.009492791278876922, 0.008569600722488246, -0.013029211669714602, 0.007627177029506882, 0.016570585544532612, -0.0030664469153425244, 0.022648256707431536, 0.016820616320220694, 0.020744176184877006, 0.02041721286282261, -0.003931938061956686, -0.0023548208614574406, -0.0008546362073245106, -0.004047336881505714, -0.019645410657174178, -0.009028719258691531, 0.0011840762713699604, 0.00797337348815308, 0.015993591446789246, 0.005280734365348927, 0.010839110840279886, -8.378197300373813e-06, 0.024667736049534206, -0.025223020268695606, 0.012685491953059014, -0.019145349105795795, 0.007627177029505994, 0.00960819009842595, 0.007396379390409713, 0.005146102409208098, 0.016070523993153785, -0.020741699442886397, -0.0019509249930358408, -0.03605127616968273, 0.005223034955575301, -0.00285488241283538, -0.014087034182244995, -0.015414120607054826, -0.007701632833881256, -0.004547398432883654, -0.00812476183889288, 0.004896071633520016, 0.0008955792224982773, -0.008817154756186163, 0.00670398647311643, -0.014952525328858268, 0.008627300132260984, 0.014820370114709824, -0.004797429208571735, -0.0219533870481472, -0.0033741771008051202, 0.022917520619711418, 0.030726174075841328, 0.024148441361563577, 0.002799659745051919, -0.006143748769973811, 0.017993837652300115, 0.010781411430505372, 0.005800029053317779, 0.02672568166481959, 0.010300583015718345, 0.012704725089649926, 0.007415612527000626, 0.022282827112193537, -0.003681907286268604, 0.01020441733276023, -0.011894456610818782, -0.01733743426619938, -0.005585987808822246, 0.005376900048306155, -0.009355682580746816, -0.01370237145041564, -0.012721481484251118, 0.0009532786322719033, 0.003011224247557287, -0.019126115969204882, -0.009990376088264696, 0.0008955792224982773, -0.008817154756185275, 0.01314708723125424, -0.0030664469153425244, -0.014510163187256175, -0.008182461248668282, 0.004222911852819422, 0.007396379390407937, -0.014798660236127414, 0.009396625595920582, -0.0021240232223602717, -0.012490683845153505, -0.007009239916588861, -0.0035857416033104883, 0.013454817416716836, 0.019494022306433934, 0.0050884029994344715, -0.0008354030707327098, -0.004989760574486191, -0.0030472137787507236, 0.009742822054567668, 0.00645395569742746, -0.003931938061957574, 0.0016456715495642982, -0.02066476689652097, 0.020321047179864493, -0.0013739308952942508, 0.017955371379116514, 0.004646040857830158, -0.003393410237396921, -0.013837003406556025, 0.016378254178618157, -0.008220927521850996, 0.03389964161343029, -0.015164089831365857, -0.007624700287516717, -0.024242130302531528, -0.020126239071959873, -0.025088388312555665, 0.003242021886654456, -0.01072123527873936, -0.004451232749926426, 0.009550490688653213, 0.01337788487035052, 0.00216496623753315, 0.018243868427989973, 0.004742206540789162, 0.011550736894163194, -0.011567493288763053, -0.01626037861707763, 0.004088279896678593, 0.012647025679875412, 0.017128346505685066, -0.021395626086996966, -0.014664028279987473, -0.002547152227371896, -0.025434584771201862, 0.0013379413641008142, 0.021859698107181025, -0.0064322458188454945, 0.005511532004446096, 0.005203801818982612, 0.004107513033271282, 0.013724081328996718, 0.0024534632864066097, 0.0033381875696116836, 0.011416104938023253, -0.02922351267971779, 0.006819385292666347, 0.008819631498177216, -0.00497052743789439, 0.0017610703691142149, 0.026687215391635988, -0.012663782074476604, -0.03133915770477769, -0.0074131357850095725, 0.0012417756811426983, -0.014240899274975849, -0.009586480219843985, 0.004261378126003024, 0.00974282205456678, -0.02618467709826744, -0.011509793878988983, 0.0008763460859055883, 0.03282258596430898, 0.01803230392548283, 0.0018957023252532679, -0.002027857539403044, 0.005646163960586925, -0.006778442277490804, 0.03111083680767024, -0.017414366812565252, -0.010163474317587795, 0.01864776429640891, -0.0024317534078237557, 0.0007224809931765108, 0.005703863370362328, -0.002027857539403044, 0.0005686159004429925, 0.004915304770110929, 0.0024534632864057215, 0.012685491953059014, -0.014798660236127414, -0.02278041192158131, -0.01726050171983351, 0.0014533401836498427, -0.0020663238125857575, -0.028184923303779197, 0.011839233943034877, 0.005800029053317779, 0.0161666896761119, -0.017606698178479707, 0.013204786641027866, -0.013837003406556025, 0.009031196000682584, 0.005107636136026272, -0.0043935333401510235, 6.855434906505309e-05, -0.01174059151808704, -0.010336572546910894, -0.009240283761197787, 0.004145979306452219, 0.00037628453452853705, 8.77874856568539e-05, -0.014202433001791803, -0.013375408128359467, -0.0011239001196052811, -0.016875838988005043, -0.01206755484014188, -0.01908764969602128, 0.012743191362833528, -0.0058937179942839535, -0.020876331399026782, -0.020299337301282527, -0.0009315687536890493, 0.013224019777619667, 0.0008378798127228748, 0.0049345379067027295, -0.0015085628514333038, 0.0022418987839003535, 0.009050429137274385, 0.018840095662323364, 0.01037751556208466, 0.013050921548296124, 0.006107759238783039, -0.027742561162176216, -0.018125992866449447, 0.012204663538271987, 0.022378992795150765, -0.016433476846401174, 0.011743068260076761, -0.006239914452931927, -0.0037203735594504295, -0.0018739924466721902, -0.0005853722950437401, -0.0043935333401510235, 0.0025880952425456627, -0.012567616391518932, 0.007704109575871421, -0.005836018584509439, -0.003085680051932549, 0.016974481412953324, 0.014974235207441566, 0.000991744905455505, 0.011512270620979592, -0.009701879039393013, -0.006566877774985436, 0.004242144989410335, 0.011723835123485848, 0.029668351563311823, -0.01283688030380059, -0.01651040939276749, 0.01276242449942444, 0.0037805497112151087, 0.0004147508077121387, -0.0012008326659698199, 0.007781042122238624, -0.010702002142148892, 0.014897302661077028, -0.009432615127112243, 0.026437184615947462, 0.02280212180016239, 0.01326248605080238, -0.014798660236127414, 0.0022418987838994653, 0.008261870537023874, 0.022167428292646285, -0.011605959561946655, 0.0012994750909181008, 0.009281226776371554, 0.006165458648556665, -0.006316846999296466, -0.010836634098288389, -0.004393533340151912, 0.013089387821478837, -0.006893841097039832, 0.006627053926751891, -0.007336203238644146, 0.006011593555824923, -0.0035088090569459496, -0.012894579713573773, 0.004953771043293642, -0.00814399497548468, 0.02335988276131573, 0.008050306034518506, 0.00028011885157130934, -0.0011239001196035048, -0.0028741155494262927, -0.016741207031864658, 0.002645794652320177, -0.006413012682253694, -0.001066200709831655, -0.0037203735594513176, 0.0013956407738771048, 0.014762670704936198, 0.0009148123590891899, 0.0013379413641008142, 0.0010686774518200437, 0.008781165224993615, 0.005280734365348927, -0.007336203238644146, -0.012452217571970348, 0.010916043386645313, 0.00143410704705893, -0.00046997347549559976, 0.003415120115978887, -0.013971635362694634, -0.03578201225740241, 0.014781903841527999, -0.004682030389022707, -0.0012969983489279358, -0.026588572966687263, 0.00897349659090807, 0.001434107047058042, 0.008300336810206588, -0.00029687524617205696, 0.027764271040757293, -0.0364936383112866, -0.000816169934140909, -0.00010454388025760153, -0.005836018584512104, 0.00974282205456678, -0.007490068331375888, 0.001876469188661467, -0.006413012682254582, -0.008701755936637134, -0.008470958297539077, 0.0008763460859064764, 0.009896687147297634, -0.0017393604905313609, 0.014801136978118912, 0.0056269308239960125, -0.0035088090569450614, -0.0002584089729902317, -0.019530011837625594, -0.012432984435378547, -0.030800629880215702, 0.009300459912962467, 0.0008955792224973891, -0.04859128122730949, -0.02843495407946728, -0.00029687524617205696, 0.002357297603449382, -0.007970896746161138, 0.00029935198816222197, 0.0017803035057051275, -0.013202309899036369, 0.006261624331513005, -0.003181845734890665, 0.005588464550811523, 0.01522426598312876, -0.021626423726095023, -0.009817277858941154, -0.016183446070712648, 0.01124300670869971, -0.0052974907599496746, 0.0021649662375349266, -0.03305090686141687, -0.021376392950404277, 0.013454817416716836, 0.005338433775123441, 0.0010302111786382184, -0.007451602058192286, -0.009990376088265585, 0.022148195156053596, -0.0016816610807559584, -0.007855497926612998, -0.009105651805056958, -0.0026625510469209246, -0.0153371880606894, -0.0032010788714806893, 0.03874639203447794, 0.009319693049555156, 0.0011263768615954461, -0.004508932159700052, -0.004201201974237456, -0.0078939641997966, -0.0029702812323835204, 0.006800152156074546, 0.0072809805708606845, -0.0016816610807568466, -0.014567862597029801, -0.003451109647170547, -0.015279488650914885, -0.0032203120080733783, 0.0016456715495651864, 0.010300583015719234, -0.006855374823858007, 0.006165458648555777, 0.005126869272617185, 0.02268672298061425, -0.023722835614561788, 0.0019918680082104956, 0.024840834278855084, -0.006086049360199297, 0.019763286218712928, -0.0057398529015531, -0.005720619764962187, -0.0011046669830134803, -0.001970158129629418, 0.014435707382880913, -0.009471081400294956, 0.013570216236264976, 0.008800398361585415, -0.016337311163443502, -0.0038550055155903706, -0.020472435530605626, 0.0007801804029492487, 0.0012994750909181008, 0.00106867745182182, -0.018702986964191926, 0.006338556877878432, 0.010050552240029376, -0.007951663609570225, -0.033589434685977526, -0.009913443541898381, 0.02232129338537714, 0.030110713704915693, 0.011223773572108797, 0.018878561935506966, -0.00037380779253837204, -0.009663412766211188, 0.002953524837783661, 0.002491929559588435, -0.021260994130856137, -0.0006623048414100552, 0.016685984364080753, -0.010836634098287945, 0.00901196286409256, 0.0047806728139709875, 0.008204171127250248, -0.002277888315092902, 0.003972881077129564, -0.008451725160948165, 0.021513501648536604, 0.011820000806443076, 0.0027419603352774047, -0.007086172462955176, 0.017686107466835743, -0.019837742023087745, 0.004280611262593936, 0.009935153420480347, 0.008204171127250248, -0.009971142951672896, -0.00673997600430809, -0.011817524064452023, -0.003662674149675915, -0.022126485277471186, -0.004105036291281117, -0.006893841097039832, 0.005953894146049521, 0.007704109575872309, 0.004992237316477244, -0.00929798317097319, -0.006182215043156525, -0.012375285025604033, -0.014106267318835464, -0.018972250876472696, 0.0004916833540775656, 0.004530642038283794, 0.011589203167346795, -0.0067976754140826046, -0.017452833085747077, 0.018974727618464193, 0.003857482257582312, -0.017568231905296106, -0.01979927574990681, 0.012800890772607154, 0.006492421970611062, -0.028492653489242237, -0.011490560742397626, 0.011050675342785254, 0.0029919911109663744, 0.012435461177369156, 0.013647148782631291, -0.019183815378978508, 0.006780919019481857, -0.009836510995532954, -0.02847342035265088, -0.009798044722350241, -0.022530381145891898, 0.019878685038261956, 0.0022995981936748677, 0.012858590182381668, -0.013067677942897316, -0.0008931024805072241, 0.011935399625992105, 0.008511901312713732, -0.0047012635256145074, -0.0031241463251161505, -0.030916028699765175, -0.006720742867718066, -0.0013162314855188484, 0.01655135240794081, 0.0026073283791365753, 0.000991744905455505, 0.015358897939270477, 0.004588341448056532, -0.017741330134618316, -0.01177905779126931, -0.03028133519224685, -0.02368436934137863, 0.013358651733759608, 0.0066078207901600905, -0.00993267667849107, -0.017048937217327698, 0.008050306034518506, -0.032146949441618666, -0.0012969983489279358, 0.01212773099190656, -0.02987743932382525, -0.0011815995293789072, -0.027434830976712288, -0.012759947757433387, 0.006915550975622686, -0.0075477677411486255, 0.016993714549545125, 0.0008955792224982773, -0.003431876510577858, 0.005223034955574413, -0.0013546977587015618, 0.020994206960565087, 0.005569231414221498, -0.013433107538134426, 0.00597312728264221, -0.01177905779126931, -0.012567616391518488, -0.014183199865200002, -0.0021240232223602717, -0.005047459984261593, 0.007107882341537142, 0.003992114213722253, -0.008855621029369765, -0.008163228112076482, -0.03474342288146426, -0.02191492077496493, 0.024302306454296208, -0.023780535024336302, -0.016164212934120847, 0.019878685038262844, 0.0032997212964298583, 0.010935276523236226, -0.03443569269600122, 0.006915550975622686, -0.012125254249916395, -0.009451848263703155, -0.009451848263704044, -0.015933415295022346, -0.009047952395283332, -0.016798906441638728, -0.010971266054428774, -0.01249068384515395, -0.0025856185005537213, 0.016166689676111012, 0.004280611262593936, 6.855434906505309e-05, -0.02976204050427711, -0.0003353415193547704, 0.02686031362095953, 0.026417951479356994, -0.009067185531874244, -0.029454310318815402, 0.007550244483140567, -0.01399086849928688, 0.0018380029154787536, -0.020780165716069554, 0.0059154278728668075, 0.0341496723891197, 0.006415489424245635, 0.0078002752588295365, -0.009836510995532954, 0.01487806952448345, 0.01564739498814305, -0.010201940590770953, -0.009509547673478558, -0.006413012682253694, -0.002912581822609006, -0.010048075498037878, -0.011009732327611044, 0.010685245747548144, -0.001277765212336135, 0.002857359154826433, -0.009721112175983926, -0.004008870608323001, -0.011394395059440399, -0.004431999613334625, 0.005049936726251758, -0.0005853722950437401, 0.0063770231510620334, -0.0005276728852692258, -0.02006853966218447, 0.0005109164906702546, 0.013724081328996718, 0.0035689852087097407, -0.021068662764940793, 0.009646656371608664, -0.021799521955416346, 0.012262362948046501, -0.022818878194762693, 0.003376653842794397, 0.01878239625254796, -0.030742930470441632, -0.004508932159700052, 0.02103267323374869, -0.0045473984328827655, 0.0022418987838994653, -0.0005469060218601385, 0.007357913117226111, -0.00650917836521181, -0.00877868848300345, 0.0036459177550751676, -0.006990006779998836, -0.008220927521851884, 0.002107266827758636, -0.002701017320103638, -0.03693600045289003, 0.028975958646018984, -0.012432984435379435, 0.014301075426740972, 0.00483837222374639, 0.01110837475255888, -0.005451355852682305, 0.0021264999643504368, -0.012490683845153061, 0.0002608857149803967, 0.00012625375884045553, 0.005896194736275895, 0.013031688411704323, -0.013298475581994484, 0.0010109780420455294, 0.0026650277889119778, -0.026242376508042398, -0.006182215043156525, -0.010778934688513875, 0.0037420834380323953, 0.016339787905435443, -0.0017393604905313609, -0.0029702812323835204, -0.0012969983489270476, -0.01795289463712635, -0.024799891263683094, -0.025800014366438973, -0.013779303996780179, 0.027341142035745225, -0.005316723896541475, -0.005201325076992447, 0.0014725733202416436, 0.008223404263840273, 0.016051290856562872, 0.007434845663591538, 0.012973989001929809, -0.01349080694790894, -0.00018147642662302843, 0.016320554768842754, -0.01052890391282535, 0.013550983099674063, 0.0041075130332703935, -0.01556798569978568, -0.002701017320103638, 0.010877577113461712, 0.004607574584649221, 0.006357790014470233, -0.00027764210958025615, -0.0031433794617079514, 0.003395886979386198, 0.021628900468083856, -0.0013739308952942508, 0.02722574321619664, 0.00031858512475491096, -0.015952648431615035, -0.006066816223607496, -0.00285488241283538, -0.007990129882754715, 0.008358036219980214, -0.012875346576982416, -0.0028933486860180935, -0.0009508018902808502, -0.005547521535638644, 0.01353174996308315, -0.009509547673478558, 0.012339295494412816, -0.010528903912824905, -0.0032587782812552035, -0.004355067066969198, -0.0019124587198549037, 0.006703986473117318, 0.00960819009842595, -0.0219918533213308, 0.023148318258808587, 0.006319323741287519, -0.006970773643405259, -0.004201201974237456, 0.010454448108450087, 0.003857482257581424, 0.007684876439280508, -0.011798290927861554, 0.01728221159841503, 0.006800152156073658, -0.0030664469153416363, -0.030858329289991104, -0.007836264790022085, -0.0016047285343914197, 0.02157120105830934, 0.01984021876508013, -0.009913443541898381, 0.004819139087154589, -0.012548383254927131, -0.014721727689761543, -0.005682153491779474, -0.0034318765105787463, 0.0001839531686149698, -0.004528165296291853, -0.015221789241139483, -0.0009315687536899375, -0.004662797252430906, -0.00977881158575844, 0.0034343532525697995, -0.013221543035629058, 0.0017995366422969283, 0.0016841378227478998, -0.017125869763693125, 0.008454201902939218, -0.02720403333761512, -0.006182215043156525, 0.01653211927134901, -0.0019124587198549037, -0.006355313272480068, 0.002318831330264892, 0.006627053926751003, -0.013433107538134426, 0.004222911852819422, 0.0020111011448022964, -0.01322154303562817, 0.008819631498177216, -0.009240283761197787, 0.013339418597168695, -0.006509178365210921, 0.005299967501940728, -0.0007200042511836813, 0.004357543808959363, -0.005470588989273217, -0.0013162314855188484, 0.020994206960565087, 0.02584095738161274, 0.008146471717475734, 0.0065885876535674015, -0.0062206813163401264, 0.010992975933009852, -0.021530258043136463, -0.0010854338464216795, 0.015301198529495963, 0.013339418597167807, -0.005470588989273217, 0.017243745325233206, 0.019609421125982074, 0.0060885261021912385, -0.0003161083827638578, 0.01233929549441104, -0.00800936301934474, -0.008759455346411649, -0.007432368921600485, -0.009490314536885869, 0.003165089340289917, -0.0007007711145936568, 0.00418444557963582, -0.028973481904028375, -0.009471081400294956, -0.014279365548158562, 0.011608436303937708, -0.009028719258691531, 0.014704971295160796, 0.013435584280125923, -0.028531119762426282, 0.0054730657312642705, -0.0015470291246160173, 0.0017803035057051275, -0.004162735701053855, -0.024896056946639877, 0.02722574321619664, 0.004819139087154589, -0.0077208659704730564, -0.0013162314855179602, -0.012375285025604033, 0.0034535863891616003, -0.017068170353918166, -0.024857590673457164, -0.0038550055155903706, 0.005492298867855183, -0.01993390770604586, -0.01956847811080742, 0.004396010082142077, -6.607760707577626e-05, -0.015798783338883293, 0.0031266230671072037, -0.014067801045653194, 0.019070893301420533, -0.013529273221090765, -0.006778442277490804, 0.0020688005545768107, -0.003701140422859517, 0.012550859996918184, 0.016474419861575385, 0.007338679980635199, -0.0007969367975499964, -0.004662797252431794, 0.014301075426740084, 0.012050798445541133, -0.0012200658025607325, -0.0003161083827638578, 0.018205402154805483, -0.0001622432900321158, 0.009069662273866186, -0.014721727689761543, -0.008105528702302855, 0.006665520199932828, 0.011435338074614165, -0.0005469060218610267, 0.0236099135370047, 0.010454448108450087, -0.006893841097039832, 0.007261747434268884, 0.0026650277889119778, -0.01647194311958433, -0.013394641264952156, -0.004605097842658168, 0.012954755865338896, 0.016724450637263466, -0.01747206622234021, -0.017799029544394163, -0.006701509731126265, 0.012512393723734583, 0.02005178326758461, 0.027610405948025996, 0.003915181667355938, 0.004434476355325678, -0.00016224329003300397, 0.0007224809931756226, 0.007204048024494369, -0.0010085013000553644, -0.0017008942173477593, 0.010473681245041888, -0.011875223474226981, 0.0021457331009422376, 0.005723096506951464, -0.02993513873360021, -0.017106636627102656, 0.006434722560836548, 0.009300459912962467, -0.01624114548048672, 0.004569108311466508, -0.005816785447919415, -0.013086911079488228, -0.020087772798778047, -0.010509670776233548, 0.0023188313302657804, -0.019953140842637218, -0.02245344859952425, 0.032495622642254585, -0.002777949866469953, -0.0198377420230873, -0.0003161083827638578, -0.014144733592018621, -0.021530258043136463, -0.004951294301304365, 0.005203801818982612, 0.028648995323964588, 0.04328541227006033, 0.015012701480625168, 0.002491929559588435, 0.00895426345431627, 0.019128592711195047, 0.00495377104329453, 0.009281226776371554, -0.016087280387754532, 0.011781534533260363, 0.008492668176121043, -0.019549244974217395, -0.022626546828848237, 0.03012994684150616, -0.019760809476722763, -0.008836387892776187, -0.014240899274975849, 0.013089387821479725, 0.0026842609255028904, 0.006857851565847284, -0.0030279806421580346, -0.02985820618723478, 6.855434906505309e-05, 0.012570093133509097, -0.005855251721102128, -0.0012200658025616207, 0.008569600722487358, -0.009798044722350241, -0.01374083772359791, 0.004780672813970099, 0.01641672045180087, -0.0017201273539404482, -0.0033357108276206304, -0.002701017320103638, 0.008434968766346529, -0.021203294721082067, -0.013586972630866168, 0.020282580906682668, 0.008434968766347417, -0.004778196071979934, -0.018972250876472696, -0.019010717149656298, 0.0008955792224973891, -0.018222158549407563, 0.010069785376621176, 0.042612252489359737, -0.006778442277490804, -0.01854912187146107, 0.016551352407939923, 0.0019918680082104956, -0.015683384519334265, 0.012800890772606266, -0.004451232749925538, 0.00354975207211794, 0.0035112857989352264, 0.007511778209957853, -0.008990252985509706, -0.006105282496791098, 0.0017226040959306133, 0.0011648431347781596, -0.024953756356413503, 0.013204786641026978, 0.01374331446558763, 0.00808877230770122, 0.007915674078377677, -0.028127223894003794, 0.01639748731520907, -0.025146087722329735, -0.015548752563194324, -0.01158672642535441, 0.01589742576383113, -0.021626423726094135, 0.011916166489400304, -0.009317216307564102, 0.00012625375883956735, 0.026052521884118107, 0.015974358310196557, -0.004085803154688428, -0.013683138313822063, -0.03857081706316334, 0.014166443470600143, 0.0050884029994344715, 0.012377761767596418, 0.02157120105830934, 0.016993714549544237, -0.016106513524346333, 0.016224389085885527, -0.00537442330631599, 0.005011470453069045, 0.005800029053319555, -0.029031181313802445, -0.015164089831364524, -0.001046967573238966, -0.026896303152151635, -0.01327924244540224, 0.010954509659828027, 0.03459203453072446, -0.026203910234859684, -0.001431630305067877, -0.0032395451446634027, 0.007896440941785876, -0.00814399497548468, 0.02345604844427296, -0.00775933224365577, 0.008377269356572903, -0.009086418668466933, 0.005800029053318667, -0.007355436375235058, -0.02056860121356241, -0.01341387440154218, -0.002739483593288128, 0.0023765307400394065, -0.011452094469214913, -0.019703110066947804, 0.009531257552060524, 0.014531873065838141, -0.0168950721245964, -0.0015470291246160173, -0.021299460404038406, 0.006165458648556665, 0.027206510079605284, -0.01274071462084203, -0.0012200658025625088, 0.011704601986894048, -0.014990991602041426, 0.008877330907950842, -0.024338295985488756, -0.00245098654441378, -0.024145964619573412, -0.007932430472979313, 0.010108251649803002, 0.026841080484367286, -0.017664397588253777, 0.006453955697426572, 0.0010109780420464176, -0.025088388312554777, 0.0007609472663583361, 0.009050429137273497, 0.00256886210595475, -0.015164089831365857, 0.0037420834380323953, 0.0006070821736265941, 0.003242021886654456, 0.03726544051693503, 0.013224019777619667, -0.014048567909060505, 0.0104929143816328, 0.03126470190040198, -0.02231881664338564, -0.004835895481754449, -0.012894579713573773, 0.001818769778887841, -0.0003930409291292847, 0.021090372643522315, -0.0023548208614574406, 0.017243745325233206, -0.021376392950405165, -0.019241514788753022, -0.0028164161396517784, 0.0026265615157301525, 0.013397118006941433, -0.0022971214516829264, -0.00010454388025760153, 0.007107882341537142, -0.005682153491779474, 0.02370607921996104, 0.0008571129493155638, -0.002989514368975321, 0.02268672298061425, 0.020974973823975063, -0.027300199020571903, 0.00164567154956341, 0.008031072897927594, -0.010028842361447854, 0.003953647940537763, 0.0012610088177362755, 0.010819877703688974, 0.008915797181134444, 0.02057107795555435, 0.0004147508077121387, 0.006877084702440861, 0.009281226776372442, 0.026360252069581147, 0.011704601986894936, 0.011262239845290622, 0.005011470453068156, 0.004973004179886331, -0.026992468835109307, 0.005800029053317779, 0.00483837222374639, -0.005932184267467555, 0.013300952323984205, 0.013281719187394181, -0.03145455652432583, -0.019818508886496833, -0.006143748769973811, -0.00012377701684940234, -0.015356421197279424, -0.008163228112076482, -0.0008546362073236224, 0.0021072668277604123, -0.008047829292526565, 0.01324325291421058, -0.0005469060218601385, 0.0032804881598371693, -0.009047952395283332, -0.029800506777462488, -0.009355682580745928, 0.005492298867854295, -0.04012870112707079, 0.012589326270101786, 0.026783381074593215, 0.009665889508202241, 0.0012610088177353873, 0.009281226776372442, -0.015394887470462582, -0.009932676678489294, 0.004838372223745502, -0.024126731482982056, 0.017878438832751087, -0.0017008942173486474, 0.011166074162334283, 0.024494637820210663, -0.011855990337635625, 0.0015495058666079586, 0.011781534533259475, -0.0034895759203523724, 0.02118653832648132, 0.024033042542015437, 0.01353174996308315, -0.02647317414714001, 0.011954632762583017, 0.0015495058666070705, -0.004258901384011082, 0.0020688005545768107, 0.0008571129493155638, -0.011971389157185097, 0.006492421970610174, -0.006624577184760838, -0.009432615127112243, 0.00924276050318884, -0.006643810321351751, 0.013608682509448577, 0.035111329218692866, -0.00010454388025760153, -0.0004122740657210855, 0.0017803035057042393, -0.022126485277471186, 0.01941708976006762, 0.021705833014449283, -0.0010085013000562526, -0.007355436375235946, 0.01072371202072997, 0.008569600722488246, 0.01891702820868968, 0.01587819262723933, -0.006047583087017472, 0.018243868427988197, -0.0062206813163401264, -0.0027971830030608658, -0.0021240232223602717, -0.01735666740279118, -0.002335587724866528, -0.009336449444155015, -0.016510409392767045, 0.02595635620116088, 0.0047806728139709875, -0.0077208659704730564, 0.003934414803947739, -0.0065861109115772365, -0.019933907706045417, 0.0011456099981881351, 0.003145856203697228, 0.02568709228888011, 0.015820493217465703, 0.004145979306453107, 0.013858713285136659, 0.006280857468105694, 0.01941708976006673, -0.03081986301680706, 0.010935276523236226, 0.01151227062098048, 0.019897918174853757, -0.007740099107063969, -0.03037750087520452, 0.006319323741287519, -0.0027971830030608658, -0.03247391276367173, -0.011394395059440843, -0.01049043763964308, 0.00847343503953013, -0.006451478955436407, -0.010528903912826237, 0.007396379390408825, -0.010413505093275433, 0.008646533268853673, 0.020878808141017835, 0.013474050553308636, -0.01699123780755274, 0.010262116742535632, -0.008509424570723567, -0.001200832665970708, -0.020510901803789228, -0.006393779545661893, -0.006470712092028208, 0.005973127282641322, -0.006413012682253694, 0.014397241109699088, -0.0067976754140826046, 0.0036651508916678566, 0.006934784112213599, -0.010528903912824905, 0.005723096506952352, -0.011432861332623556, 0.005857728463092293, 0.009819754600931319, 0.011339172391656938, 0.0007609472663583361, -0.0029702812323852967, -0.017125869763693125, 0.017224512188641405, 0.0019918680082104956, -0.00029687524617205696, -0.0037780729692249437, -0.006201448179749214, 0.0014533401836498427, 0.0030496905207400005, -0.015202556104548126, -0.013106144216080029, -0.0050859262574443065, -0.00362420787649409, -0.003912704925364885, 0.008069539171110307, 0.0005109164906684782, 0.004799905950562788, 0.008146471717476622, 0.0016841378227470116, -0.0064322458188454945, 0.007511778209957853, 0.01841696665731085, 0.008684999542036387, 0.016820616320220694, -0.019203048515569865, 0.0068193852926654586, -0.009355682580746816, 0.0047229734041973614, -0.006547644638394523, -0.002489452817597382, -0.02428059657571424, -0.0017585936271222735, -0.018991484013065385, -0.0037203735594495413, -0.013317708718585397, 0.02964911842671869, -0.009278750034381389, 0.0026842609255028904, -0.011471327605805826, 0.020397979726230808, -0.02174182254564272, 0.010819877703688974, 0.003318954433021659, -0.01958771124739833, 0.016993714549544237, -0.0010277344366471652, -0.009701879039393013, 0.016455186724982696, 0.008723465815219988, 0.005838495326501381, -0.009586480219844873, -0.00837479261458185, -0.01576031706569969, -0.01772209699802829, 0.005569231414221498, -0.007432368921600485, 0.003934414803947739, 0.009069662273866186, 0.012435461177369156, -0.01029810627372818, -0.011009732327611044, 0.024340772727478033, -0.0032587782812560917, -0.008778688483001673, 0.015185799709947823, -0.010028842361448298, 0.022071262609686393, 0.004665273994421959, 0.025744791698654623, 0.0020495674179841217, -0.00837479261458185, -0.00760546715092314, 0.002568862105953862, 0.006319323741288407, -0.008971019848917905, 0.0017226040959306133, -0.008720989073228047, 0.007896440941786764, 0.00783874153201225, -0.001970158129629418, 0.021282704009438547, -0.005008993711077991, 0.015455063622227705, -0.010317339410318649, -0.0026625510469218128, 0.0003378182613458236, -0.006220681316339238, -0.0020470906759939567, -0.01904918342283901, 0.012839357045791644, -0.013894702816328763, 0.007896440941786764, 0.0010686774518209319, 0.01664751809089715, -0.004682030389022707, -0.02683860374237712, -0.0009508018902817383, 0.02584095738161185, 0.00833880308339019, 0.0017418372325206377, 0.00012625375884045553, -0.004008870608323001, 0.031033904261304812, -0.020607067486746455, 0.001876469188661467, -0.01268301521106796, -0.02174182254564183, -0.014163966728609978, 0.006992483521988113, 8.77874856568539e-05, -0.02133792667722112, 0.0014918064568325562, -0.011144364283751873, -0.020395502984240643, -0.012048321703548748, -0.0031049131885243497, -0.00537442330631599, 0.02282135493675508, 0.0011648431347781596, 0.012300829221230103, 0.007434845663591538, 0.004396010082142077, 0.00862730013226276, -0.004431999613334625, 0.006934784112213599, 0.02595635620116088, 0.008511901312713732, 0.006415489424243859, -0.01435629809452399, -0.010009609224855609, 0.003107389930515403, 0.0003378182613458236, 0.0044152432187338775, -0.01379853713337198, -0.019203048515569865, 0.012531626860326384, 0.0006070821736265941, -0.014279365548158118, -0.02435752912207967, 0.015743560671099388, -0.015221789241138595, 0.001222542544553562, -0.00212402322236116, 0.01701294768613515, 0.0052038018189835, 0.014647271885386282, -0.009451848263704044, -0.0023548208614565524, -0.007163105009321491, 0.008935030317725356, 0.021763532424223797, -0.024453694805036896, -0.0020663238125866457, 0.016128223402929187, -0.019703110066947804, 0.012935522728747095, 0.002261131920491266, -0.0009508018902808502, 0.008800398361584527, -0.001431630305067877, 0.009050429137274385, -0.0001622432900321158, 0.011300706118474224, 0.012685491953059014, 0.002241898783898577, 0.027206510079605284, 0.01124300670869971, 0.002280365057083067, 0.014416474246289113, 0.019763286218712928, 0.01135840552824785, -0.012298352479238606, -0.003316477691030606, 0.020224881496907265, -0.0020086244028121314, 0.007550244483139679, -0.010471204503050835, -0.0028356492762444674, -0.028858083084479347, -0.00548982212586413, 0.0065885876535674015, -0.016106513524345445, 0.01955172171620667, -0.00037380779253837204, -0.006682276594535352, -0.02889654935766206, -0.0018162930368967878, -0.008336326341400024, 0.012647025679875412, 0.0007417141297665353, -0.0032587782812552035, 0.008915797181134444, 0.005030703589659957, 0.007050182931761739, -0.001489329714841503, 0.0020111011448022964, 0.010454448108450087, -0.00027764210958025615, -0.012798414030616545, -0.004008870608323001, 0.007896440941785876, -0.002835649276243579, -0.03128145829500317, -0.012490683845152617, 0.0027996597450510308, 0.008319569946800165, 0.012185430401681963, 0.006684753336524629, 0.007684876439281396, -0.0003353415193547704, 0.003395886979387086, -0.01593341529502279, -0.025665382410299475, -0.005393656442906902, -0.022780411921580423, 0.02707187812346623, 0.012416228040778243, -0.005124392530626132, -0.004932061164711676, -0.004143502564462942, -0.020164705345142586, -0.001643194807573245, 0.00824263740043385, 0.011685368850304911, -0.01245221757196946, -0.0013931640318860516, -0.01660657507572383, -0.0028933486860189817, -0.009240283761198675, -0.01614497979753038, -0.020203171618326632, 0.003992114213721365, 0.0008763460859055883, -0.021434092360179235, -0.022357282916569687, 0.008415735629756504, -0.004585864706066367, -0.017741330134619204, 0.004857605360338191, -0.00208555694917667, -0.004739729798798109, -0.006816908550674405, -0.024626793034359995, -0.023838234434111705, -0.026627039239870864, -0.0034318765105787463, -0.007797798516838483, 0.03478436589663847, -0.021684123135868205, -0.01349080694790894, -6.607760707488808e-05, -0.018626054417827387, -0.012067554840142325, 0.007915674078377677, 0.012897056455564382, -0.004201201974236568, -0.006451478955436407, -0.006451478955437295, 0.019994083857810097, 0.007781042122238624, 0.009646656371608664, 0.013339418597167807, 0.0077425758490559105, -0.020799398852660467, -0.012163720523098664, -0.008701755936636246, 0.004992237316477244, 0.013050921548297012, 0.0009148123590900781, -0.010990499191019243, 0.020186415223724552, -0.004701263525615396, -0.000970035026872651, -0.005970650540650269, -0.00450893215970094, -0.012759947757433387, 0.004684507131014648, 0.003684384028257881, -0.004855128618346249, -0.013067677942897316, 0.0012417756811435865, 0.020859575004426034, 0.017416843554554973, -0.002335587724866528, 0.00024165257838948406, -0.004143502564462942, 0.009896687147297634, 0.00633855687787932, -0.014356298094523101, 0.0045498751748729305, 0.010742945157322659, 0.032476389505664116, -0.006855374823858895, -0.009451848263704044, 0.006761685882890944, 0.002338064466856693, -0.023472804838873262, -0.009605713356434897, -0.002701017320103638, 0.0007417141297656471, -0.003124146325114374, -0.010240406863953222, -0.011894456610818338, -0.004778196071979934, 0.016724450637263466, -0.012702248347659317, 0.012820123909198067, 0.007242514297677971, -0.02406903207320754, -0.017164336036875838, -0.007701632833881256, 0.018724696842775224, 0.008108005444292132, 0.006780919019482745, 0.02205202947309637, 0.0010686774518200437, 0.03368807711092492, -0.006393779545661893, -0.0054513558526814165, -0.005624454082004071, 0.0235714472638211, -0.019741576340130074, 0.025764024835247312, -0.012298352479238606, -0.010471204503050835, -0.013471573811317583, 0.0017033709593397006, -0.014971758465450957, 0.0028381260182346324, 0.0003378182613458236, -0.004739729798797221, -0.04147502068847242, 0.0016072052763815847, -0.005201325076992447, -0.0009700350268735392, -0.002854882412834492, -0.01920304851557031, 0.013589449372856777, 0.00860806699567096, 0.010569846927998228, -0.014471696914072574, 0.015089634026990595, -0.017048937217328586, 0.0024534632864057215, -0.008932553575735191, 0.009685122644792266, 0.0008763460859073646, 0.0214558022387612, 0.01033904928890017, -0.009086418668466045, 0.011589203167345907, 0.021878931243773714, -0.014644795143397005, 0.025629392879105595, 0.007357913117225223, 0.0025496289693638374, 0.016243622222477327, 0.016589818681123525, 0.0033574207062034844, 0.0068963178390308855, 0.016743683773855267, -0.003431876510577858, -0.006451478955437295, -0.008355559477990937, 0.008146471717476622, -0.00460509784265728, 0.01376254760218032, 0.03636148309713727, -0.02066476689652097, 0.024244607044521693, -0.012875346576982416, 0.0070694160683553164, -0.003528042193535086, 0.0047806728139709875, -0.009355682580746816, 0.009069662273865298, 0.005396133184898844, -0.0024317534078237557, 0.006492421970609286, 0.011685368850304023, -0.004893594891529851, -0.010028842361447854, -0.01531795492409671, -0.0005661391584528275, 0.006607820790159202, -0.01797212777371726, -0.004220435110829257, 0.008704232678628188, 0.003915181667355938, 0.006684753336525517, -0.006086049360200185, 0.01212773099190656, 0.013916412694912061, -0.017241268583241265, 0.002530395832772925, 0.0023957638766312073, -0.030762163607033877, 0.00845420190293833, 0.005876961599684094, -0.0010662007098307669, 0.0054538325946715815, -0.0050859262574443065, -0.002739483593288128, 0.010319816152309258, 0.02068647677510249, 0.014955002070849766, 0.0029727579743745736, 0.0011263768615954461, 0.006357790014470233, 0.02243669220492439, -0.014510163187256175, 0.002665027788912866, -0.020626300623338256, -0.018837618920331867, -0.0067976754140826046, -0.005893717994284842, -0.01904918342283901, -0.03780149159950552, -0.012394518162195833, 0.008858097771359041, -0.0026817841835118372, -0.0021240232223602717, -0.013471573811317583, -0.00018147642662302843, 0.0008571129493155638, -0.01635654430003486, -0.02116482844789891, -0.006951540506815235, -0.012933045986757818, 0.0037805497112151087, 0.005396133184897067, 0.01324325291421058, 0.0288605598264704, -0.007316970102053233, -0.016491176256175244, -0.01626037861707763, -0.025223020268695162, -0.013990868499285991, 0.018801629389139762, -0.0009315687536899375, -0.004028103744914802, -0.011682892108311194, 0.0014725733202425317, 0.0017033709593388124, -0.01293304598675693, 0.009261993639779753, -0.016491176256175244, 0.019628654262572987, 0.02268672298061336, -0.015952648431615035, -0.009394148853928641, 0.00922352736659704, -0.00564368721859676, -0.01108666487397647, -0.014029334772469149, 0.005703863370360551, 0.007627177029505994, 0.008415735629756504, 0.00935815932273698, 0.0012225425445526739, 0.0012802419543280763, 0.003395886979386198, -0.01485635964590104, 0.005723096506951464, 0.020821108731242433, -0.0092787500343805, 0.017820739422976573, 0.003030457384149976, 0.01566662812473396, 0.005338433775124329, 0.014704971295161684, 0.005780795916726866, -0.0025471522273727842, -0.004682030389023595, -0.006836141687265318, -0.0018739924466721902, -0.0018739924466704139, 0.007934907214969478, -0.0019893912662203306, -0.0006815379780000796, -0.010201940590770953, 0.016089757129745585, 0.011569970030754106, 0.02595635620116088, 0.005549998277628809, -0.006913074233631633, -0.02116482844789891, 0.001453340183650731, 0.011743068260076761, -0.0004122740657210855, 0.007415612527000626, 0.008742698951810901, -0.004682030389022707, 0.001511039593424357, -0.014048567909060505, -0.011836757201044268, 0.002434230149814809, 0.0017610703691133267, 0.003838249120989623, -0.007028473053180662, -0.010048075498038767, -0.0020470906759939567, 0.009800521464340406, -0.005355190169724189, 0.010127484786394803, 0.021859698107181913, -0.03580124539399465, -0.004451232749926426, 0.008627300132261873, -0.03832078628747393, -0.012125254249915507, 0.007992606624743104, 0.0052422680921662135, 0.013839480148545746, 0.0007994135395410495, -0.005528288399047732, -0.0025856185005546095, 0.007992606624743992, 0.00845420190293833, -0.01701047094414454, -0.0036434410130841144, -0.015837249612066007, 0.00010702062224865472, -0.004278134520602883, 0.01714757964227509, 0.012454694313961845, 0.008146471717476622, -0.019510778701034237, -0.0047589629353881335, -0.0010662007098307669, -0.01470249455317063, -0.016241145480487607, -0.013106144216080029, 0.007338679980635199, -0.012875346576981972, -0.001277765212336135, 0.012820123909198067, 0.006300090604695718, 0.010396748698674685, -0.021895687638374017, 0.004761439677380963, -0.00939414885392953, -0.006874607960449808, -0.019741576340131406, -0.011836757201044268, 0.0025496289693629492, 0.0068963178390308855, -0.014510163187256175, -0.004028103744913913, 0.012647025679874524, 0.0196863536723475, -0.016664274485498343, -0.008567123980496305, 0.011435338074614165, 0.0054538325946715815, -0.0079131973363884, 0.013185553504436953, -0.024338295985489644, 0.005107636136026272, 0.0018764691886623552, -0.0037396066960422303, -0.006105282496791098, -0.0030472137787498355, 0.0006070821736257059, 0.007434845663591538, -0.007490068331375888, -8.531074366668889e-05, 0.0161474565395201, 0.009877454010706721, -0.013760070860189266, 1.0854939291427002e-05, -0.000816169934140909, 0.010589080064590917, 0.011166074162333395, 0.024879300552040462, -0.0009508018902808502, -0.012067554840142325, 0.00849266817612282, -0.024799891263683538, 0.012262362948046501, -0.002777949866469953, -0.004643564115840881, 0.018493899203678055, -0.018433723051912043, -0.03432029387645219, 0.008896564044542643, -0.003931938061956686, -0.019741576340130962, -0.006066816223607496, -0.0006815379780000796, 0.0035689852087097407, 0.007146348614720743, -0.002181722632133898, -0.006893841097039832, 0.004934537906704506, -0.03247391276367262, 0.028475897094641045, -0.015491053153418921, 0.0006263153102175067, 0.008146471717476622, 0.018109236471849144, -0.002162489495542097, 0.036188384867813284, -0.0038550055155903706, -0.005836018584510327, 0.021051906370341378, -0.020030073389002645, 0.016859082593403407, -0.0019893912662203306, -0.011644425835128924, -0.007336203238644146, 0.0008186466761328504, -0.039705572122058275, 0.025687092288880997, -0.011548260152171697, 0.0038959485307641373, 0.02130193714602946, 0.012531626860326384, 0.008665766405443698, -0.02524225340528652, -0.004720496662206308, 0.005607697687402435, 0.009531257552060524, 0.010723712020730858, -0.029531242865180385, -0.0015277959880251046, 0.0009148123590900781, -0.016798906441639172, -0.002854882412836268, -0.003835772378999458, -0.017664397588253777, 0.02193663065354734, -0.005932184267467555, 0.008011839761334905, 0.012204663538271987, 0.019763286218712928, -0.002720250456695439, 0.00106867745182182, 0.016609051817715326, 0.023148318258808587, 0.016089757129746474, -0.014106267318835464, -0.0029702812323844086, 0.0025303958327711484, -0.01751053249552248, -0.01116359742034323, -0.028050291347638368, 0.014243376016966458, 0.0015302727300152696, -0.0028356492762444674, 0.004376776945550276, -0.002181722632133898, 0.018070770198665542, 0.016051290856562872, 0.018205402154805483, 0.02259055729765702, -0.007855497926613886, -0.009798044722350241, 0.009550490688653213, 0.0027611934718692055, 0.005742329643544153, -0.013490806947908052, 0.008819631498176328, 0.009569723825243237, -0.015721850792517866, 0.017455309827738574, -0.00012377701684851417, -0.011432861332623556, -0.0020663238125857575, -0.021280227267447493, -0.0006623048414100552, -0.014683261416578386, -0.022126485277471186, 0.009454325005694209, 0.008415735629756504, -0.008817154756186163, -0.0384361851070234, -0.003547275330127775, -0.023530504248647333, -0.015798783338883293, -0.009432615127112243, 0.007454078800183339, 0.0019726348716186948, -0.01502945787522414, 0.012146964128498361, 0.012723958226241727, -0.011375161922849486, 0.02318678453199219, -0.0067976754140826046, -0.00523979135017516, 0.005261501228758014, 0.012050798445540245, -0.013009978533122357, -0.005355190169724189, 0.006492421970610174, 0.006280857468104806, -0.01029810627372818, 0.005011470453069045, 0.0022803650570821787, -0.013298475581995817, -0.027454064113302756, -0.010509670776233992, 0.004049813623494991, -0.007086172462955176, 0.003992114213722253, -0.009278750034379613, 0.004376776945550276, 0.0038959485307650255, -0.014567862597030246, -0.0182413916859967, 0.025110098191135855, -0.0012585320757443341, 0.0036459177550751676, -0.02999283814337561, 0.0196671205357557, -0.006297613862705553, 0.008204171127248472, 0.004607574584648333, -0.00914411807824056, 0.024052275678607238, -0.0223957491897524, 0.0017033709593397006, 0.006434722560836548, 1.0854939291427002e-05, 0.016108990266337386, -0.0011815995293789072, -0.00027764210958025615, -0.00825939379503371, -0.025223020268694274, -0.0009892681634635636, -0.013452340674724894, -0.005028226847669792, -0.012182953659690021, -0.015221789241139483, 0.025167797600912145, 0.0063770231510620334, 0.0054730657312642705, 0.0009532786322727915, 0.00406904676008768, -0.001123900119604393, 0.016839849456812495, 0.016762916910447068, 0.015897425763832018, 0.0025880952425456627, -0.014683261416578386, -0.011798290927861554, 0.018263101564580886, 0.0009148123590900781, -0.006297613862704665, 0.0071271154781289425, -0.004124269427871141, -0.003931938061956686, -0.006201448179748326, 0.002338064466855805, -0.011952156020593296, -0.00802859615593654, -0.010894333508062903, 0.006684753336524629, -0.011567493288763053, 0.013185553504436953, 0.004742206540788274, 0.017859205696158398, -0.009182584351422385, 0.03039921075378693, 0.009896687147297634, 0.00747331193677514, -0.006105282496791986, -0.008663289663454421, -0.002047090675994845, -0.014317831821340832, 0.01124300670869971, -0.013202309899037257, -0.018279857959180745, 0.0026842609255020022, -0.012779180894024744, -0.007432368921600485, -0.02655010669350588, 0.00895426345431627, -0.012221419932872735, -0.0003545746559465712, 0.0017226040959306133, -0.01795289463712635, 0.0013187082275090134, -0.001816293036897676, -0.005528288399045955, 0.009627423235016863, -0.00839402575117365, 0.009165827956822525, 0.008896564044542643, -0.007701632833881256, 0.021917397516956427, 0.010839110840278998, -0.018125992866449447, -0.026665505513053134, -0.017548998768705637, 0.0045691083114656195, 0.010666012610955455, -0.008394025751174539, -0.007855497926612998, -0.016625808212315185, 0.0021072668277604123, -0.023184307790000247, 0.012493160587144558, -0.003297244554438805, -0.0012585320757443341, -0.0029702812323852967, -0.018933784603290427, -0.025203787132103805, 0.01751300923751309, -0.007316970102052345, -0.0028164161396517784, 0.017974604515708315, -0.0016239616709823324, -0.008413258887764563, 0.012012332172357532, -0.015164089831365413, -0.003989637471730312, -0.006393779545662781, -0.02418443089275657, 0.009415858732511495, 0.023686846083370128, -0.01531795492409671, 0.0041075130332703935, -0.0180875265932654, 0.0183015678377636, 0.003838249120989623, 0.013224019777619667, 0.0268987798941418, 0.026994945577099916, 0.0218212318339992, -0.0013739308952942508, -0.009124884941649647, -0.0008931024805063359, -0.027646395479218544, 0.009685122644792266, 0.010050552240029376, 0.012012332172357532, 0.007896440941785876, 0.01664751809089804, -0.003027980642158923, -0.0025856185005546095, 0.01849389920367628, 0.010896810250053512, -0.006932307370223434, 0.005800029053319555, 0.014762670704936198, -0.023184307790000247, 0.01639748731520907, 0.0032035556134717424, -0.0011046669830125921, 0.002799659745052807, -0.006489945228620009, -0.004143502564462942, -0.00020070956321482925, -0.010798167825104787, 0.01662828495430624, -0.008797921619594362, 0.00797337348815308, 0.013435584280125035, -0.004739729798798109, 0.00862730013226276, -0.015337188060688511, 0.0157820269442821, 0.007338679980635199, -0.015202556104548126, 0.00431907753577665, -0.011394395059441287, 0.004396010082142077, -0.017125869763693125, 0.021475035375353002, -0.004835895481754449, -0.012125254249915507, -0.006836141687266206, 0.005992360419234011, 0.003088156793923602, -0.005566754672229557, 0.01578202694428299, 0.0037228503014414827, -0.01766439758825422, -0.007182338145912404, 0.00293429170119186, 0.0057807959167277545, -0.0031241463251161505, 0.013320185460576006, 0.002645794652319289, -0.0006430717048182544, -0.009778811585759328, 0.018378500384129026, -0.0057398529015531, -0.0035857416033104883, -0.00043150720231199813, 0.010531380654816402, 0.00022241944179679507, -0.004989760574486191, 0.0019341685984359813, -0.004528165296291853, -0.014163966728609534, 0.0200710164041773, -0.00650917836521181, -0.016914305261187756, -0.0052397913501760485, -0.006413012682254582, 0.0003185851247540228, -0.030685231060667117, -0.005297490759950563, 0.008415735629756504, 0.0011071437250036453, -0.0043935333401510235, 0.010589080064590917, 0.0029727579743745736, -0.015664151382742908, 0.006877084702440861, -0.027280965883981434, -0.009932676678489294, 0.02032104717986538, -0.011355928786257685, -0.00610528249679021, 0.020321047179864493, -0.0036434410130850026, -0.0026817841835127254, -0.010663535868966179, 0.00483837222374639, -0.020337803574464797, 0.016839849456813383, -0.006355313272480068, -0.014125500455426376, -0.004278134520602883, 0.019494022306433045, 0.01139687180143234, 1.0854939290538823e-05, -0.004297367657194684, 0.000972511768862816, 0.02307138571244316, 0.0011263768615963343, 0.012781657636016241, -0.0003353415193556586, -0.0096634127662103, 0.015358897939270477, -0.002335587724866528, -0.0110097323276106, 0.017551475510695802, -0.0029510480957926077, 0.011069908479376167, 0.0036651508916678566, -0.008701755936636246, 0.0218212318339992, -0.015087157284999986, 0.002511162696180236, 0.013493283689900437, 0.0063577900144693444, 0.017089880232501464, 0.011435338074614165, -0.019087649696022613, -0.0004892066120865124, -0.02103019649175808, 0.026264086386624808, -0.013240776172220858, 0.003107389930515403, 0.012781657636016241, 0.004607574584648333, 0.02370607921996193, -0.008490191434131766, 0.018590064886634394, 0.0009148123590900781, -0.007990129882753827, 0.00974282205456678, -0.0096826459028021, -0.030569832241118533, -0.012471450708562593, 0.0019918680082113838, 0.011685368850303135, -0.02339587229250739, -0.01235605188901312, 0.01074294515732177, -0.02235728291656791, -0.031262225158411816, -0.006278380726114641, 0.010685245747548144, 0.005838495326501381, -0.02730019902057279, -0.007547767741149514, 0.014704971295160796, -0.01602958097798135, 0.009281226776370666, 0.017436076691146773, -0.0007777036609581955, 0.0037420834380323953, -0.008817154756186163, -0.021376392950404277, 0.015378131075860502, 0.00862730013226276, -0.0018355261734894768, -0.001566262261207818, -0.0009508018902808502, 0.02335988276131573, -0.019318447335118893, 0.0005878490370347933, 0.013858713285137547, 0.011569970030753218, 0.015435830485635016, -0.004162735701052966, 0.0157627938076903, 0.008242637400432962, 0.008838864634768129, 0.011050675342785254, 0.014858836387894314, -0.030204402645881423, 0.00020318630520499426, -0.00975957844916664, -0.0016047285343914197, -0.002797183003061754, 0.00143410704705893, -0.017625931315071064, 0.011262239845289734, 0.007531011346548766, -0.010259640000544135, -0.014798660236127414, 0.013550983099674951, -0.00423966824742017, -0.007124638736137889, 0.020859575004426034, -0.01826062482258939, -0.017664397588253333, 0.00293429170119186, 0.001972634871619583, 0.004549875174873819, -0.019953140842637662, 0.023398349034496668, -0.01862605441782783, 0.02243669220492528, -0.0062014481797474375, 0.023090618849034072, -0.023088142107043907, -0.02920427954312599, -0.016202679207304005, -0.01701047094414454, -0.026338542190999625, 0.007165581751311656, -0.02618467709826744, -0.018145226003040804, 0.0002801188515721975, -0.031685354163423884, -0.011432861332623556, -0.031935384939111966, 0.007107882341537142, -0.00208555694917667, 0.004222911852819422, 0.018128469608440057, 0.021051906370341378, 0.011473804347795102, 0.0006263153102175067, -0.00600911681383387, -0.020068539662186247, -0.00010454388025760153, 0.018320800974354512, -0.010952032917836974, -0.019029950286247654, 0.0072809805708606845, -0.0019893912662203306, -0.019895441432862704, -0.014106267318836352, -0.0019509249930358408, 0.0010879105884118445, 0.018859328798915165, 0.009915920283889434, 0.0024534632864057215, -0.026492407283730035, 0.01689754886658701, -0.009701879039393013, -0.013971635362694634, -0.0009892681634644518, 0.005703863370360551, 0.012223896674863788, 0.005511532004446096, 0.008069539171110307, -0.0043935333401510235, -0.0025856185005546095, 0.004396010082142077, -0.016010347841389105, 0.006857851565848172, -0.011644425835128924, -0.008836387892777076, -0.0009315687536899375, 0.011993099035766619, 0.026244853250032563, 0.019686353672346613, 0.005973127282641322, 0.003607451481892454, 0.0011840762713690722, 0.00960819009842595, -0.021030196491759412, -0.021895687638373573, 0.004049813623495879, 0.011704601986894936, -0.0033741771008051202, -0.02876191740152212, 0.01212773099190656, -0.010971266054428774, -0.008317093204806447, -0.004201201974237456, 0.008300336810207476, 0.00028011885157130934, -0.00435506706696831, -0.013086911079488228, 0.01187770021621759, -0.014452463777481217, 0.010800644567096285, -0.011028965464203289, -0.012432984435378991, 0.0006647815834002202, 0.005165335545800787, -0.017241268583242153, -0.012029088566958723, -0.012144487386506864, 0.013993345241278377, 0.010935276523236226, 0.02270595611720605, 0.004453709491916591, -0.00652841150180361, -0.007009239916588861, 0.003472819525752513, -0.013202309899037257, 0.004453709491917479, -0.00904795239528422, 0.006992483521989001, -0.0032587782812560917, -0.003162612598297976, 0.011781534533260363, 0.005896194736275895, 0.0003185851247540228, -0.0022201889053183876, -0.009701879039393013, -0.014837126509310128, 0.010262116742535632, -0.001873992446671302, 0.0004339839443030513, -0.0026817841835127254, -0.014490930050664375, -0.023030442697269393, 0.013570216236264976, -0.004393533340151912, -0.004643564115840881, 0.008896564044542643, 0.005107636136026272, 0.010435214971859175, 0.0050884029994344715, 0.01589742576383113, -0.005008993711077991, 0.0048576053603364144, -0.0064322458188454945, 0.011704601986894048, 0.0007417141297656471, 0.007204048024494369, 0.0069732503853972005, -0.016125746660937246, 0.0032227887500644314, 0.016782150047037092, 0.003857482257582312, 0.0055499982776296974, 0.008396502493164704, 0.0017033709593397006, 0.021128838916705917, -0.02108789590153215, 0.021859698107181913, -0.0011431332561961938, 0.011069908479377055, -0.015971881568206392, 0.004203678716227621, 0.009011962864091672, 0.020032550130993698, 0.009512024415468723, 0.013012455275112522, 0.0014533401836498427, -0.02479989126368265, 0.012839357045790756, -0.012990745396531, 0.00418444557963582, 0.008454201902939218, 0.00924276050318884, 0.00922352736659704, -0.012663782074475716, 0.03255332205202821, -0.005028226847669792, 0.021051906370341378, -0.012240653069464091, -0.026377008464183227, 0.00849266817612282, 0.0009725117688637042, 0.01843619979390354, -0.02183798822859906, -0.008836387892777964, -0.008201694385258307, 0.003165089340289917, -0.011067431737386002, 0.006800152156073658, 0.008665766405443698, -0.010144241180995994, -0.006355313272480068, 0.0009725117688637042, -0.0017970599003058751, 0.007665643302689595, 0.0028188928816428316, 0.0032227887500635433, 0.025764024835246424, 0.008588833859078271, 0.002722727198685604, 0.011916166489400304, -0.0017778267637140743, -0.01418319986520089, 0.001299475090918989, 0.022244360839010824, -0.013548506357682566, -0.003528042193535086, -0.0074131357850095725, -0.012317585615829518, -0.014413997504298948, -0.01993390770604453, 0.0026842609255037786, -0.014798660236127414, 0.012050798445541133, 0.022109728882870883, 0.001299475090918989, 0.012858590182382557, -0.007643933424106741, -0.0016239616709823324, 0.011339172391656938, -0.015606451972968838, -0.000816169934140909, -0.010298106273727292, -0.014240899274975849, 0.012897056455564382, -0.0217995219554159, 0.01287782331897347, 0.023763778629735555, -0.0039511711985484865, -0.0015662622612087063, -0.007701632833881256, 0.0012417756811435865, -0.026665505513054022, 0.002722727198686492, 0.004607574584649221, 0.003934414803947739, 0.009300459912962467, -0.012663782074476604, -0.0026817841835118372, 0.006684753336524629, 0.017493776100922176, -0.015125623558182255, 0.0039536479405386515, 0.009146594820231613, -0.0019316918564458163, 0.0028958254280091467, -0.017529765632112948, -0.002835649276243579, -0.009374915717337728, 0.009165827956821637, -0.017183569173467195, 0.009185061093415214, -0.018953017739881783, 0.01151227062098048, -0.019568478110807863, 0.03728467365352639, 0.010319816152310146, 0.013127854094662439, 0.017455309827738574, 0.0012033094079617612, 0.0032997212964298583, 0.0028958254280091467, 0.01451263992924634, 0.004876838496928215, 0.014724204431751708, 0.012666258816466325, -0.0015662622612087063, 0.020244114633500843, 0.0069155509756235745, 0.026014055610935394, 0.0047806728139709875, 0.018013070788891028, 0.0018572360520714426, 0.012800890772607154, -0.00864405652686262, 0.017916905105932912, 0.00443447635532479, 0.0054538325946715815, 0.014262609153558259, -0.007855497926612998, -0.022799645058172224, 0.0002608857149795085, -0.019356913608302495, -0.012317585615829962, 0.024398472137253435, 0.01566662812473396, 0.010589080064590917, -0.017837495817577764, 0.012050798445542021, 0.0068193852926654586, -0.023145841516817978, 0.0010686774518209319, 0.005011470453068156, 0.003011224247557287, -0.0035088090569441732, 0.0023765307400402946, 0.0010494443152300192, 0.01766687433024483, -0.004085803154688428, 0.008858097771359041, -0.005028226847669792, 0.00531920063853164, 0.014204909743781968, 0.00922352736659704, -0.006970773643406147, 0.012897056455564382, 0.008184937990658447, 0.008761932088401814, 0.0011263768615963343, 0.009031196000682584, 0.015531996168594908, 0.023244483941765814, -0.005701386628371274, 0.003395886979387086, -0.01168289210831297, 0.0047806728139709875, -0.0062206813163401264, -0.009817277858940265, -0.011163597420344118, -0.005220558213584248, -0.026973235698517506, -0.012240653069464091, -0.006682276594534464, -0.001508562851434192, 0.003722850301442371, -0.0015277959880251046, 0.02470620232271603, -0.020760932579478197, 0.009550490688653213, 0.00406904676008768, 0.010185184196170205, 0.01062754633777363, -0.01249068384515395, -0.00862482339027082, -0.0221841846872457, 0.0029342917011927483, 0.0007417141297656471, -0.015279488650913997, 0.005742329643544153, -0.015548752563194324, -0.0008354030707327098, -0.001123900119604393, -0.008874854165959789, -0.009701879039392125, 0.0007224809931765108, -0.017087403490510855, 0.0074348456635924265, 0.0069540172488045116, -0.018876085193515024, 0.0003570513979376244, -0.0151256235581827, 0.008434968766348305, -0.021530258043136463, 0.006530888243793775, -0.0044127664767437125, -0.03349326900302074, -0.004412766476742824, 0.00593466100945772, -0.0012969983489270476, 0.01662828495430624, -0.019068416559429924, 0.014108744060825629, 0.006780919019481857, 0.010916043386645313, -0.0025856185005554977, -0.00891332043914339, 0.013339418597168695, 0.04268918503572516, 0.016224389085885527, -0.012529150118336219, 0.004357543808960251, -0.0057590860381449005, 0.0023957638766312073, -0.0078939641997966, -0.014990991602043202, 0.008704232678628188, 0.001145609998187247, 0.006396256287653834, 0.0016072052763815847, -0.0002584089729893435, 0.010396748698676461, -0.009028719258691531, 0.0049345379067027295, 0.00645395569742746, 0.007781042122238624, 0.00418444557963582, 0.010473681245041888, 0.012262362948046501, -0.0012392989391534215, 0.0003570513979376244, -0.007163105009320603, -0.01606804725116362, -0.0032587782812560917, -0.004470465886518227, -0.013952402226103278, -0.01401010163587868, 0.0056076976874033235, 0.010396748698675573, 0.012704725089650815, -0.01058660332259942, 0.0010494443152300192, 0.021628900468083856, -0.0013162314855197366, 0.034130439252528344, -0.015875715885249164, 0.006511655107202863, -0.022703479375214997, -0.01808752659326629, -0.019587711247399664, 0.006896317839031774, 0.012185430401681074, 0.006415489424245635, -0.0021240232223602717, -0.02253038114589101, 0.03247638950566323, 0.0024534632864066097, 0.0008571129493155638, -0.012086787976731905, 0.010415981835266486, -0.02847342035265088, -0.014087034182244107, 0.0029727579743745736, 0.01187770021621759, 0.005492298867855183, -0.009913443541898381, 0.011781534533260363, -0.01574108392910878, 0.0161859228127037, 0.012647025679874524, -0.005836018584510327, 0.017628408057062117, -0.009644179629618499, 0.013589449372856777, 0.013089387821479725, -0.004470465886518227, 0.008858097771359041, 0.010550613791408203, -0.01174059151808704, -0.004739729798798109, 0.025552460332741056, -0.0009508018902808502, -0.007086172462956064, 0.023898410585875496, 0.007338679980636087, 0.0062039249217376025, 0.008377269356573791, 0.0007609472663583361, 0.0183015678377636, 0.03068770780265906, 0.002338064466856693, -0.025069155175963864, 0.0037228503014414827, -0.00852865770731448, 0.00935815932273698, 0.01726297846182323, 0.017705340603427544, -0.0011239001196035048, -0.02830032212332778, 0.005723096506951464, -0.008297860068216423, -0.01112513114716096, -0.01601034784138955, 0.021167305189889518, -0.008624823390269931, 0.008165704854067535, -0.0013739308952933627, 0.006780919019482745, -0.017683630724845578, 0.009031196000682584, -0.00029687524617205696, -0.03170458730001524, -0.0023740539980501296, -0.014914059055676887, 0.00722328116108617, -0.0006430717048182544, -0.00245098654441378, 0.012416228040778243, -0.0186452875544183, -0.017125869763693125, 0.02372531235655284, -0.0037973061058176327, 0.006338556877880208, -0.006086049360200185, -0.009701879039392125, 0.005857728463092293, -0.022741945648396822, 0.0039536479405386515, 0.01353174996308315, -0.00600911681383387, 0.020013316994402786, 0.017955371379116514, 0.0035882183453015415, 0.00924276050318884, 0.0027227271986847157, -0.013625438904047993, -0.008086295565711055, -0.014221666138384492, -0.005585987808822246, 0.0053192006385325286, -0.001431630305067877, 0.0005109164906693664, 0.0011071437250036453, -0.001950924993036729, 0.003934414803947739, 0.01297398900192892, 0.00706941606835354, -0.007567000877742203, 0.004472942628507504, -0.0017201273539386719, -0.002412520271231955, -0.006816908550674405, 0.0025303958327720366, 0.010550613791408203, 0.017974604515708315, -0.0037011404228586287, 0.006261624331513893, 0.006030826692415836, -0.007643933424106741, -0.005836018584510327, -0.02737713156693733, 0.00458834144805742, 0.004876838496928215, -0.027184800201022874, 0.009531257552060524, -0.0065861109115772365, 0.018128469608440057, -0.01237528502560492, 0.0249754662349968, -0.0024509865444146683, 0.028245099455544764, 0.024148441361564466, -0.001046967573238966, 0.013858713285137547, 0.008261870537023874, -0.019645410657173734, 0.00795414035156039, -0.01349080694790894, 0.01097374279641894, -0.015279488650914441, -0.0204532023940156, -0.006836141687266206, 0.0018380029154787536, 0.013166320367844264, 0.013166320367844264, -0.012029088566958723, 0.0062808574681039175, 0.0047037402676046725, 0.0017995366422969283, 0.020321047179864493, 0.006780919019481857, -0.006682276594534464, 0.010012085966846662, 0.006800152156073658, -0.01926074792534438, 0.016455186724982696, -0.0029895143689762094, -0.00208555694917667, -0.003931938061956686, 0.020878808141017835, 0.019243991530744076, 0.009165827956822525, 0.0024342301498139207, -0.010009609224855609, -0.021203294721082067, -0.011817524064452023, -0.00018147642662302843, -0.006547644638394523, -0.003778072969225832, 0.01812846960843917, -0.0001430101534394268, 0.019147825847786848, 0.007934907214970366, -0.02549228418097549, -0.004874361754938938, -0.0022201889053174995, -0.0014508634416587896, -0.010375038820093163, 0.005146102409208986, -0.007124638736137889, -0.004181968837645655, -0.012356051889012232, 0.002184199374124951, -0.002316354588274727, 0.0031073899305145147, 0.011531503757571393, 0.007704109575871421, -0.009394148853930417, -0.0011623663927879946, 0.016820616320220694, 0.016435953588391783, -0.0151640898313663, 0.014474173656062739, 0.0017226040959306133, 0.004665273994421959, -0.0029125818226098943, 0.016474419861574496, 0.01487806952448345, 0.00645395569742746, -0.03443569269600122, -0.011990622293776898, -0.00687460796044892, -0.015394887470462582, -0.007297736965460544, 0.006761685882890944, -0.018010594046900863, 0.025513994059557454, -0.0009508018902808502, -0.017106636627101768, -0.002181722632134786, 0.022859821209937792, -0.004585864706065479, -0.009413381990520442, 0.010569846927998228, -0.002200955768726587, 0.0037613165746250843, 0.014685738158569883, 0.012377761767594642, -0.0012200658025616207, 0.0013956407738762167, 0.010550613791408203, -0.0024509865444146683, 0.014262609153559147, 0.012320062357822792, 0.0011263768615963343, -0.005643687218595872, -0.004989760574486191, 0.006992483521989001, 0.005973127282641322, -0.00787473106320391, -0.008355559477991825, -0.008317093204806447, 0.001145609998187247, 0.013704848192404917, -0.0030472137787498355, -0.007163105009319715, -0.0018355261734885886, -0.006124515633382899, 0.01185846707962579, 6.855434906505309e-05, -0.0029510480957926077, 0.001357174500692615, 0.005800029053318667, 0.004780672813971876, 0.0035882183453015415, 0.015916658900422043, -0.00423966824742017, 0.005838495326501381, -0.005951417404060244, 0.0218212318339992, 0.007550244483140567, 0.008165704854067535, 0.01680138318363067, -0.00902871925869242, 0.017974604515708315, -0.020510901803789228, -0.008317093204807335, -0.005355190169724189, -0.009624946493026698, 0.00633855687787932, -0.006259147589521952, 0.03882332458084381, -0.0028933486860172053, -0.006759209140899891, 0.025687092288881885, -0.0023932871346410423, 0.009588956961835038, -0.02091479767220994, -0.01656810880254156, 0.023398349034498445, -0.010490437639642192, -0.0018162930368967878, -0.008470958297539077, -0.009413381990520442, 0.011319939255065137, -0.019953140842636774, 0.010185184196170205, -0.00864405652686262, 0.0033766538427952852, -0.0075477677411486255, 0.013300952323984205, 0.006569354516977377, 0.02559092660592288, -0.00021994269980663006, -0.004220435110829257, -0.010663535868966179, -0.0131638436258541, 0.007761808985646823, -0.0031049131885243497, -0.006066816223607496, -0.005585987808822246, 0.002568862105953862, -0.016202679207303117, 0.01805153706207463, 0.017513009237513977, -0.0001622432900321158, -0.0057398529015531, 0.014474173656063627, 0.021013440097157776, 0.004973004179886331, 0.005838495326501381, 0.01162766944052862, 0.01010825164980389, -0.0034318765105787463, 0.0053961331848979555, -0.014952525328858268, 0.012435461177369156, -0.017202802310059884, 0.01664751809089804, -0.005008993711077991, -0.0010085013000553644, -0.007913197336386624, 0.015955125173605644, 0.001587972139790672, 0.01512810030017242, 0.0032227887500635433, 0.0015495058666079586, 0.006396256287653834, -0.008874854165959789, -0.0003353415193556586, -0.026973235698517062, 0.0235522141272293, 0.01451263992924634, 0.01755147551069669, 0.007357913117226111, -0.01997237397922902, 0.002780426608460118, -0.017760563271212337, -0.0028741155494262927, -0.012413751298788078, 0.007030949795171715, 0.011877700216216702, 0.0041267461698630825, 0.0007224809931747345, -0.0053167238965423635, 0.004165212443044908, -0.015144856694774056, 0.027014178713690384, 0.0228021218001615, -0.000508439748677425, 0.007665643302689595, 0.027418074582111984, 0.02774503790416727, -0.008009363019343851, -0.02439599539526327, -0.012952279123347843, -0.002181722632133898, -0.015394887470462582, -0.01306767794289776, 0.020648010501920666, 0.006492421970611062, 0.021378869692393998, -0.002912581822609006, -0.00739390264841866, 0.0030689236573326895, -0.0037203735594504295, 0.010242883605942943, -0.025530750454158202, -0.0026048516371464103, -0.014567862597031134, 0.012146964128498361, -0.004124269427871141, 0.007934907214969478, -0.03014670323610691, 0.02672568166481959, 0.004530642038282018, 0.007069416068354428, -0.019376146744892964, 0.015551229305184933, 0.013820247011954834, -0.01985697515968088, 0.017878438832751087, -0.003143379461707063, 0.020782642458060607, 0.021359636555803974, 0.0006070821736257059, 0.018474666067087142, -0.0186837538276019, -0.02664627237646311, 0.011723835123486737, -0.032666244129587074, -0.012663782074477492, 0.019686353672346613, -0.0058937179942839535, -0.004508932159700052, -0.014606328870212959, -0.0037973061058167445, 0.002722727198686492, -0.030031304416558324, -0.01066353586896529, -0.00687460796044892, -0.00637454640907098, -0.010778934688513875, 0.022263593975602625, 0.006684753336523741, 0.004896071633520016, 0.009550490688652324, -0.004431999613334625, -0.008009363019343851, 0.012954755865338896, -0.010548137049416262, -0.01691430526118687, -0.008201694385258307, 0.009281226776370666, 0.0070501829317626274, 0.011550736894163194, -0.0006430717048182544, 0.011281472981883311, -0.00810552870230108, -0.006355313272480068, 0.01766687433024483, -0.0014700965782505904, -0.01704893721732814, -0.012644548937884803, -0.0047012635256145074, 0.0004147508077121387, 0.0037613165746250843, -0.0012200658025625088, -0.00362420787649409, -0.003835772378999458, -0.020280104164692503, 0.006319323741288407, -0.01722203544665124, 0.0010686774518209319, -0.008624823390271708, -0.02049166866719787, 0.007011716658580802, 0.003088156793922714, 0.005184568682391699, -0.0009123356170981367, -0.005509055262455931, 0.021475035375352114, -0.0032587782812552035, -0.005989883677242069, -0.01795289463712546, -0.026242376508043286, -0.0019124587198549037, 0.011204540435516996, -0.005470588989272329, 0.027321908899154757, -0.010952032917836974, 0.008338803083389301, 0.00622315805833118, 0.012454694313960957, 0.008838864634768129, 0.006011593555824035, -0.009124884941649647, -0.016491176256174356, -0.006278380726114641, -0.004278134520603771, 0.023167551395400388, 0.016282088495659153, -0.0013354646221106492, 0.0338034759304735, 0.0006840147199911328, 0.004376776945551164, 0.005184568682391699, 0.003780549711215997, 0.003972881077129564, 0.00758871075632328, 0.01060831320118183, 0.0018187697788869528, 0.005069169862843559, 0.005703863370361439, 0.002318831330264892, 0.0021457331009413494, -0.011798290927861554, -0.014510163187256175, 0.025302429557051198, -0.0047012635256145074, 0.016051290856562872, -0.00285488241283538, -0.014010101635879124, -0.012221419932872735, 0.005011470453068156, -0.010971266054428774, -0.019318447335118893, -0.013125377352670942, -0.007547767741149514, -0.015914182158432322, 0.01462803874879448, -0.011105898010568716, -0.004201201974236568, -0.02112636217471575, -0.005566754672229557, 0.007088649204946229, 0.0012610088177362755, 0.0038959485307650255, 0.02207126260968728, 0.014685738158569883, 0.002722727198685604, -0.011067431737386002, 0.02257132416106522, -0.015279488650914441, -0.044129193538093414, 0.0068963178390308855, -0.011067431737386002, 0.03336111378887052, -0.00714387187272969, 0.008184937990658447, 0.005761562780135954, -0.018895318330107713, -0.0037973061058167445, -0.004682030389022707, 0.008742698951810901, 0.028745161006921816, -0.00020070956321482925, -0.014721727689761543, -0.0017970599003058751, -0.016606575075724272, 0.02812970063599529, -0.025530750454158646, -0.024953756356413948, -0.008297860068216423, -0.023030442697269837, 0.011031442206193454, 0.013743314465588519, 0.025244730147276684, -0.022088019004288473, 0.010185184196170205, -0.008355559477990937, -0.019549244974216062, -0.0017778267637140743, 0.012281596084638302, 0.008127238580883933, -0.01435629809452399, 0.021225004599664032, -0.040205633673436214, 0.01905166016482962, -0.003912704925365773, 0.009569723825243237, -0.007701632833881256, 0.00908889541045621, -0.025953879459169826, 6.855434906594127e-05, -0.021299460404037962, -0.007740099107063969, 0.013416351143534122, -0.0033549439642124312, -0.0035665084667177993, -0.013029211669714602, 0.0035689852087097407, 0.030841572895390357, -0.00037380779253837204, -0.0017201273539386719, -0.004066570018095739, -0.014125500455426376, 0.002241898783898577, 0.004742206540788274, -0.010105774907812837, 0.016724450637263466, 0.0161474565395201, 0.007107882341537142, -0.01556798569978568, -0.008971019848917017, 0.012666258816466325, -0.0034895759203532606, 0.00722328116108617, -0.002393287134640154, -0.006239914452931039, -0.0008738693439163114, -0.010375038820093163, 0.017628408057062117, 0.0011648431347781596, -0.012779180894024744, 0.005357666911714354, -0.022434215462935114, -0.010855867234879746, 0.002799659745051919, -0.0018547593100795012, -0.012221419932872735, 0.00022241944179679507, -0.00423966824742017, -0.02183798822859906, -0.022588080555665524, -0.007374669511826859, 0.0005878490370339051, -0.012625315801293446, -0.011644425835128924, -0.01531795492409671, 3.0088075883227816e-05, 0.013935645831502974, -0.03041596714838679, -0.01568338451933382, -0.01327924244540224, -0.006182215043156525, -0.011432861332623112, -0.02406903207320843, -0.007201571282504204, 0.009742822054565892, -0.013317708718584953, -0.009201817488014186, -0.00647071209202732, 0.0059346610094594965, 0.017128346505684178, -0.017145102900286258, 0.0016072052763815847, 0.027629639084617796, 0.0026073283791374635, 0.020494145409188036, 0.00545383259467247, 0.011858467079626678, 0.00018395316861408162, -0.0033549439642124312, 0.010089018513212977, 0.0052615012287589025, -0.004739729798798109, -0.0003930409291292847, -0.009894210405308357, -0.016798906441638728, 0.0004916833540766774, 0.017589941783879404]\n"
     ]
    }
   ],
   "source": [
    "print(difference)"
   ]
  },
  {
   "cell_type": "code",
   "execution_count": 130,
   "metadata": {
    "colab": {},
    "colab_type": "code",
    "id": "KhqgDFd3FcwB"
   },
   "outputs": [
    {
     "name": "stdout",
     "output_type": "stream",
     "text": [
      "0.0015085628514261984\n"
     ]
    }
   ],
   "source": [
    "# Now make a variable called obs_difference, and assign it the result of the mean of our 'apple' variable and the mean of our 'google variable'\n",
    "\n",
    "t=df[df['platform']=='apple']['Permutation']\n",
    "s=df[df['platform']=='google']['Permutation']\n",
    "obs_difference=np.mean(t)-np.mean(s)\n",
    "\n",
    "# Make this difference absolute with the built-in abs() function. \n",
    "\n",
    "obs_difference=np.abs(obs_difference)\n",
    "\n",
    "# Print out this value; it should be 0.1420605474512291. \n",
    "print(obs_difference)"
   ]
  },
  {
   "cell_type": "markdown",
   "metadata": {
    "colab_type": "text",
    "id": "QUNuuSgDFcwE"
   },
   "source": [
    "## Stage 4 -  Evaluating and concluding\n",
    "### 4a. What is our conclusion?"
   ]
  },
  {
   "cell_type": "code",
   "execution_count": 136,
   "metadata": {
    "colab": {},
    "colab_type": "code",
    "id": "XMQHnqx1FcwF"
   },
   "outputs": [
    {
     "name": "stdout",
     "output_type": "stream",
     "text": [
      "4546\n",
      "5454\n"
     ]
    }
   ],
   "source": [
    "'''\n",
    "What do we know? \n",
    "\n",
    "Recall: The p-value of our observed data is just the proportion of the data given the null that's at least as extreme as that observed data.\n",
    "\n",
    "As a result, we're going to count how many of the differences in our difference list are at least as extreme as our observed difference.\n",
    "\n",
    "If less than or equal to 5% of them are, then we will reject the Null. \n",
    "'''\n",
    "\n",
    "positive_=[]\n",
    "negative_=[]\n",
    "\n",
    "for i in range(len(difference)):\n",
    "    if (difference[i]>=obs_difference):\n",
    "        positive_.append(difference[i])\n",
    "    elif (difference[i]<=obs_difference):\n",
    "        negative_.append(difference[i])\n",
    "print(len(positive_))\n",
    "print(len(negative_))"
   ]
  },
  {
   "cell_type": "markdown",
   "metadata": {
    "colab_type": "text",
    "id": "4RTofY9wFcwI"
   },
   "source": [
    "### 4b. What is our decision?\n",
    "So actually, zero differences are at least as extreme as our observed difference!\n",
    "\n",
    "So the p-value of our observed data is 0. \n",
    "\n",
    "It doesn't matter which significance level we pick; our observed data is statistically significant, and we reject the Null.\n",
    "\n",
    "We conclude that platform does impact on ratings. Specifically, we should advise our client to integrate **only Google Play** into their operating system interface. "
   ]
  },
  {
   "cell_type": "markdown",
   "metadata": {
    "colab_type": "text",
    "id": "Cu_eh7fTFcwJ"
   },
   "source": [
    "### 4c. Other statistical tests, and next steps\n",
    "The test we used here is the Permutation test. This was appropriate because our data were not normally distributed! \n",
    "\n",
    "As we've seen in Professor Spiegelhalter's book, there are actually many different statistical tests, all with different assumptions. How many of these different statistical tests can you remember? How much do you remember about what the appropriate conditions are under which to use them? \n",
    "\n",
    "Make a note of your answers to these questions, and discuss them with your mentor at your next call. \n"
   ]
  }
 ],
 "metadata": {
  "colab": {
   "collapsed_sections": [
    "5fbRq2MZFcvq",
    "4RTofY9wFcwI",
    "Cu_eh7fTFcwJ"
   ],
   "name": "Springboard Apps project - Tier 3 - Complete.ipynb",
   "provenance": []
  },
  "kernelspec": {
   "display_name": "Python 3",
   "language": "python",
   "name": "python3"
  },
  "language_info": {
   "codemirror_mode": {
    "name": "ipython",
    "version": 3
   },
   "file_extension": ".py",
   "mimetype": "text/x-python",
   "name": "python",
   "nbconvert_exporter": "python",
   "pygments_lexer": "ipython3",
   "version": "3.7.4"
  }
 },
 "nbformat": 4,
 "nbformat_minor": 1
}
